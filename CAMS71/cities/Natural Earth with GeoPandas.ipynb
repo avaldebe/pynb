{
 "cells": [
  {
   "cell_type": "markdown",
   "metadata": {},
   "source": [
    "# Natural Earth with GeoPandas"
   ]
  },
  {
   "cell_type": "code",
   "execution_count": null,
   "metadata": {},
   "outputs": [],
   "source": [
    "import numpy as np\n",
    "import pandas as pd\n",
    "import shapely as shp\n",
    "import geopandas as gpd\n",
    "import holoviews as hv\n",
    "import geoviews as gv\n",
    "\n",
    "from io import StringIO\n",
    "\n",
    "tiles = 'https://maps.wikimedia.org/osm-intl/{Z}/{X}/{Y}@2x.png'\n",
    "hv.notebook_extension('bokeh')"
   ]
  },
  {
   "cell_type": "markdown",
   "metadata": {},
   "source": [
    "## Populated Places\n",
    "> City and town points, from Tokyo to Wasilla, Cairo to Kandahar\n",
    "http://www.naturalearthdata.com/downloads/10m-cultural-vectors/10m-populated-places/"
   ]
  },
  {
   "cell_type": "code",
   "execution_count": null,
   "metadata": {},
   "outputs": [],
   "source": [
    "ne10m = '/lustre/storeB/project/fou/kl/emep/CAMS71/NE10m/ne_10m_populated_places_simple.shp'\n",
    "%time ne = gpd.read_file(ne10m)\n",
    "ne.head()"
   ]
  },
  {
   "cell_type": "markdown",
   "metadata": {},
   "source": [
    "## Define cities"
   ]
  },
  {
   "cell_type": "code",
   "execution_count": null,
   "metadata": {},
   "outputs": [],
   "source": [
    "cities = \"\"\"\n",
    "Vienna Brussels Sofia Zagreb Nicosia\n",
    "Prague Copenhagen Tallinn Helsinki Paris\n",
    "Berlin Athens Budapest Reykjavik Dublin\n",
    "Rome Riga Vilnius Luxembourg Valletta\n",
    "Amsterdam Rotterdam Oslo Warsaw Lisbon\n",
    "Bucharest Bratislava Ljubljana Barcelona Madrid\n",
    "Stockholm Bern Zurich London Milan\n",
    "Lille Lyon Frankfurt\n",
    "\"\"\".strip().split()\n",
    "\n",
    "ne['ls_name'].fillna(value='', inplace=True)\n",
    "mask = ne.nameascii.isin(cities)|ne.ls_name.isin(cities)\n",
    "gdf = ne[mask][['nameascii','geometry']].rename(columns={'nameascii':'city'})\n",
    "gdf.loc[gdf.city == 'Kobenhavn', 'city'] = 'Copenhagen'"
   ]
  },
  {
   "cell_type": "markdown",
   "metadata": {},
   "source": [
    "Some cities are defined twice, with some quite strange locations"
   ]
  },
  {
   "cell_type": "code",
   "execution_count": null,
   "metadata": {},
   "outputs": [],
   "source": [
    "gdf.plot(marker='*', color='green', markersize=5)"
   ]
  },
  {
   "cell_type": "code",
   "execution_count": null,
   "metadata": {},
   "outputs": [],
   "source": [
    "gdf.sort_values(by=['city'])"
   ]
  },
  {
   "cell_type": "markdown",
   "metadata": {},
   "source": [
    "## Model grid"
   ]
  },
  {
   "cell_type": "code",
   "execution_count": null,
   "metadata": {},
   "outputs": [],
   "source": [
    "# MACC14 grid midpoints\n",
    "grid = dict(\n",
    "    x=dict(start=-30, stop=45, step=0.25 , name='lon', units='degrees_east'),\n",
    "    y=dict(start= 30, stop=76, step=0.125, name='lat', units='degrees_north'),\n",
    ")\n",
    "\n",
    "# boundaries (first/last)\n",
    "first_bnd = lambda start, step, **kwa: start-step*0.5\n",
    "last_bnd = lambda stop, step, **kwa: stop+step*0.5\n",
    "\n",
    "x0, x1 = first_bnd(**grid['x']), last_bnd(**grid['x'])\n",
    "y0, y1 = first_bnd(**grid['y']), last_bnd(**grid['y'])\n",
    "\n",
    "# model domain\n",
    "domain = shp.geometry.Polygon([(x0,y0), (x0,y1), (x1,y1), (x1,y0)])\n",
    "domain"
   ]
  },
  {
   "cell_type": "markdown",
   "metadata": {},
   "source": [
    "discard points outside of the mkodel domain"
   ]
  },
  {
   "cell_type": "code",
   "execution_count": null,
   "metadata": {},
   "outputs": [],
   "source": [
    "gdf = gdf[gdf.within(domain)].copy()\n",
    "gdf.plot(marker='*', color='green', markersize=5)"
   ]
  },
  {
   "cell_type": "code",
   "execution_count": null,
   "metadata": {},
   "outputs": [],
   "source": [
    "gdf['lon'] = gdf.geometry.apply(lambda x: x.coords[0][0])\n",
    "gdf['lat'] = gdf.geometry.apply(lambda x: x.coords[0][1])\n",
    "ds = hv.Dataset(gdf.reset_index(), kdims=['lon','lat'], vdims=['city'])"
   ]
  },
  {
   "cell_type": "code",
   "execution_count": null,
   "metadata": {},
   "outputs": [],
   "source": [
    "%%opts Overlay [width=600 height=350] Points [tools=['hover']]\n",
    "\n",
    "gv.WMTS(tiles) * ds.to(gv.Points)"
   ]
  },
  {
   "cell_type": "markdown",
   "metadata": {},
   "source": [
    "### 3x3 grid area"
   ]
  },
  {
   "cell_type": "code",
   "execution_count": null,
   "metadata": {},
   "outputs": [],
   "source": [
    "# 1st boundary\n",
    "for k,v in grid.items():\n",
    "    grid[k]['first'] = first_bnd(**v)\n",
    "\n",
    "# round up/down to grid\n",
    "minb = lambda x, first, step, **kwa: x-np.remainder(x-first,step)\n",
    "maxb = lambda x, first, step, **kwa: minb(x+step,first,step)\n",
    "\n",
    "# 1x1 grid: \n",
    "grid1 = lambda x0,y0,x1,y1: dict(\n",
    "    minx=minb(x0, **grid['x']),\n",
    "    miny=minb(y0, **grid['y']),\n",
    "    maxx=maxb(x1, **grid['x']),\n",
    "    maxy=maxb(y1, **grid['y']),\n",
    ")\n",
    "\n",
    "# 3x3 grid\n",
    "grid9 = lambda x0,y0,x1,y1: dict(\n",
    "    minx=x0-grid['x']['step'],\n",
    "    miny=y0-grid['y']['step'],\n",
    "    maxx=x1+grid['x']['step'],\n",
    "    maxy=y1+grid['y']['step'],\n",
    ")\n",
    "\n",
    "gdf['grid1'] = gdf.geometry.apply(lambda x: shp.geometry.box(**grid1(*x.bounds)))\n",
    "gdf['grid9'] = gdf.grid1.apply(lambda x: shp.geometry.box(**grid9(*x.bounds)))\n",
    "df = gdf.drop('geometry', axis='columns')"
   ]
  },
  {
   "cell_type": "code",
   "execution_count": null,
   "metadata": {},
   "outputs": [],
   "source": [
    "%%opts Polygons [tools=['hover'] width=650 height=300]\n",
    "\n",
    "gv.WMTS(tiles) * \\\n",
    "gv.Polygons(df.rename(columns={'grid9':'geometry'}), \n",
    "            vdims=['city','lon','lat']) * \\\n",
    "gv.Polygons(df.rename(columns={'grid1':'geometry'})) * \\\n",
    "ds.to(gv.Points)"
   ]
  }
 ],
 "metadata": {
  "kernelspec": {
   "display_name": "Python 3",
   "language": "python",
   "name": "python3"
  },
  "language_info": {
   "codemirror_mode": {
    "name": "ipython",
    "version": 3
   },
   "file_extension": ".py",
   "mimetype": "text/x-python",
   "name": "python",
   "nbconvert_exporter": "python",
   "pygments_lexer": "ipython3",
   "version": "3.6.4"
  },
  "toc": {
   "nav_menu": {},
   "number_sections": true,
   "sideBar": true,
   "skip_h1_title": false,
   "title_cell": "Table of Contents",
   "title_sidebar": "Contents",
   "toc_cell": false,
   "toc_position": {},
   "toc_section_display": true,
   "toc_window_display": false
  }
 },
 "nbformat": 4,
 "nbformat_minor": 2
}
