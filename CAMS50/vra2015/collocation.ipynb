{
 "cells": [
  {
   "cell_type": "markdown",
   "metadata": {},
   "source": [
    "# CAMS50 VRA2015 Collocated obs/runs\n",
    "CAMS50 runs a reanalysis with validated obrvations 2 years after the fact.\n",
    "On the 2015 Validated ReAnalysis, or VRA2015 for short, the EMEP analysis results\n",
    "failed to capture O3 and PM10 exedances. PM10 was not assimilated, so no surprice there.\n",
    "The O3 exedances were missed as the assimation system was set to reject observations\n",
    "larger than 150 ug/m3."
   ]
  },
  {
   "cell_type": "code",
   "execution_count": 1,
   "metadata": {},
   "outputs": [],
   "source": [
    "from glob import glob\n",
    "from os.path import basename, isfile\n",
    "from os import remove\n",
    "\n",
    "import numpy as np\n",
    "import pandas as pd\n",
    "import xarray as xr\n",
    "import xarray.ufuncs as xu\n",
    "from dask.diagnostics import ProgressBar\n",
    "\n",
    "import warnings\n",
    "warnings.filterwarnings('ignore')\n",
    "\n",
    "# only 3 decimal points on df.head() and df.describe()\n",
    "pd.options.display.float_format = '{:,.3f}'.format"
   ]
  },
  {
   "cell_type": "markdown",
   "metadata": {},
   "source": [
    "## Datasets\n",
    "- eeaVRA: validated surface obs for data assimilation\n",
    "- eeaVAL: validated surface obs for model evaluataion\n",
    "- cifsBC: CIFS boundary conditions\n",
    "- emepHC: hindcast run (no DA)\n",
    "- emepAN: (re)analysis run (DA: NO2,O3,SO2), too low rejecteion max\n",
    "- emepRE: (re)analysis re-run (DA: NO2,O3,SO2), higher rejecteion max\n",
    "- emepPM: (re)analysis re-run (DA: NO2,O3,SO2,PM25,PM10), higher rejecteion max & new DA modules (w/PM DA feedback)"
   ]
  },
  {
   "cell_type": "code",
   "execution_count": 2,
   "metadata": {},
   "outputs": [
    {
     "name": "stdout",
     "output_type": "stream",
     "text": [
      "eeaVRA:   5 files\n",
      "eeaVAL:   5 files\n",
      "cifsBC: 335 files\n",
      "emepHC:   1 files\n",
      "emepAN:   4 files\n",
      "emepRE:   4 files\n",
      "emepPM:   4 files\n"
     ]
    }
   ],
   "source": [
    "lustre = \"/lustre/storeA/users/alvarov/CAMS50/%s\"\n",
    "ncfile = lustre%'vra2015colloc.nc' # save collocated datasets\n",
    "files = dict(\n",
    "    eeaVRA=glob(lustre%'obs/VRA_2015/assimilation_*.nc'),\n",
    "    eeaVAL=glob(lustre%'obs/VRA_2015/validation_*.nc'),\n",
    "    cifsBC=glob(lustre%'2015_VRA/VRA_*_EU_EVA.nc'),\n",
    "    emepHC=glob(lustre%'VRA-2015/BM_CAMS50.201706/VRA00-2015.nc'),\n",
    "    emepAN=glob(lustre%'VRA-2015/BM_CAMS50.201706/VRA00AN-2015Q?.nc'),\n",
    "    emepRE=glob(lustre%'VRA-2015/BM_CAMS50.201706/VRA00RE-2015Q?.nc'),\n",
    "    emepPM=glob(lustre%'VRA-2015/BM_CAMS50.201801/VRA00AN-2015Q?.nc'),\n",
    ")\n",
    "for k,v in files.items():\n",
    "    print(\"%s: %3d files\"%(k,len(v)))"
   ]
  },
  {
   "cell_type": "code",
   "execution_count": 3,
   "metadata": {},
   "outputs": [],
   "source": [
    "def save2nc(ds,f):\n",
    "    if isfile(f): remove(f)\n",
    "    ds.to_netcdf(f)"
   ]
  },
  {
   "cell_type": "markdown",
   "metadata": {},
   "source": [
    "# Validated Observations\n",
    "Observations for *O3*, *NO2*, *SO2*, *PM25* and *PM10* in *ug/m3*, are divided on 2 datasets,\n",
    "assimilation and validation.\n",
    "- The dataset split is not consistent across species.\n",
    "- The classification is not consistent across species.\n",
    "- The datasets contain negative concentrations.\n",
    "- Station `FR23003` is outside the European domain.\n",
    "- Station `MT00008` is defined with slightly different longitude on assimilation NO2/O3 sets.\n",
    "\n",
    "The observations were stored in NetCDF files as part of the pre-processing for data assimilation. Netative oncentrations are discarded by the data assimilation system, and will be trown off as the files are read in."
   ]
  },
  {
   "cell_type": "code",
   "execution_count": 4,
   "metadata": {},
   "outputs": [
    {
     "name": "stdout",
     "output_type": "stream",
     "text": [
      "CPU times: user 2.39 s, sys: 316 ms, total: 2.7 s\n",
      "Wall time: 7.21 s\n"
     ]
    },
    {
     "data": {
      "text/plain": [
       "<xarray.Dataset>\n",
       "Dimensions:  (poll: 1, station: 1214, time: 8761)\n",
       "Coordinates:\n",
       "  * time     (time) datetime64[ns] 2015-01-01 2015-01-01T01:00:00 ...\n",
       "  * station  (station) <U8 'IT1961A' 'FR04014' 'FR02031' 'CZ0ALIB' 'PL0129A' ...\n",
       "  * poll     (poll) <U3 'NO2'\n",
       "Data variables:\n",
       "    lon      (station) float64 8.256 2.394 5.213 14.45 20.96 4.021 -0.5147 ...\n",
       "    lat      (station) float64 46.31 48.84 43.42 50.01 52.41 49.22 44.9 ...\n",
       "    alt      (station) float64 1.639e+03 40.0 10.0 301.0 91.0 93.0 36.0 ...\n",
       "    class    (poll, station) <U26 'background/rural' 'background/urban' ...\n",
       "    NO2      (time, station) float32 17.0 112.25 51.25 nan 16.71 37.63 24.0 ..."
      ]
     },
     "execution_count": 4,
     "metadata": {},
     "output_type": "execute_result"
    }
   ],
   "source": [
    "def surfObs(ds):\n",
    "    # load the dataset in order to use .loc\n",
    "    ds.load()\n",
    "\n",
    "    # byte to sting\n",
    "    ds['station'] = ds['iso'].astype(str) # station names\n",
    "    ds['class'] = ds['class'].astype(str)\n",
    "\n",
    "    # fix MT00008 coordinates\n",
    "    if 'MT00008' in ds.station.values:\n",
    "        ds.lat.loc['MT00008'] = 35.89002\n",
    "        ds.lon.loc['MT00008'] = 14.434464\n",
    "    \n",
    "    # mask negative concetrations\n",
    "    for param in ds.data_vars: \n",
    "        if ds[param].attrs.get('units',None) == 'ug/m3':\n",
    "            ds[param] = ds[param].where(ds[param]>0)\n",
    "            ds['class'] = ds['class'].assign_coords(poll=param).expand_dims('poll')\n",
    "\n",
    "    return ds.drop(['iso'])\n",
    "\n",
    "%time ds = surfObs(xr.open_dataset(files['eeaVRA'][0]))\n",
    "ds"
   ]
  },
  {
   "cell_type": "markdown",
   "metadata": {},
   "source": [
    "## Read all obseervations"
   ]
  },
  {
   "cell_type": "code",
   "execution_count": 5,
   "metadata": {},
   "outputs": [],
   "source": [
    "# multy file reader, with all the options\n",
    "readObs = lambda files, dataset: xr.open_mfdataset(\n",
    "        files, concat_dim=None, preprocess=surfObs\n",
    "    ).assign_coords(dataset=dataset).expand_dims('dataset')"
   ]
  },
  {
   "cell_type": "code",
   "execution_count": 6,
   "metadata": {},
   "outputs": [
    {
     "name": "stdout",
     "output_type": "stream",
     "text": [
      "[########################################] | 100% Completed |  5.2s\n",
      "[########################################] | 100% Completed |  5.5s\n",
      "[########################################] | 100% Completed |  1.1s\n",
      "[########################################] | 100% Completed |  2.5s\n",
      "[########################################] | 100% Completed |  4.5s\n",
      "CPU times: user 10.4 s, sys: 1.34 s, total: 11.7 s\n",
      "Wall time: 21.2 s\n",
      "CPU times: user 100 ms, sys: 80 ms, total: 180 ms\n",
      "Wall time: 178 ms\n",
      "[########################################] | 100% Completed |  1.7s\n",
      "[########################################] | 100% Completed |  7.7s\n",
      "[########################################] | 100% Completed |  1.3s\n",
      "[########################################] | 100% Completed |  2.5s\n",
      "[########################################] | 100% Completed |  0.9s\n",
      "CPU times: user 6.54 s, sys: 1.03 s, total: 7.58 s\n",
      "Wall time: 16 s\n",
      "CPU times: user 5.03 s, sys: 1.15 s, total: 6.18 s\n",
      "Wall time: 6.16 s\n"
     ]
    },
    {
     "data": {
      "text/plain": [
       "<xarray.Dataset>\n",
       "Dimensions:  (dataset: 2, poll: 5, station: 2237, time: 8761)\n",
       "Coordinates:\n",
       "  * dataset  (dataset) object 'eeaVAL' 'eeaVRA'\n",
       "  * station  (station) object 'AD0944A' 'AD0945A' 'AL0203A' 'AL0204A' ...\n",
       "  * poll     (poll) object 'NO2' 'O3' 'PM10' 'PM25' 'SO2'\n",
       "  * time     (time) datetime64[ns] 2015-01-01 2015-01-01T01:00:00 ...\n",
       "Data variables:\n",
       "    lon      (dataset, station) float64 nan 1.717 nan 19.49 nan nan nan nan ...\n",
       "    lat      (dataset, station) float64 nan 42.53 nan 40.4 nan nan nan nan ...\n",
       "    alt      (dataset, station) float64 nan 2.515e+03 nan 25.0 nan nan nan ...\n",
       "    class    (dataset, poll, station) object nan nan nan 'background/urban' ...\n",
       "    NO2      (dataset, time, station) float32 nan nan nan 13.5451 nan nan ...\n",
       "    PM10     (dataset, time, station) float32 nan nan nan nan nan nan nan ...\n",
       "    PM25     (dataset, time, station) float32 nan nan nan nan nan nan nan ...\n",
       "    SO2      (dataset, time, station) float32 nan nan nan 7.299 nan nan nan ...\n",
       "    O3       (dataset, time, station) float32 nan nan nan 56.452 nan nan nan ..."
      ]
     },
     "execution_count": 6,
     "metadata": {},
     "output_type": "execute_result"
    }
   ],
   "source": [
    "data = xr.Dataset()\n",
    "with ProgressBar():\n",
    "    for k,v in files.items():\n",
    "        if k.startswith('eea'):\n",
    "            # read the eeaVRA/VAL dataset separately\n",
    "            %time obs = readObs(v,k)\n",
    "\n",
    "            # contatenate eeaVRA/VAL datasets\n",
    "            %time data = data.combine_first(obs)\n",
    "\n",
    "data"
   ]
  },
  {
   "cell_type": "markdown",
   "metadata": {},
   "source": [
    "## Observations per dataset"
   ]
  },
  {
   "cell_type": "code",
   "execution_count": 7,
   "metadata": {},
   "outputs": [
    {
     "data": {
      "text/html": [
       "<div>\n",
       "<style scoped>\n",
       "    .dataframe tbody tr th:only-of-type {\n",
       "        vertical-align: middle;\n",
       "    }\n",
       "\n",
       "    .dataframe tbody tr th {\n",
       "        vertical-align: top;\n",
       "    }\n",
       "\n",
       "    .dataframe thead th {\n",
       "        text-align: right;\n",
       "    }\n",
       "</style>\n",
       "<table border=\"1\" class=\"dataframe\">\n",
       "  <thead>\n",
       "    <tr style=\"text-align: right;\">\n",
       "      <th></th>\n",
       "      <th>NO2</th>\n",
       "      <th>PM10</th>\n",
       "      <th>PM25</th>\n",
       "      <th>SO2</th>\n",
       "      <th>O3</th>\n",
       "    </tr>\n",
       "  </thead>\n",
       "  <tbody>\n",
       "    <tr>\n",
       "      <th>count</th>\n",
       "      <td>49,155,520.000</td>\n",
       "      <td>30,317,365.000</td>\n",
       "      <td>13,764,850.000</td>\n",
       "      <td>23,499,805.000</td>\n",
       "      <td>48,637,320.000</td>\n",
       "    </tr>\n",
       "    <tr>\n",
       "      <th>mean</th>\n",
       "      <td>14.128</td>\n",
       "      <td>18.302</td>\n",
       "      <td>12.711</td>\n",
       "      <td>3.603</td>\n",
       "      <td>44.816</td>\n",
       "    </tr>\n",
       "    <tr>\n",
       "      <th>std</th>\n",
       "      <td>15.582</td>\n",
       "      <td>16.594</td>\n",
       "      <td>12.893</td>\n",
       "      <td>10.963</td>\n",
       "      <td>30.678</td>\n",
       "    </tr>\n",
       "    <tr>\n",
       "      <th>min</th>\n",
       "      <td>0.000</td>\n",
       "      <td>0.000</td>\n",
       "      <td>0.000</td>\n",
       "      <td>0.000</td>\n",
       "      <td>0.000</td>\n",
       "    </tr>\n",
       "    <tr>\n",
       "      <th>25%</th>\n",
       "      <td>6.000</td>\n",
       "      <td>9.570</td>\n",
       "      <td>5.242</td>\n",
       "      <td>1.000</td>\n",
       "      <td>31.000</td>\n",
       "    </tr>\n",
       "    <tr>\n",
       "      <th>50%</th>\n",
       "      <td>12.148</td>\n",
       "      <td>15.750</td>\n",
       "      <td>9.225</td>\n",
       "      <td>2.100</td>\n",
       "      <td>54.720</td>\n",
       "    </tr>\n",
       "    <tr>\n",
       "      <th>75%</th>\n",
       "      <td>23.849</td>\n",
       "      <td>24.650</td>\n",
       "      <td>16.112</td>\n",
       "      <td>4.250</td>\n",
       "      <td>75.380</td>\n",
       "    </tr>\n",
       "    <tr>\n",
       "      <th>max</th>\n",
       "      <td>416.300</td>\n",
       "      <td>958.030</td>\n",
       "      <td>945.600</td>\n",
       "      <td>997.000</td>\n",
       "      <td>282.000</td>\n",
       "    </tr>\n",
       "  </tbody>\n",
       "</table>\n",
       "</div>"
      ],
      "text/plain": [
       "                 NO2           PM10           PM25            SO2  \\\n",
       "count 49,155,520.000 30,317,365.000 13,764,850.000 23,499,805.000   \n",
       "mean          14.128         18.302         12.711          3.603   \n",
       "std           15.582         16.594         12.893         10.963   \n",
       "min            0.000          0.000          0.000          0.000   \n",
       "25%            6.000          9.570          5.242          1.000   \n",
       "50%           12.148         15.750          9.225          2.100   \n",
       "75%           23.849         24.650         16.112          4.250   \n",
       "max          416.300        958.030        945.600        997.000   \n",
       "\n",
       "                  O3  \n",
       "count 48,637,320.000  \n",
       "mean          44.816  \n",
       "std           30.678  \n",
       "min            0.000  \n",
       "25%           31.000  \n",
       "50%           54.720  \n",
       "75%           75.380  \n",
       "max          282.000  "
      ]
     },
     "execution_count": 7,
     "metadata": {},
     "output_type": "execute_result"
    }
   ],
   "source": [
    "data.sel(dataset='eeaVRA').drop(['lon','lat','alt']).to_dataframe().describe()"
   ]
  },
  {
   "cell_type": "code",
   "execution_count": 8,
   "metadata": {},
   "outputs": [
    {
     "data": {
      "text/html": [
       "<div>\n",
       "<style scoped>\n",
       "    .dataframe tbody tr th:only-of-type {\n",
       "        vertical-align: middle;\n",
       "    }\n",
       "\n",
       "    .dataframe tbody tr th {\n",
       "        vertical-align: top;\n",
       "    }\n",
       "\n",
       "    .dataframe thead th {\n",
       "        text-align: right;\n",
       "    }\n",
       "</style>\n",
       "<table border=\"1\" class=\"dataframe\">\n",
       "  <thead>\n",
       "    <tr style=\"text-align: right;\">\n",
       "      <th></th>\n",
       "      <th>NO2</th>\n",
       "      <th>PM10</th>\n",
       "      <th>PM25</th>\n",
       "      <th>SO2</th>\n",
       "      <th>O3</th>\n",
       "    </tr>\n",
       "  </thead>\n",
       "  <tbody>\n",
       "    <tr>\n",
       "      <th>count</th>\n",
       "      <td>21,189,195.000</td>\n",
       "      <td>13,074,295.000</td>\n",
       "      <td>5,973,645.000</td>\n",
       "      <td>9,980,630.000</td>\n",
       "      <td>20,449,935.000</td>\n",
       "    </tr>\n",
       "    <tr>\n",
       "      <th>mean</th>\n",
       "      <td>17.915</td>\n",
       "      <td>19.775</td>\n",
       "      <td>12.924</td>\n",
       "      <td>4.497</td>\n",
       "      <td>52.664</td>\n",
       "    </tr>\n",
       "    <tr>\n",
       "      <th>std</th>\n",
       "      <td>16.615</td>\n",
       "      <td>16.227</td>\n",
       "      <td>12.556</td>\n",
       "      <td>8.233</td>\n",
       "      <td>31.927</td>\n",
       "    </tr>\n",
       "    <tr>\n",
       "      <th>min</th>\n",
       "      <td>0.001</td>\n",
       "      <td>0.002</td>\n",
       "      <td>0.001</td>\n",
       "      <td>0.000</td>\n",
       "      <td>0.001</td>\n",
       "    </tr>\n",
       "    <tr>\n",
       "      <th>25%</th>\n",
       "      <td>6.790</td>\n",
       "      <td>10.000</td>\n",
       "      <td>5.250</td>\n",
       "      <td>1.210</td>\n",
       "      <td>28.461</td>\n",
       "    </tr>\n",
       "    <tr>\n",
       "      <th>50%</th>\n",
       "      <td>13.400</td>\n",
       "      <td>16.000</td>\n",
       "      <td>9.400</td>\n",
       "      <td>2.900</td>\n",
       "      <td>52.500</td>\n",
       "    </tr>\n",
       "    <tr>\n",
       "      <th>75%</th>\n",
       "      <td>25.750</td>\n",
       "      <td>24.910</td>\n",
       "      <td>16.299</td>\n",
       "      <td>5.000</td>\n",
       "      <td>74.000</td>\n",
       "    </tr>\n",
       "    <tr>\n",
       "      <th>max</th>\n",
       "      <td>356.000</td>\n",
       "      <td>943.000</td>\n",
       "      <td>738.580</td>\n",
       "      <td>983.250</td>\n",
       "      <td>296.000</td>\n",
       "    </tr>\n",
       "  </tbody>\n",
       "</table>\n",
       "</div>"
      ],
      "text/plain": [
       "                 NO2           PM10          PM25           SO2             O3\n",
       "count 21,189,195.000 13,074,295.000 5,973,645.000 9,980,630.000 20,449,935.000\n",
       "mean          17.915         19.775        12.924         4.497         52.664\n",
       "std           16.615         16.227        12.556         8.233         31.927\n",
       "min            0.001          0.002         0.001         0.000          0.001\n",
       "25%            6.790         10.000         5.250         1.210         28.461\n",
       "50%           13.400         16.000         9.400         2.900         52.500\n",
       "75%           25.750         24.910        16.299         5.000         74.000\n",
       "max          356.000        943.000       738.580       983.250        296.000"
      ]
     },
     "execution_count": 8,
     "metadata": {},
     "output_type": "execute_result"
    }
   ],
   "source": [
    "data.sel(dataset='eeaVAL').drop(['lon','lat','alt']).to_dataframe().describe()"
   ]
  },
  {
   "cell_type": "markdown",
   "metadata": {},
   "source": [
    "## Unique stations"
   ]
  },
  {
   "cell_type": "code",
   "execution_count": 9,
   "metadata": {},
   "outputs": [
    {
     "name": "stdout",
     "output_type": "stream",
     "text": [
      "CPU times: user 0 ns, sys: 0 ns, total: 0 ns\n",
      "Wall time: 300 µs\n",
      "CPU times: user 4 ms, sys: 4 ms, total: 8 ms\n",
      "Wall time: 7.13 ms\n"
     ]
    },
    {
     "data": {
      "text/plain": [
       "<xarray.Dataset>\n",
       "Dimensions:  (poll: 5, station: 2237)\n",
       "Coordinates:\n",
       "  * poll     (poll) object 'NO2' 'O3' 'PM10' 'PM25' 'SO2'\n",
       "  * station  (station) object 'AD0944A' 'AD0945A' 'AL0203A' 'AL0204A' ...\n",
       "Data variables:\n",
       "    lon      (station) float64 1.565 1.717 20.78 19.49 19.52 13.67 16.77 ...\n",
       "    lat      (station) float64 42.52 42.53 40.63 40.4 42.31 48.39 47.77 ...\n",
       "    alt      (station) float64 1.637e+03 2.515e+03 848.0 25.0 13.0 525.0 ...\n",
       "    class    (poll, station) object nan nan 'background/suburban' ..."
      ]
     },
     "execution_count": 9,
     "metadata": {},
     "output_type": "execute_result"
    }
   ],
   "source": [
    "%time stat = data[['lon','lat','alt','class']]\n",
    "%time stat = stat.sel(dataset='eeaVRA').combine_first(stat.sel(dataset='eeaVAL'))\n",
    "stat"
   ]
  },
  {
   "cell_type": "code",
   "execution_count": 10,
   "metadata": {},
   "outputs": [
    {
     "data": {
      "text/html": [
       "<div>\n",
       "<style scoped>\n",
       "    .dataframe tbody tr th:only-of-type {\n",
       "        vertical-align: middle;\n",
       "    }\n",
       "\n",
       "    .dataframe tbody tr th {\n",
       "        vertical-align: top;\n",
       "    }\n",
       "\n",
       "    .dataframe thead th {\n",
       "        text-align: right;\n",
       "    }\n",
       "</style>\n",
       "<table border=\"1\" class=\"dataframe\">\n",
       "  <thead>\n",
       "    <tr style=\"text-align: right;\">\n",
       "      <th></th>\n",
       "      <th></th>\n",
       "      <th>lon</th>\n",
       "      <th>lat</th>\n",
       "      <th>alt</th>\n",
       "      <th>class</th>\n",
       "    </tr>\n",
       "    <tr>\n",
       "      <th>poll</th>\n",
       "      <th>station</th>\n",
       "      <th></th>\n",
       "      <th></th>\n",
       "      <th></th>\n",
       "      <th></th>\n",
       "    </tr>\n",
       "  </thead>\n",
       "  <tbody>\n",
       "    <tr>\n",
       "      <th rowspan=\"5\" valign=\"top\">NO2</th>\n",
       "      <th>AD0944A</th>\n",
       "      <td>1.565</td>\n",
       "      <td>42.517</td>\n",
       "      <td>1,637.000</td>\n",
       "      <td>NaN</td>\n",
       "    </tr>\n",
       "    <tr>\n",
       "      <th>AD0945A</th>\n",
       "      <td>1.717</td>\n",
       "      <td>42.535</td>\n",
       "      <td>2,515.000</td>\n",
       "      <td>NaN</td>\n",
       "    </tr>\n",
       "    <tr>\n",
       "      <th>AL0203A</th>\n",
       "      <td>20.780</td>\n",
       "      <td>40.626</td>\n",
       "      <td>848.000</td>\n",
       "      <td>background/suburban</td>\n",
       "    </tr>\n",
       "    <tr>\n",
       "      <th>AL0204A</th>\n",
       "      <td>19.486</td>\n",
       "      <td>40.403</td>\n",
       "      <td>25.000</td>\n",
       "      <td>background/urban</td>\n",
       "    </tr>\n",
       "    <tr>\n",
       "      <th>AL0206A</th>\n",
       "      <td>19.523</td>\n",
       "      <td>42.314</td>\n",
       "      <td>13.000</td>\n",
       "      <td>background/urban</td>\n",
       "    </tr>\n",
       "  </tbody>\n",
       "</table>\n",
       "</div>"
      ],
      "text/plain": [
       "                lon    lat       alt                class\n",
       "poll station                                             \n",
       "NO2  AD0944A  1.565 42.517 1,637.000                  NaN\n",
       "     AD0945A  1.717 42.535 2,515.000                  NaN\n",
       "     AL0203A 20.780 40.626   848.000  background/suburban\n",
       "     AL0204A 19.486 40.403    25.000     background/urban\n",
       "     AL0206A 19.523 42.314    13.000     background/urban"
      ]
     },
     "execution_count": 10,
     "metadata": {},
     "output_type": "execute_result"
    }
   ],
   "source": [
    "stat.to_dataframe().head()"
   ]
  },
  {
   "cell_type": "markdown",
   "metadata": {},
   "source": [
    "## Station classification\n",
    "Make it a coordinate, as it should not change as we add more datasets"
   ]
  },
  {
   "cell_type": "code",
   "execution_count": 11,
   "metadata": {},
   "outputs": [
    {
     "data": {
      "text/plain": [
       "<xarray.Dataset>\n",
       "Dimensions:  (dataset: 2, poll: 5, station: 2237, time: 8761)\n",
       "Coordinates:\n",
       "    class    (poll, station) object nan nan 'background/suburban' ...\n",
       "  * dataset  (dataset) object 'eeaVAL' 'eeaVRA'\n",
       "  * station  (station) object 'AD0944A' 'AD0945A' 'AL0203A' 'AL0204A' ...\n",
       "  * poll     (poll) object 'NO2' 'O3' 'PM10' 'PM25' 'SO2'\n",
       "  * time     (time) datetime64[ns] 2015-01-01 2015-01-01T01:00:00 ...\n",
       "Data variables:\n",
       "    lon      (dataset, station) float64 nan 1.717 nan 19.49 nan nan nan nan ...\n",
       "    lat      (dataset, station) float64 nan 42.53 nan 40.4 nan nan nan nan ...\n",
       "    alt      (dataset, station) float64 nan 2.515e+03 nan 25.0 nan nan nan ...\n",
       "    NO2      (dataset, time, station) float32 nan nan nan 13.5451 nan nan ...\n",
       "    PM10     (dataset, time, station) float32 nan nan nan nan nan nan nan ...\n",
       "    PM25     (dataset, time, station) float32 nan nan nan nan nan nan nan ...\n",
       "    SO2      (dataset, time, station) float32 nan nan nan 7.299 nan nan nan ...\n",
       "    O3       (dataset, time, station) float32 nan nan nan 56.452 nan nan nan ..."
      ]
     },
     "execution_count": 11,
     "metadata": {},
     "output_type": "execute_result"
    }
   ],
   "source": [
    "data['class'] = stat['class']\n",
    "data = data.set_coords('class')\n",
    "data"
   ]
  },
  {
   "cell_type": "code",
   "execution_count": 12,
   "metadata": {},
   "outputs": [],
   "source": [
    "save2nc(data,ncfile)"
   ]
  },
  {
   "cell_type": "markdown",
   "metadata": {},
   "source": [
    "# Collocation\n",
    "For point-wise collocation, the lon/lat indexerrs need to be xarray.DataArrays."
   ]
  },
  {
   "cell_type": "code",
   "execution_count": 13,
   "metadata": {},
   "outputs": [],
   "source": [
    "def collocate(ds, lon=stat.lon, lat=stat.lat, dlon=1.25, dlat=1.25):\n",
    "    \"\"\"\n",
    "    collocate dataset to coordinates\n",
    "      for point-wise selection lon/lat need to be DataArrays (and ds.load())\n",
    "      .sel(.., tolerance=max(dlat,dlon)) raise a KeyError for points outside domain\n",
    "    \"\"\"\n",
    "    col = ds.load().sel(lon=lon, lat=lat, method='nearest')\n",
    "    return col.where(abs(col.lon-lon)<dlon*0.5)\\\n",
    "              .where(abs(col.lat-lat)<dlat*0.5)\\\n",
    "              .reset_coords()"
   ]
  },
  {
   "cell_type": "markdown",
   "metadata": {},
   "source": [
    "# Boundary conditions\n",
    "From CIFS reanalysis. Daily files with 3-hourly records. \n",
    "- November BC files are missing, not sure if they failed to be created or were\n",
    "wrongly cleaned up.\n",
    "- 335 files ~256M each, total 84Gb."
   ]
  },
  {
   "cell_type": "code",
   "execution_count": 14,
   "metadata": {},
   "outputs": [
    {
     "name": "stdout",
     "output_type": "stream",
     "text": [
      "CPU times: user 44 ms, sys: 24 ms, total: 68 ms\n",
      "Wall time: 422 ms\n"
     ]
    },
    {
     "data": {
      "text/plain": [
       "<xarray.Dataset>\n",
       "Dimensions:    (latitude: 65, level: 60, longitude: 207, time: 8, x: 61)\n",
       "Coordinates:\n",
       "  * longitude  (longitude) float32 -115.875 -114.75 -113.625 -112.5 -111.375 ...\n",
       "  * latitude   (latitude) float32 81.0 79.875 78.75 77.625 76.5 75.375 74.25 ...\n",
       "  * level      (level) float64 1.0 2.0 3.0 4.0 5.0 6.0 7.0 8.0 9.0 10.0 11.0 ...\n",
       "  * time       (time) datetime64[ns] 2015-02-22 2015-02-22T03:00:00 ...\n",
       "Dimensions without coordinates: x\n",
       "Data variables:\n",
       "    t          (time, level, latitude, longitude) float32 ...\n",
       "    aermr01    (time, level, latitude, longitude) float32 ...\n",
       "    aermr02    (time, level, latitude, longitude) float32 ...\n",
       "    aermr03    (time, level, latitude, longitude) float32 ...\n",
       "    aermr04    (time, level, latitude, longitude) float32 ...\n",
       "    aermr05    (time, level, latitude, longitude) float32 ...\n",
       "    aermr06    (time, level, latitude, longitude) float32 ...\n",
       "    aermr07    (time, level, latitude, longitude) float32 ...\n",
       "    aermr08    (time, level, latitude, longitude) float32 ...\n",
       "    aermr09    (time, level, latitude, longitude) float32 ...\n",
       "    aermr10    (time, level, latitude, longitude) float32 ...\n",
       "    aermr11    (time, level, latitude, longitude) float32 ...\n",
       "    aermr12    (time, level, latitude, longitude) float32 ...\n",
       "    no2        (time, level, latitude, longitude) float32 ...\n",
       "    so2        (time, level, latitude, longitude) float32 ...\n",
       "    co         (time, level, latitude, longitude) float32 ...\n",
       "    go3        (time, level, latitude, longitude) float32 ...\n",
       "    hno3       (time, level, latitude, longitude) float32 ...\n",
       "    pan        (time, level, latitude, longitude) float32 ...\n",
       "    no         (time, level, latitude, longitude) float32 ...\n",
       "    hcho       (time, level, latitude, longitude) float32 ...\n",
       "    ch4        (time, level, latitude, longitude) float32 ...\n",
       "    c5h8       (time, level, latitude, longitude) float32 ...\n",
       "    oh         (time, level, latitude, longitude) float32 ...\n",
       "    n2o5       (time, level, latitude, longitude) float32 ...\n",
       "    c2h6       (time, level, latitude, longitude) float32 ...\n",
       "    c3h8       (time, level, latitude, longitude) float32 ...\n",
       "    hyai       (x) float32 ...\n",
       "    hybi       (x) float32 ...\n",
       "    lnsp       (time, latitude, longitude) float32 ...\n",
       "    z          (latitude, longitude) float32 ...\n",
       "Attributes:\n",
       "    CDI:          Climate Data Interface version 1.6.9 (http://mpimet.mpg.de/...\n",
       "    history:      Thu Aug 03 10:09:36 2017: cdo -b 32 -f nc4 -z zip -s merge ...\n",
       "    Conventions:  CF-1.6\n",
       "    CDO:          Climate Data Operators version 1.6.9 (http://mpimet.mpg.de/...\n",
       "    institution:  ECMWF"
      ]
     },
     "execution_count": 14,
     "metadata": {},
     "output_type": "execute_result"
    }
   ],
   "source": [
    "%time ds = xr.open_dataset(files['cifsBC'][0])\n",
    "ds"
   ]
  },
  {
   "cell_type": "markdown",
   "metadata": {},
   "source": [
    "## Collocate"
   ]
  },
  {
   "cell_type": "code",
   "execution_count": 15,
   "metadata": {},
   "outputs": [
    {
     "name": "stdout",
     "output_type": "stream",
     "text": [
      "CPU times: user 96 ms, sys: 0 ns, total: 96 ms\n",
      "Wall time: 533 ms\n"
     ]
    },
    {
     "data": {
      "text/plain": [
       "<xarray.Dataset>\n",
       "Dimensions:  (station: 2237, time: 8)\n",
       "Coordinates:\n",
       "  * time     (time) datetime64[ns] 2015-02-22 2015-02-22T03:00:00 ...\n",
       "  * station  (station) object 'AD0944A' 'AD0945A' 'AL0203A' 'AL0204A' ...\n",
       "Data variables:\n",
       "    t        (time, station) float32 272.0734 273.6152 278.31186 282.89673 ...\n",
       "    NO2      (time, station) float32 3.4185346e-09 2.854822e-09 7.858242e-09 ...\n",
       "    SO2      (time, station) float32 9.1194113e-10 8.4438995e-10 ...\n",
       "    O3       (time, station) float32 5.7367092e-08 5.7853256e-08 ...\n",
       "    lnsp     (time, station) float32 11.431013 11.45578 11.455184 11.50319 ...\n",
       "    lon      (station) float32 1.125 2.25 20.25 19.125 19.125 13.5 16.875 ...\n",
       "    lat      (station) float32 42.75 42.75 40.5 40.5 42.75 48.375 47.25 ...\n",
       "Attributes:\n",
       "    CDI:          Climate Data Interface version 1.6.9 (http://mpimet.mpg.de/...\n",
       "    history:      Thu Aug 03 10:09:36 2017: cdo -b 32 -f nc4 -z zip -s merge ...\n",
       "    Conventions:  CF-1.6\n",
       "    CDO:          Climate Data Operators version 1.6.9 (http://mpimet.mpg.de/...\n",
       "    institution:  ECMWF"
      ]
     },
     "execution_count": 15,
     "metadata": {},
     "output_type": "execute_result"
    }
   ],
   "source": [
    "surfBCs = lambda ds: ds.rename(dict(\n",
    "    longitude='lon',\n",
    "    latitude='lat',\n",
    "    no2='NO2',\n",
    "    so2='SO2',\n",
    "    go3='O3',\n",
    ")).sel(level=60).drop('level')\n",
    "\"\"\" PM*\n",
    "    aermr01='SEASALT_F',\n",
    "    aermr02='SEASALT_C',\n",
    "   #aermr03='SEASALT_C',    # not used\n",
    "    aermr04='DUST_SAH_F',\n",
    "    aermr05='DUST_SAH_F',\n",
    "    aermr06*.15='DUST_SAH_F',\n",
    "    aermr06*.35='DUST_SAH_C',\n",
    "   #aermr07*1.7='FFIRE_OM', # not used\n",
    "   #aermr08*1.7='FFIRE_OM', # not used\n",
    "    aermr09='FFIRE_BC',     # not used\n",
    "    aermr10='FFIRE_BC',     # not used\n",
    "    aermr11='SO4',\n",
    "   #aermr12='SO2',          # not used\n",
    "\"\"\"\n",
    "\n",
    "dropBCs = \"aermr01 aermr02 aermr03 aermr04 aermr05 aermr06 aermr07 aermr08 aermr09 aermr10 aermr11 aermr12 co hno3 pan no hcho ch4 c5h8 oh n2o5 c2h6 c3h8 z hyai hybi\".split()\n",
    "\n",
    "%time collocate(surfBCs(ds.drop(dropBCs)))"
   ]
  },
  {
   "cell_type": "code",
   "execution_count": 16,
   "metadata": {},
   "outputs": [
    {
     "name": "stdout",
     "output_type": "stream",
     "text": [
      "CPU times: user 17.3 s, sys: 7.28 s, total: 24.6 s\n",
      "Wall time: 1min 44s\n"
     ]
    }
   ],
   "source": [
    "%%time\n",
    "ds = xr.open_mfdataset(   \n",
    "    files['cifsBC'], chunks={'time':10}, concat_dim='time', autoclose=True,\n",
    "    preprocess=surfBCs, drop_variables=dropBCs,\n",
    ").assign_coords(dataset='cifsBC').expand_dims('dataset')"
   ]
  },
  {
   "cell_type": "code",
   "execution_count": 17,
   "metadata": {},
   "outputs": [
    {
     "name": "stdout",
     "output_type": "stream",
     "text": [
      "[########################################] | 100% Completed | 30min  2.7s\n",
      "CPU times: user 17min 38s, sys: 2min, total: 19min 39s\n",
      "Wall time: 30min 7s\n"
     ]
    }
   ],
   "source": [
    "%%time\n",
    "with ProgressBar():\n",
    "    bcs = collocate(ds)"
   ]
  },
  {
   "cell_type": "code",
   "execution_count": 18,
   "metadata": {},
   "outputs": [
    {
     "data": {
      "text/plain": [
       "<xarray.Dataset>\n",
       "Dimensions:  (dataset: 1, station: 2237, time: 2680)\n",
       "Coordinates:\n",
       "  * time     (time) datetime64[ns] 2015-02-22 2015-02-22T03:00:00 ...\n",
       "  * dataset  (dataset) <U6 'cifsBC'\n",
       "  * station  (station) object 'AD0944A' 'AD0945A' 'AL0203A' 'AL0204A' ...\n",
       "Data variables:\n",
       "    t        (dataset, time, station) float32 272.0734 273.6152 278.31186 ...\n",
       "    NO2      (dataset, time, station) float32 3.4185346e-09 2.854822e-09 ...\n",
       "    SO2      (dataset, time, station) float32 9.1194113e-10 8.4438995e-10 ...\n",
       "    O3       (dataset, time, station) float32 5.7367092e-08 5.7853256e-08 ...\n",
       "    lnsp     (dataset, time, station) float32 11.431013 11.45578 11.455184 ...\n",
       "    lon      (station) float32 1.125 2.25 20.25 19.125 19.125 13.5 16.875 ...\n",
       "    lat      (station) float32 42.75 42.75 40.5 40.5 42.75 48.375 47.25 ...\n",
       "Attributes:\n",
       "    CDI:          Climate Data Interface version 1.6.9 (http://mpimet.mpg.de/...\n",
       "    history:      Thu Aug 03 10:09:36 2017: cdo -b 32 -f nc4 -z zip -s merge ...\n",
       "    Conventions:  CF-1.6\n",
       "    CDO:          Climate Data Operators version 1.6.9 (http://mpimet.mpg.de/...\n",
       "    institution:  ECMWF"
      ]
     },
     "execution_count": 18,
     "metadata": {},
     "output_type": "execute_result"
    }
   ],
   "source": [
    "bcs"
   ]
  },
  {
   "cell_type": "markdown",
   "metadata": {},
   "source": [
    "## Unit conversion\n",
    "CIFS concentrations come in `kg/kg`, observations are in `ug/m3`"
   ]
  },
  {
   "cell_type": "code",
   "execution_count": 19,
   "metadata": {},
   "outputs": [
    {
     "name": "stdout",
     "output_type": "stream",
     "text": [
      "CPU times: user 172 ms, sys: 0 ns, total: 172 ms\n",
      "Wall time: 169 ms\n"
     ]
    },
    {
     "data": {
      "text/html": [
       "<div>\n",
       "<style scoped>\n",
       "    .dataframe tbody tr th:only-of-type {\n",
       "        vertical-align: middle;\n",
       "    }\n",
       "\n",
       "    .dataframe tbody tr th {\n",
       "        vertical-align: top;\n",
       "    }\n",
       "\n",
       "    .dataframe thead th {\n",
       "        text-align: right;\n",
       "    }\n",
       "</style>\n",
       "<table border=\"1\" class=\"dataframe\">\n",
       "  <thead>\n",
       "    <tr style=\"text-align: right;\">\n",
       "      <th></th>\n",
       "      <th>NO2</th>\n",
       "      <th>SO2</th>\n",
       "      <th>O3</th>\n",
       "    </tr>\n",
       "  </thead>\n",
       "  <tbody>\n",
       "    <tr>\n",
       "      <th>count</th>\n",
       "      <td>5,949,600.000</td>\n",
       "      <td>5,949,600.000</td>\n",
       "      <td>5,949,600.000</td>\n",
       "    </tr>\n",
       "    <tr>\n",
       "      <th>mean</th>\n",
       "      <td>10.838</td>\n",
       "      <td>3.391</td>\n",
       "      <td>54.968</td>\n",
       "    </tr>\n",
       "    <tr>\n",
       "      <th>std</th>\n",
       "      <td>10.432</td>\n",
       "      <td>5.342</td>\n",
       "      <td>26.932</td>\n",
       "    </tr>\n",
       "    <tr>\n",
       "      <th>min</th>\n",
       "      <td>0.000</td>\n",
       "      <td>0.000</td>\n",
       "      <td>0.000</td>\n",
       "    </tr>\n",
       "    <tr>\n",
       "      <th>25%</th>\n",
       "      <td>2.966</td>\n",
       "      <td>0.849</td>\n",
       "      <td>35.206</td>\n",
       "    </tr>\n",
       "    <tr>\n",
       "      <th>50%</th>\n",
       "      <td>7.339</td>\n",
       "      <td>1.732</td>\n",
       "      <td>57.579</td>\n",
       "    </tr>\n",
       "    <tr>\n",
       "      <th>75%</th>\n",
       "      <td>15.664</td>\n",
       "      <td>3.736</td>\n",
       "      <td>76.190</td>\n",
       "    </tr>\n",
       "    <tr>\n",
       "      <th>max</th>\n",
       "      <td>126.738</td>\n",
       "      <td>353.801</td>\n",
       "      <td>200.720</td>\n",
       "    </tr>\n",
       "  </tbody>\n",
       "</table>\n",
       "</div>"
      ],
      "text/plain": [
       "                NO2           SO2            O3\n",
       "count 5,949,600.000 5,949,600.000 5,949,600.000\n",
       "mean         10.838         3.391        54.968\n",
       "std          10.432         5.342        26.932\n",
       "min           0.000         0.000         0.000\n",
       "25%           2.966         0.849        35.206\n",
       "50%           7.339         1.732        57.579\n",
       "75%          15.664         3.736        76.190\n",
       "max         126.738       353.801       200.720"
      ]
     },
     "execution_count": 19,
     "metadata": {},
     "output_type": "execute_result"
    }
   ],
   "source": [
    "def unitConv(ds):\n",
    "    rho = xu.exp(ds.lnsp)/(287.05 * ds.t)    \n",
    "    for param in bcs.data_vars: \n",
    "        if ds[param].attrs.get('units',None) == 'kg kg**-1':\n",
    "            ds[param] *= 1e9*rho\n",
    "            ds[param].attrs['units'] = 'ug/m3'\n",
    "    return ds.drop(['t','lnsp'])\n",
    "    \n",
    "%time bcs = unitConv(bcs)\n",
    "\n",
    "bcs.drop(['lon','lat']).to_dataframe().describe()"
   ]
  },
  {
   "cell_type": "markdown",
   "metadata": {},
   "source": [
    "## Add to observation dataset"
   ]
  },
  {
   "cell_type": "code",
   "execution_count": 20,
   "metadata": {},
   "outputs": [
    {
     "name": "stdout",
     "output_type": "stream",
     "text": [
      "CPU times: user 4.89 s, sys: 15.6 s, total: 20.5 s\n",
      "Wall time: 20.4 s\n"
     ]
    },
    {
     "data": {
      "text/html": [
       "<div>\n",
       "<style scoped>\n",
       "    .dataframe tbody tr th:only-of-type {\n",
       "        vertical-align: middle;\n",
       "    }\n",
       "\n",
       "    .dataframe tbody tr th {\n",
       "        vertical-align: top;\n",
       "    }\n",
       "\n",
       "    .dataframe thead th {\n",
       "        text-align: right;\n",
       "    }\n",
       "</style>\n",
       "<table border=\"1\" class=\"dataframe\">\n",
       "  <thead>\n",
       "    <tr style=\"text-align: right;\">\n",
       "      <th></th>\n",
       "      <th>NO2</th>\n",
       "      <th>PM10</th>\n",
       "      <th>PM25</th>\n",
       "      <th>SO2</th>\n",
       "      <th>O3</th>\n",
       "    </tr>\n",
       "  </thead>\n",
       "  <tbody>\n",
       "    <tr>\n",
       "      <th>count</th>\n",
       "      <td>29,748,000.000</td>\n",
       "      <td>0.000</td>\n",
       "      <td>0.000</td>\n",
       "      <td>29,748,000.000</td>\n",
       "      <td>29,748,000.000</td>\n",
       "    </tr>\n",
       "    <tr>\n",
       "      <th>mean</th>\n",
       "      <td>9.992</td>\n",
       "      <td>nan</td>\n",
       "      <td>nan</td>\n",
       "      <td>3.032</td>\n",
       "      <td>53.542</td>\n",
       "    </tr>\n",
       "    <tr>\n",
       "      <th>std</th>\n",
       "      <td>9.906</td>\n",
       "      <td>nan</td>\n",
       "      <td>nan</td>\n",
       "      <td>5.135</td>\n",
       "      <td>26.079</td>\n",
       "    </tr>\n",
       "    <tr>\n",
       "      <th>min</th>\n",
       "      <td>0.000</td>\n",
       "      <td>nan</td>\n",
       "      <td>nan</td>\n",
       "      <td>0.000</td>\n",
       "      <td>0.000</td>\n",
       "    </tr>\n",
       "    <tr>\n",
       "      <th>25%</th>\n",
       "      <td>2.966</td>\n",
       "      <td>nan</td>\n",
       "      <td>nan</td>\n",
       "      <td>0.849</td>\n",
       "      <td>35.206</td>\n",
       "    </tr>\n",
       "    <tr>\n",
       "      <th>50%</th>\n",
       "      <td>7.339</td>\n",
       "      <td>nan</td>\n",
       "      <td>nan</td>\n",
       "      <td>1.732</td>\n",
       "      <td>57.579</td>\n",
       "    </tr>\n",
       "    <tr>\n",
       "      <th>75%</th>\n",
       "      <td>15.664</td>\n",
       "      <td>nan</td>\n",
       "      <td>nan</td>\n",
       "      <td>3.736</td>\n",
       "      <td>76.190</td>\n",
       "    </tr>\n",
       "    <tr>\n",
       "      <th>max</th>\n",
       "      <td>126.738</td>\n",
       "      <td>nan</td>\n",
       "      <td>nan</td>\n",
       "      <td>353.801</td>\n",
       "      <td>200.720</td>\n",
       "    </tr>\n",
       "  </tbody>\n",
       "</table>\n",
       "</div>"
      ],
      "text/plain": [
       "                 NO2  PM10  PM25            SO2             O3\n",
       "count 29,748,000.000 0.000 0.000 29,748,000.000 29,748,000.000\n",
       "mean           9.992   nan   nan          3.032         53.542\n",
       "std            9.906   nan   nan          5.135         26.079\n",
       "min            0.000   nan   nan          0.000          0.000\n",
       "25%            2.966   nan   nan          0.849         35.206\n",
       "50%            7.339   nan   nan          1.732         57.579\n",
       "75%           15.664   nan   nan          3.736         76.190\n",
       "max          126.738   nan   nan        353.801        200.720"
      ]
     },
     "execution_count": 20,
     "metadata": {},
     "output_type": "execute_result"
    }
   ],
   "source": [
    "%time data = data.combine_first(bcs)\n",
    "data.sel(dataset='cifsBC').drop(['lon','lat','alt']).to_dataframe().describe()"
   ]
  },
  {
   "cell_type": "code",
   "execution_count": 21,
   "metadata": {},
   "outputs": [],
   "source": [
    "save2nc(data,ncfile)\n",
    "del(bcs)"
   ]
  },
  {
   "cell_type": "markdown",
   "metadata": {},
   "source": [
    "# Model runs\n",
    "The EMEP domain has 3 times the records and ~8 times more grid points than the CIFS domain.\n",
    "- `emepHC`: Single run, producing one **29Gb** hourly output file.\n",
    "- `emepAN`: 4 overlaping runs, each producing **~6G** hourly output files.\n",
    "- `emepRE`: 4 overlaping runs, each producing **~6G** hourly output files.\n",
    "- `emepPM`: 4 overlaping runs, each producing **~6G** hourly output files."
   ]
  },
  {
   "cell_type": "code",
   "execution_count": 22,
   "metadata": {},
   "outputs": [],
   "source": [
    "def readRun(run):   \n",
    "    ds = xr.Dataset()\n",
    "    for fname in files[run]:\n",
    "        ds = ds.combine_first(xr.open_dataset(fname, chunks={'time':6}))\n",
    "    return ds.assign_coords(dataset=run).expand_dims('dataset')"
   ]
  },
  {
   "cell_type": "markdown",
   "metadata": {},
   "source": [
    "# Hindcast run"
   ]
  },
  {
   "cell_type": "code",
   "execution_count": 23,
   "metadata": {},
   "outputs": [
    {
     "name": "stdout",
     "output_type": "stream",
     "text": [
      "CPU times: user 3.45 s, sys: 2.14 s, total: 5.59 s\n",
      "Wall time: 3min 54s\n"
     ]
    },
    {
     "data": {
      "text/plain": [
       "<xarray.Dataset>\n",
       "Dimensions:            (dataset: 1, ilev: 9, lat: 369, lev: 8, lon: 301, time: 8761)\n",
       "Coordinates:\n",
       "  * lon                (lon) float64 -30.0 -29.75 -29.5 -29.25 -29.0 -28.75 ...\n",
       "  * lat                (lat) float64 30.0 30.12 30.25 30.38 30.5 30.62 30.75 ...\n",
       "  * lev                (lev) float64 0.9946 0.9838 0.9703 0.9509 0.8932 ...\n",
       "  * ilev               (ilev) float64 0.9892 0.9784 0.9621 0.9396 0.8756 ...\n",
       "  * time               (time) datetime64[ns] 2015-01-01 2015-01-01T01:00:00 ...\n",
       "  * dataset            (dataset) <U6 'emepHC'\n",
       "Data variables:\n",
       "    P0                 (dataset) float64 1.013e+03\n",
       "    hyam               (dataset, lev) float64 dask.array<shape=(1, 8), chunksize=(1, 8)>\n",
       "    hybm               (dataset, lev) float64 dask.array<shape=(1, 8), chunksize=(1, 8)>\n",
       "    hyai               (dataset, ilev) float64 dask.array<shape=(1, 9), chunksize=(1, 9)>\n",
       "    hybi               (dataset, ilev) float64 dask.array<shape=(1, 9), chunksize=(1, 9)>\n",
       "    SURF_ug_O3         (dataset, time, lat, lon) float32 dask.array<shape=(1, 8761, 369, 301), chunksize=(1, 6, 369, 301)>\n",
       "    SURF_ug_NO2        (dataset, time, lat, lon) float32 dask.array<shape=(1, 8761, 369, 301), chunksize=(1, 6, 369, 301)>\n",
       "    SURF_ug_PM25_rh50  (dataset, time, lat, lon) float32 dask.array<shape=(1, 8761, 369, 301), chunksize=(1, 6, 369, 301)>\n",
       "    SURF_ug_PM10_rh50  (dataset, time, lat, lon) float32 dask.array<shape=(1, 8761, 369, 301), chunksize=(1, 6, 369, 301)>\n",
       "    SURF_ug_SO2        (dataset, time, lat, lon) float32 dask.array<shape=(1, 8761, 369, 301), chunksize=(1, 6, 369, 301)>\n",
       "    SURF_ug_CO         (dataset, time, lat, lon) float32 dask.array<shape=(1, 8761, 369, 301), chunksize=(1, 6, 369, 301)>\n",
       "    COLUMN_NO2_k20     (dataset, time, lat, lon) float32 dask.array<shape=(1, 8761, 369, 301), chunksize=(1, 6, 369, 301)>\n",
       "    COLUMN_O3_k20      (dataset, time, lat, lon) float32 dask.array<shape=(1, 8761, 369, 301), chunksize=(1, 6, 369, 301)>\n",
       "    AOD_550nm          (dataset, time, lat, lon) float32 dask.array<shape=(1, 8761, 369, 301), chunksize=(1, 6, 369, 301)>"
      ]
     },
     "execution_count": 23,
     "metadata": {},
     "output_type": "execute_result"
    }
   ],
   "source": [
    "%time ds = readRun('emepHC')\n",
    "ds"
   ]
  },
  {
   "cell_type": "markdown",
   "metadata": {},
   "source": [
    "## Collocate"
   ]
  },
  {
   "cell_type": "code",
   "execution_count": 24,
   "metadata": {},
   "outputs": [
    {
     "name": "stdout",
     "output_type": "stream",
     "text": [
      "[########################################] | 100% Completed | 23min 38.2s\n",
      "CPU times: user 9min 7s, sys: 1min, total: 10min 8s\n",
      "Wall time: 23min 55s\n"
     ]
    }
   ],
   "source": [
    "surfEMEP = lambda ds: ds.rename(dict(\n",
    "    SURF_ug_O3='O3',\n",
    "    SURF_ug_NO2='NO2',\n",
    "    SURF_ug_SO2='SO2',\n",
    "    SURF_ug_PM25_rh50='PM25',\n",
    "    SURF_ug_PM10_rh50='PM10',\n",
    ")).isel(lev=0).drop('lev')\n",
    "\n",
    "dropEMEP = 'P0 ilev hyam hybm hyai hybi SURF_ug_CO COLUMN_NO2_k20 COLUMN_O3_k20 AOD_550nm'.split()\n",
    "\n",
    "with ProgressBar():\n",
    "    %time emep = collocate(surfEMEP(ds.drop(dropEMEP)), dlon=1/4, dlat=1/8)"
   ]
  },
  {
   "cell_type": "code",
   "execution_count": 25,
   "metadata": {},
   "outputs": [
    {
     "data": {
      "text/plain": [
       "<xarray.Dataset>\n",
       "Dimensions:  (dataset: 1, station: 2237, time: 8761)\n",
       "Coordinates:\n",
       "  * time     (time) datetime64[ns] 2015-01-01 2015-01-01T01:00:00 ...\n",
       "  * dataset  (dataset) <U6 'emepHC'\n",
       "  * station  (station) object 'AD0944A' 'AD0945A' 'AL0203A' 'AL0204A' ...\n",
       "Data variables:\n",
       "    O3       (dataset, time, station) float32 72.93429 69.54431 49.42756 ...\n",
       "    NO2      (dataset, time, station) float32 0.16582742 0.5343682 5.835265 ...\n",
       "    PM25     (dataset, time, station) float32 0.9968202 1.126349 8.84856 ...\n",
       "    PM10     (dataset, time, station) float32 1.5719622 1.7240334 10.386877 ...\n",
       "    SO2      (dataset, time, station) float32 0.07718428 0.097183295 ...\n",
       "    lon      (station) float64 1.5 1.75 20.75 19.5 19.5 13.75 16.75 16.0 ...\n",
       "    lat      (station) float64 42.5 42.5 40.62 40.38 42.38 48.38 47.75 46.75 ..."
      ]
     },
     "execution_count": 25,
     "metadata": {},
     "output_type": "execute_result"
    }
   ],
   "source": [
    "emep"
   ]
  },
  {
   "cell_type": "markdown",
   "metadata": {},
   "source": [
    "## Add to observation dataset"
   ]
  },
  {
   "cell_type": "code",
   "execution_count": 26,
   "metadata": {},
   "outputs": [
    {
     "name": "stdout",
     "output_type": "stream",
     "text": [
      "CPU times: user 4.74 s, sys: 1.4 s, total: 6.14 s\n",
      "Wall time: 6.12 s\n"
     ]
    },
    {
     "data": {
      "text/html": [
       "<div>\n",
       "<style scoped>\n",
       "    .dataframe tbody tr th:only-of-type {\n",
       "        vertical-align: middle;\n",
       "    }\n",
       "\n",
       "    .dataframe tbody tr th {\n",
       "        vertical-align: top;\n",
       "    }\n",
       "\n",
       "    .dataframe thead th {\n",
       "        text-align: right;\n",
       "    }\n",
       "</style>\n",
       "<table border=\"1\" class=\"dataframe\">\n",
       "  <thead>\n",
       "    <tr style=\"text-align: right;\">\n",
       "      <th></th>\n",
       "      <th>NO2</th>\n",
       "      <th>PM10</th>\n",
       "      <th>PM25</th>\n",
       "      <th>SO2</th>\n",
       "      <th>O3</th>\n",
       "    </tr>\n",
       "  </thead>\n",
       "  <tbody>\n",
       "    <tr>\n",
       "      <th>count</th>\n",
       "      <td>96,195,780.000</td>\n",
       "      <td>96,195,780.000</td>\n",
       "      <td>96,195,780.000</td>\n",
       "      <td>96,195,780.000</td>\n",
       "      <td>96,195,780.000</td>\n",
       "    </tr>\n",
       "    <tr>\n",
       "      <th>mean</th>\n",
       "      <td>6.785</td>\n",
       "      <td>8.900</td>\n",
       "      <td>6.700</td>\n",
       "      <td>2.079</td>\n",
       "      <td>22.833</td>\n",
       "    </tr>\n",
       "    <tr>\n",
       "      <th>std</th>\n",
       "      <td>11.391</td>\n",
       "      <td>13.855</td>\n",
       "      <td>10.646</td>\n",
       "      <td>5.426</td>\n",
       "      <td>38.035</td>\n",
       "    </tr>\n",
       "    <tr>\n",
       "      <th>min</th>\n",
       "      <td>0.001</td>\n",
       "      <td>0.402</td>\n",
       "      <td>0.402</td>\n",
       "      <td>0.000</td>\n",
       "      <td>0.000</td>\n",
       "    </tr>\n",
       "    <tr>\n",
       "      <th>25%</th>\n",
       "      <td>3.025</td>\n",
       "      <td>6.972</td>\n",
       "      <td>4.340</td>\n",
       "      <td>0.389</td>\n",
       "      <td>47.514</td>\n",
       "    </tr>\n",
       "    <tr>\n",
       "      <th>50%</th>\n",
       "      <td>6.572</td>\n",
       "      <td>12.253</td>\n",
       "      <td>8.185</td>\n",
       "      <td>1.109</td>\n",
       "      <td>63.518</td>\n",
       "    </tr>\n",
       "    <tr>\n",
       "      <th>75%</th>\n",
       "      <td>13.367</td>\n",
       "      <td>20.021</td>\n",
       "      <td>14.756</td>\n",
       "      <td>2.955</td>\n",
       "      <td>78.874</td>\n",
       "    </tr>\n",
       "    <tr>\n",
       "      <th>max</th>\n",
       "      <td>167.586</td>\n",
       "      <td>869.055</td>\n",
       "      <td>434.214</td>\n",
       "      <td>270.812</td>\n",
       "      <td>260.836</td>\n",
       "    </tr>\n",
       "  </tbody>\n",
       "</table>\n",
       "</div>"
      ],
      "text/plain": [
       "                 NO2           PM10           PM25            SO2  \\\n",
       "count 96,195,780.000 96,195,780.000 96,195,780.000 96,195,780.000   \n",
       "mean           6.785          8.900          6.700          2.079   \n",
       "std           11.391         13.855         10.646          5.426   \n",
       "min            0.001          0.402          0.402          0.000   \n",
       "25%            3.025          6.972          4.340          0.389   \n",
       "50%            6.572         12.253          8.185          1.109   \n",
       "75%           13.367         20.021         14.756          2.955   \n",
       "max          167.586        869.055        434.214        270.812   \n",
       "\n",
       "                  O3  \n",
       "count 96,195,780.000  \n",
       "mean          22.833  \n",
       "std           38.035  \n",
       "min            0.000  \n",
       "25%           47.514  \n",
       "50%           63.518  \n",
       "75%           78.874  \n",
       "max          260.836  "
      ]
     },
     "execution_count": 26,
     "metadata": {},
     "output_type": "execute_result"
    }
   ],
   "source": [
    "%time data = data.combine_first(emep)\n",
    "data.sel(dataset='emepHC').drop(['lon','lat','alt']).to_dataframe().describe()"
   ]
  },
  {
   "cell_type": "code",
   "execution_count": 27,
   "metadata": {},
   "outputs": [],
   "source": [
    "save2nc(data,ncfile)\n",
    "del(emep)"
   ]
  },
  {
   "cell_type": "markdown",
   "metadata": {},
   "source": [
    "## (Re)Analysis runs\n",
    "4 overlaping runs, each producing **~6G** hourly output files."
   ]
  },
  {
   "cell_type": "code",
   "execution_count": 28,
   "metadata": {},
   "outputs": [
    {
     "name": "stdout",
     "output_type": "stream",
     "text": [
      "CPU times: user 8.61 s, sys: 3.11 s, total: 11.7 s\n",
      "Wall time: 3min 22s\n"
     ]
    },
    {
     "data": {
      "text/plain": [
       "<xarray.Dataset>\n",
       "Dimensions:            (dataset: 1, ilev: 9, lat: 369, lev: 8, lon: 301, time: 8761)\n",
       "Coordinates:\n",
       "  * time               (time) datetime64[ns] 2015-01-01 2015-01-01T01:00:00 ...\n",
       "  * lon                (lon) float64 -30.0 -29.75 -29.5 -29.25 -29.0 -28.75 ...\n",
       "  * lat                (lat) float64 30.0 30.12 30.25 30.38 30.5 30.62 30.75 ...\n",
       "  * lev                (lev) float64 0.9946 0.9838 0.9703 0.9509 0.8932 ...\n",
       "  * ilev               (ilev) float64 0.9892 0.9784 0.9621 0.9396 0.8756 ...\n",
       "  * dataset            (dataset) <U6 'emepAN'\n",
       "Data variables:\n",
       "    P0                 (dataset) float64 1.013e+03\n",
       "    hyam               (dataset, lev) float64 dask.array<shape=(1, 8), chunksize=(1, 8)>\n",
       "    hybm               (dataset, lev) float64 dask.array<shape=(1, 8), chunksize=(1, 8)>\n",
       "    hyai               (dataset, ilev) float64 dask.array<shape=(1, 9), chunksize=(1, 9)>\n",
       "    hybi               (dataset, ilev) float64 dask.array<shape=(1, 9), chunksize=(1, 9)>\n",
       "    SURF_ug_O3         (dataset, time, lat, lon) float32 dask.array<shape=(1, 8761, 369, 301), chunksize=(1, 6, 369, 301)>\n",
       "    SURF_ug_NO2        (dataset, time, lat, lon) float32 dask.array<shape=(1, 8761, 369, 301), chunksize=(1, 6, 369, 301)>\n",
       "    SURF_ug_PM25_rh50  (dataset, time, lat, lon) float32 dask.array<shape=(1, 8761, 369, 301), chunksize=(1, 6, 369, 301)>\n",
       "    SURF_ug_PM10_rh50  (dataset, time, lat, lon) float32 dask.array<shape=(1, 8761, 369, 301), chunksize=(1, 6, 369, 301)>\n",
       "    COLUMN_NO2_k20     (dataset, time, lat, lon) float32 dask.array<shape=(1, 8761, 369, 301), chunksize=(1, 6, 369, 301)>\n",
       "    COLUMN_O3_k20      (dataset, time, lat, lon) float32 dask.array<shape=(1, 8761, 369, 301), chunksize=(1, 6, 369, 301)>\n",
       "    AOD_550nm          (dataset, time, lat, lon) float32 dask.array<shape=(1, 8761, 369, 301), chunksize=(1, 6, 369, 301)>"
      ]
     },
     "execution_count": 28,
     "metadata": {},
     "output_type": "execute_result"
    }
   ],
   "source": [
    "%time ds = readRun('emepAN')\n",
    "ds"
   ]
  },
  {
   "cell_type": "markdown",
   "metadata": {},
   "source": [
    "### Collocate"
   ]
  },
  {
   "cell_type": "code",
   "execution_count": 29,
   "metadata": {},
   "outputs": [
    {
     "name": "stdout",
     "output_type": "stream",
     "text": [
      "[########################################] | 100% Completed | 12min  6.3s\n",
      "CPU times: user 9min 2s, sys: 2min 59s, total: 12min 1s\n",
      "Wall time: 12min 26s\n"
     ]
    }
   ],
   "source": [
    "surfEMEP = lambda ds: ds.rename(dict(\n",
    "    SURF_ug_O3='O3',\n",
    "    SURF_ug_NO2='NO2',\n",
    "#   SURF_ug_SO2='SO2',\n",
    "    SURF_ug_PM25_rh50='PM25',\n",
    "    SURF_ug_PM10_rh50='PM10',\n",
    ")).isel(lev=0).drop('lev')\n",
    "\n",
    "dropEMEP = 'P0 ilev hyam hybm hyai hybi COLUMN_NO2_k20 COLUMN_O3_k20 AOD_550nm'.split()\n",
    "\n",
    "with ProgressBar():\n",
    "    %time emep = collocate(surfEMEP(ds.drop(dropEMEP)), dlon=1/4, dlat=1/8)"
   ]
  },
  {
   "cell_type": "markdown",
   "metadata": {},
   "source": [
    "### Add to observation dataset"
   ]
  },
  {
   "cell_type": "code",
   "execution_count": 30,
   "metadata": {},
   "outputs": [
    {
     "name": "stdout",
     "output_type": "stream",
     "text": [
      "CPU times: user 5.01 s, sys: 560 ms, total: 5.57 s\n",
      "Wall time: 5.58 s\n"
     ]
    },
    {
     "data": {
      "text/html": [
       "<div>\n",
       "<style scoped>\n",
       "    .dataframe tbody tr th:only-of-type {\n",
       "        vertical-align: middle;\n",
       "    }\n",
       "\n",
       "    .dataframe tbody tr th {\n",
       "        vertical-align: top;\n",
       "    }\n",
       "\n",
       "    .dataframe thead th {\n",
       "        text-align: right;\n",
       "    }\n",
       "</style>\n",
       "<table border=\"1\" class=\"dataframe\">\n",
       "  <thead>\n",
       "    <tr style=\"text-align: right;\">\n",
       "      <th></th>\n",
       "      <th>NO2</th>\n",
       "      <th>PM10</th>\n",
       "      <th>PM25</th>\n",
       "      <th>SO2</th>\n",
       "      <th>O3</th>\n",
       "    </tr>\n",
       "  </thead>\n",
       "  <tbody>\n",
       "    <tr>\n",
       "      <th>count</th>\n",
       "      <td>96,195,780.000</td>\n",
       "      <td>96,195,780.000</td>\n",
       "      <td>96,195,780.000</td>\n",
       "      <td>0.000</td>\n",
       "      <td>96,195,780.000</td>\n",
       "    </tr>\n",
       "    <tr>\n",
       "      <th>mean</th>\n",
       "      <td>8.579</td>\n",
       "      <td>11.329</td>\n",
       "      <td>8.100</td>\n",
       "      <td>nan</td>\n",
       "      <td>23.851</td>\n",
       "    </tr>\n",
       "    <tr>\n",
       "      <th>std</th>\n",
       "      <td>12.333</td>\n",
       "      <td>15.777</td>\n",
       "      <td>12.414</td>\n",
       "      <td>nan</td>\n",
       "      <td>34.364</td>\n",
       "    </tr>\n",
       "    <tr>\n",
       "      <th>min</th>\n",
       "      <td>0.000</td>\n",
       "      <td>0.402</td>\n",
       "      <td>0.402</td>\n",
       "      <td>nan</td>\n",
       "      <td>0.000</td>\n",
       "    </tr>\n",
       "    <tr>\n",
       "      <th>25%</th>\n",
       "      <td>5.487</td>\n",
       "      <td>8.376</td>\n",
       "      <td>5.211</td>\n",
       "      <td>nan</td>\n",
       "      <td>27.607</td>\n",
       "    </tr>\n",
       "    <tr>\n",
       "      <th>50%</th>\n",
       "      <td>10.449</td>\n",
       "      <td>14.518</td>\n",
       "      <td>9.711</td>\n",
       "      <td>nan</td>\n",
       "      <td>49.529</td>\n",
       "    </tr>\n",
       "    <tr>\n",
       "      <th>75%</th>\n",
       "      <td>18.697</td>\n",
       "      <td>23.648</td>\n",
       "      <td>17.370</td>\n",
       "      <td>nan</td>\n",
       "      <td>69.582</td>\n",
       "    </tr>\n",
       "    <tr>\n",
       "      <th>max</th>\n",
       "      <td>235.185</td>\n",
       "      <td>880.153</td>\n",
       "      <td>434.334</td>\n",
       "      <td>nan</td>\n",
       "      <td>218.010</td>\n",
       "    </tr>\n",
       "  </tbody>\n",
       "</table>\n",
       "</div>"
      ],
      "text/plain": [
       "                 NO2           PM10           PM25   SO2             O3\n",
       "count 96,195,780.000 96,195,780.000 96,195,780.000 0.000 96,195,780.000\n",
       "mean           8.579         11.329          8.100   nan         23.851\n",
       "std           12.333         15.777         12.414   nan         34.364\n",
       "min            0.000          0.402          0.402   nan          0.000\n",
       "25%            5.487          8.376          5.211   nan         27.607\n",
       "50%           10.449         14.518          9.711   nan         49.529\n",
       "75%           18.697         23.648         17.370   nan         69.582\n",
       "max          235.185        880.153        434.334   nan        218.010"
      ]
     },
     "execution_count": 30,
     "metadata": {},
     "output_type": "execute_result"
    }
   ],
   "source": [
    "%time data = data.combine_first(emep)\n",
    "data.sel(dataset='emepAN').drop(['lon','lat','alt']).to_dataframe().describe()"
   ]
  },
  {
   "cell_type": "code",
   "execution_count": 31,
   "metadata": {},
   "outputs": [],
   "source": [
    "save2nc(data,ncfile)\n",
    "del(emep)"
   ]
  },
  {
   "cell_type": "markdown",
   "metadata": {},
   "source": [
    "# (Re)Analysis Re-runs\n",
    "4 overlaping runs, each producing **~6G** hourly output files."
   ]
  },
  {
   "cell_type": "code",
   "execution_count": 32,
   "metadata": {},
   "outputs": [
    {
     "name": "stdout",
     "output_type": "stream",
     "text": [
      "CPU times: user 9.03 s, sys: 2.38 s, total: 11.4 s\n",
      "Wall time: 2min 7s\n"
     ]
    },
    {
     "data": {
      "text/plain": [
       "<xarray.Dataset>\n",
       "Dimensions:            (dataset: 1, ilev: 9, lat: 369, lev: 8, lon: 301, time: 8761)\n",
       "Coordinates:\n",
       "  * time               (time) datetime64[ns] 2015-01-01 2015-01-01T01:00:00 ...\n",
       "  * lon                (lon) float64 -30.0 -29.75 -29.5 -29.25 -29.0 -28.75 ...\n",
       "  * lat                (lat) float64 30.0 30.12 30.25 30.38 30.5 30.62 30.75 ...\n",
       "  * lev                (lev) float64 0.9946 0.9838 0.9703 0.9509 0.8932 ...\n",
       "  * ilev               (ilev) float64 0.9892 0.9784 0.9621 0.9396 0.8756 ...\n",
       "  * dataset            (dataset) <U6 'emepRE'\n",
       "Data variables:\n",
       "    P0                 (dataset) float64 1.013e+03\n",
       "    hyam               (dataset, lev) float64 dask.array<shape=(1, 8), chunksize=(1, 8)>\n",
       "    hybm               (dataset, lev) float64 dask.array<shape=(1, 8), chunksize=(1, 8)>\n",
       "    hyai               (dataset, ilev) float64 dask.array<shape=(1, 9), chunksize=(1, 9)>\n",
       "    hybi               (dataset, ilev) float64 dask.array<shape=(1, 9), chunksize=(1, 9)>\n",
       "    SURF_ug_O3         (dataset, time, lat, lon) float32 dask.array<shape=(1, 8761, 369, 301), chunksize=(1, 6, 369, 301)>\n",
       "    SURF_ug_NO2        (dataset, time, lat, lon) float32 dask.array<shape=(1, 8761, 369, 301), chunksize=(1, 6, 369, 301)>\n",
       "    SURF_ug_PM25_rh50  (dataset, time, lat, lon) float32 dask.array<shape=(1, 8761, 369, 301), chunksize=(1, 6, 369, 301)>\n",
       "    SURF_ug_PM10_rh50  (dataset, time, lat, lon) float32 dask.array<shape=(1, 8761, 369, 301), chunksize=(1, 6, 369, 301)>\n",
       "    SURF_ug_SO2        (dataset, time, lat, lon) float32 dask.array<shape=(1, 8761, 369, 301), chunksize=(1, 6, 369, 301)>\n",
       "    COLUMN_NO2_k20     (dataset, time, lat, lon) float32 dask.array<shape=(1, 8761, 369, 301), chunksize=(1, 6, 369, 301)>\n",
       "    COLUMN_O3_k20      (dataset, time, lat, lon) float32 dask.array<shape=(1, 8761, 369, 301), chunksize=(1, 6, 369, 301)>\n",
       "    AOD_550nm          (dataset, time, lat, lon) float32 dask.array<shape=(1, 8761, 369, 301), chunksize=(1, 6, 369, 301)>"
      ]
     },
     "execution_count": 32,
     "metadata": {},
     "output_type": "execute_result"
    }
   ],
   "source": [
    "%time ds = readRun('emepRE')\n",
    "ds"
   ]
  },
  {
   "cell_type": "code",
   "execution_count": 33,
   "metadata": {},
   "outputs": [
    {
     "name": "stdout",
     "output_type": "stream",
     "text": [
      "[########################################] | 100% Completed | 17min  9.7s\n",
      "CPU times: user 11min 22s, sys: 5min 41s, total: 17min 4s\n",
      "Wall time: 17min 40s\n"
     ]
    }
   ],
   "source": [
    "surfEMEP = lambda ds: ds.rename(dict(\n",
    "    SURF_ug_O3='O3',\n",
    "    SURF_ug_NO2='NO2',\n",
    "    SURF_ug_SO2='SO2',\n",
    "    SURF_ug_PM25_rh50='PM25',\n",
    "    SURF_ug_PM10_rh50='PM10',\n",
    ")).isel(lev=0).drop('lev')\n",
    "\n",
    "dropEMEP = 'P0 ilev hyam hybm hyai hybi COLUMN_NO2_k20 COLUMN_O3_k20 AOD_550nm'.split()\n",
    "\n",
    "with ProgressBar():\n",
    "    %time emep = collocate(surfEMEP(ds.drop(dropEMEP)), dlon=1/4, dlat=1/8)"
   ]
  },
  {
   "cell_type": "code",
   "execution_count": 34,
   "metadata": {},
   "outputs": [
    {
     "data": {
      "text/plain": [
       "<xarray.Dataset>\n",
       "Dimensions:  (dataset: 1, station: 2237, time: 8761)\n",
       "Coordinates:\n",
       "  * time     (time) datetime64[ns] 2015-01-01 2015-01-01T01:00:00 ...\n",
       "  * dataset  (dataset) <U6 'emepRE'\n",
       "  * station  (station) object 'AD0944A' 'AD0945A' 'AL0203A' 'AL0204A' ...\n",
       "Data variables:\n",
       "    O3       (dataset, time, station) float32 68.562416 64.24701 54.29532 ...\n",
       "    NO2      (dataset, time, station) float32 0.0 0.0 5.753371 2.8036213 ...\n",
       "    PM25     (dataset, time, station) float32 0.9968202 1.126349 8.84856 ...\n",
       "    PM10     (dataset, time, station) float32 1.5719622 1.7240334 10.386877 ...\n",
       "    SO2      (dataset, time, station) float32 0.0 0.0 5.1408052 7.74594 ...\n",
       "    lon      (station) float64 1.5 1.75 20.75 19.5 19.5 13.75 16.75 16.0 ...\n",
       "    lat      (station) float64 42.5 42.5 40.62 40.38 42.38 48.38 47.75 46.75 ..."
      ]
     },
     "execution_count": 34,
     "metadata": {},
     "output_type": "execute_result"
    }
   ],
   "source": [
    "emep"
   ]
  },
  {
   "cell_type": "markdown",
   "metadata": {},
   "source": [
    "## Add to observation dataset"
   ]
  },
  {
   "cell_type": "code",
   "execution_count": 35,
   "metadata": {},
   "outputs": [
    {
     "name": "stdout",
     "output_type": "stream",
     "text": [
      "CPU times: user 6.97 s, sys: 1.19 s, total: 8.16 s\n",
      "Wall time: 8.15 s\n"
     ]
    },
    {
     "data": {
      "text/html": [
       "<div>\n",
       "<style scoped>\n",
       "    .dataframe tbody tr th:only-of-type {\n",
       "        vertical-align: middle;\n",
       "    }\n",
       "\n",
       "    .dataframe tbody tr th {\n",
       "        vertical-align: top;\n",
       "    }\n",
       "\n",
       "    .dataframe thead th {\n",
       "        text-align: right;\n",
       "    }\n",
       "</style>\n",
       "<table border=\"1\" class=\"dataframe\">\n",
       "  <thead>\n",
       "    <tr style=\"text-align: right;\">\n",
       "      <th></th>\n",
       "      <th>NO2</th>\n",
       "      <th>PM10</th>\n",
       "      <th>PM25</th>\n",
       "      <th>SO2</th>\n",
       "      <th>O3</th>\n",
       "    </tr>\n",
       "  </thead>\n",
       "  <tbody>\n",
       "    <tr>\n",
       "      <th>count</th>\n",
       "      <td>96,195,780.000</td>\n",
       "      <td>96,195,780.000</td>\n",
       "      <td>96,195,780.000</td>\n",
       "      <td>96,195,780.000</td>\n",
       "      <td>96,195,780.000</td>\n",
       "    </tr>\n",
       "    <tr>\n",
       "      <th>mean</th>\n",
       "      <td>8.582</td>\n",
       "      <td>11.388</td>\n",
       "      <td>8.161</td>\n",
       "      <td>1.728</td>\n",
       "      <td>24.063</td>\n",
       "    </tr>\n",
       "    <tr>\n",
       "      <th>std</th>\n",
       "      <td>12.351</td>\n",
       "      <td>15.949</td>\n",
       "      <td>12.497</td>\n",
       "      <td>4.030</td>\n",
       "      <td>34.545</td>\n",
       "    </tr>\n",
       "    <tr>\n",
       "      <th>min</th>\n",
       "      <td>0.000</td>\n",
       "      <td>0.402</td>\n",
       "      <td>0.402</td>\n",
       "      <td>0.000</td>\n",
       "      <td>0.000</td>\n",
       "    </tr>\n",
       "    <tr>\n",
       "      <th>25%</th>\n",
       "      <td>5.487</td>\n",
       "      <td>8.379</td>\n",
       "      <td>5.210</td>\n",
       "      <td>0.640</td>\n",
       "      <td>27.610</td>\n",
       "    </tr>\n",
       "    <tr>\n",
       "      <th>50%</th>\n",
       "      <td>10.449</td>\n",
       "      <td>14.535</td>\n",
       "      <td>9.716</td>\n",
       "      <td>1.472</td>\n",
       "      <td>49.533</td>\n",
       "    </tr>\n",
       "    <tr>\n",
       "      <th>75%</th>\n",
       "      <td>18.697</td>\n",
       "      <td>23.716</td>\n",
       "      <td>17.419</td>\n",
       "      <td>3.088</td>\n",
       "      <td>69.601</td>\n",
       "    </tr>\n",
       "    <tr>\n",
       "      <th>max</th>\n",
       "      <td>235.100</td>\n",
       "      <td>880.371</td>\n",
       "      <td>434.334</td>\n",
       "      <td>423.458</td>\n",
       "      <td>261.428</td>\n",
       "    </tr>\n",
       "  </tbody>\n",
       "</table>\n",
       "</div>"
      ],
      "text/plain": [
       "                 NO2           PM10           PM25            SO2  \\\n",
       "count 96,195,780.000 96,195,780.000 96,195,780.000 96,195,780.000   \n",
       "mean           8.582         11.388          8.161          1.728   \n",
       "std           12.351         15.949         12.497          4.030   \n",
       "min            0.000          0.402          0.402          0.000   \n",
       "25%            5.487          8.379          5.210          0.640   \n",
       "50%           10.449         14.535          9.716          1.472   \n",
       "75%           18.697         23.716         17.419          3.088   \n",
       "max          235.100        880.371        434.334        423.458   \n",
       "\n",
       "                  O3  \n",
       "count 96,195,780.000  \n",
       "mean          24.063  \n",
       "std           34.545  \n",
       "min            0.000  \n",
       "25%           27.610  \n",
       "50%           49.533  \n",
       "75%           69.601  \n",
       "max          261.428  "
      ]
     },
     "execution_count": 35,
     "metadata": {},
     "output_type": "execute_result"
    }
   ],
   "source": [
    "%time data = data.combine_first(emep)\n",
    "data.sel(dataset='emepRE').drop(['lon','lat','alt']).to_dataframe().describe()"
   ]
  },
  {
   "cell_type": "code",
   "execution_count": 36,
   "metadata": {},
   "outputs": [],
   "source": [
    "save2nc(data,ncfile)\n",
    "del(emep)"
   ]
  },
  {
   "cell_type": "markdown",
   "metadata": {},
   "source": [
    "# (Re)Analysis Re-runs with PM assimilation\n",
    "4 overlaping runs, each producing **~6G** hourly output files."
   ]
  },
  {
   "cell_type": "code",
   "execution_count": 37,
   "metadata": {},
   "outputs": [
    {
     "name": "stdout",
     "output_type": "stream",
     "text": [
      "CPU times: user 10 s, sys: 2.71 s, total: 12.7 s\n",
      "Wall time: 2min 27s\n"
     ]
    },
    {
     "data": {
      "text/plain": [
       "<xarray.Dataset>\n",
       "Dimensions:            (dataset: 1, ilev: 9, lat: 369, lev: 8, lon: 301, time: 8737)\n",
       "Coordinates:\n",
       "  * time               (time) datetime64[ns] 2015-01-01 2015-01-01T01:00:00 ...\n",
       "  * lon                (lon) float64 -30.0 -29.75 -29.5 -29.25 -29.0 -28.75 ...\n",
       "  * lat                (lat) float64 30.0 30.12 30.25 30.38 30.5 30.62 30.75 ...\n",
       "  * lev                (lev) float64 0.9946 0.9838 0.9703 0.9509 0.8932 ...\n",
       "  * ilev               (ilev) float64 0.9892 0.9784 0.9621 0.9396 0.8756 ...\n",
       "  * dataset            (dataset) <U6 'emepPM'\n",
       "Data variables:\n",
       "    P0                 (dataset) float64 1.013e+03\n",
       "    hyam               (dataset, lev) float64 dask.array<shape=(1, 8), chunksize=(1, 8)>\n",
       "    hybm               (dataset, lev) float64 dask.array<shape=(1, 8), chunksize=(1, 8)>\n",
       "    hyai               (dataset, ilev) float64 dask.array<shape=(1, 9), chunksize=(1, 9)>\n",
       "    hybi               (dataset, ilev) float64 dask.array<shape=(1, 9), chunksize=(1, 9)>\n",
       "    SURF_ug_O3         (dataset, time, lat, lon) float32 dask.array<shape=(1, 8737, 369, 301), chunksize=(1, 6, 369, 301)>\n",
       "    SURF_ug_NO2        (dataset, time, lat, lon) float32 dask.array<shape=(1, 8737, 369, 301), chunksize=(1, 6, 369, 301)>\n",
       "    SURF_ug_PM25_rh50  (dataset, time, lat, lon) float32 dask.array<shape=(1, 8737, 369, 301), chunksize=(1, 6, 369, 301)>\n",
       "    SURF_ug_PM10_rh50  (dataset, time, lat, lon) float32 dask.array<shape=(1, 8737, 369, 301), chunksize=(1, 6, 369, 301)>\n",
       "    SURF_ug_SO2        (dataset, time, lat, lon) float32 dask.array<shape=(1, 8737, 369, 301), chunksize=(1, 6, 369, 301)>\n",
       "    SURF_ug_CO         (dataset, time, lat, lon) float32 dask.array<shape=(1, 8737, 369, 301), chunksize=(1, 6, 369, 301)>\n",
       "    COLUMN_NO2_k20     (dataset, time, lat, lon) float32 dask.array<shape=(1, 8737, 369, 301), chunksize=(1, 6, 369, 301)>\n",
       "    COLUMN_O3_k20      (dataset, time, lat, lon) float32 dask.array<shape=(1, 8737, 369, 301), chunksize=(1, 6, 369, 301)>\n",
       "    AOD_550nm          (dataset, time, lat, lon) float32 dask.array<shape=(1, 8737, 369, 301), chunksize=(1, 6, 369, 301)>"
      ]
     },
     "execution_count": 37,
     "metadata": {},
     "output_type": "execute_result"
    }
   ],
   "source": [
    "%time ds = readRun('emepPM')\n",
    "ds"
   ]
  },
  {
   "cell_type": "code",
   "execution_count": 38,
   "metadata": {},
   "outputs": [
    {
     "name": "stdout",
     "output_type": "stream",
     "text": [
      "[########################################] | 100% Completed | 17min 26.7s\n",
      "CPU times: user 12min 31s, sys: 4min 54s, total: 17min 26s\n",
      "Wall time: 18min 17s\n"
     ]
    }
   ],
   "source": [
    "surfEMEP = lambda ds: ds.rename(dict(\n",
    "    SURF_ug_O3='O3',\n",
    "    SURF_ug_NO2='NO2',\n",
    "    SURF_ug_SO2='SO2',\n",
    "    SURF_ug_PM25_rh50='PM25',\n",
    "    SURF_ug_PM10_rh50='PM10',\n",
    ")).isel(lev=0).drop('lev')\n",
    "\n",
    "dropEMEP = 'P0 ilev hyam hybm hyai hybi SURF_ug_CO COLUMN_NO2_k20 COLUMN_O3_k20 AOD_550nm'.split()\n",
    "\n",
    "with ProgressBar():\n",
    "    %time emep = collocate(surfEMEP(ds.drop(dropEMEP)), dlon=1/4, dlat=1/8)"
   ]
  },
  {
   "cell_type": "code",
   "execution_count": 39,
   "metadata": {},
   "outputs": [
    {
     "data": {
      "text/plain": [
       "<xarray.Dataset>\n",
       "Dimensions:  (dataset: 1, station: 2237, time: 8737)\n",
       "Coordinates:\n",
       "  * time     (time) datetime64[ns] 2015-01-01 2015-01-01T01:00:00 ...\n",
       "  * dataset  (dataset) <U6 'emepPM'\n",
       "  * station  (station) object 'AD0944A' 'AD0945A' 'AL0203A' 'AL0204A' ...\n",
       "Data variables:\n",
       "    O3       (dataset, time, station) float32 89.58768 81.01154 57.31129 ...\n",
       "    NO2      (dataset, time, station) float32 14.632897 22.119638 6.565931 ...\n",
       "    PM25     (dataset, time, station) float32 0.9968202 1.126349 8.84856 ...\n",
       "    PM10     (dataset, time, station) float32 16.215338 15.908787 17.878729 ...\n",
       "    SO2      (dataset, time, station) float32 0.059296325 0.09271451 ...\n",
       "    lon      (station) float64 1.5 1.75 20.75 19.5 19.5 13.75 16.75 16.0 ...\n",
       "    lat      (station) float64 42.5 42.5 40.62 40.38 42.38 48.38 47.75 46.75 ..."
      ]
     },
     "execution_count": 39,
     "metadata": {},
     "output_type": "execute_result"
    }
   ],
   "source": [
    "emep"
   ]
  },
  {
   "cell_type": "markdown",
   "metadata": {},
   "source": [
    "## Add to observation dataset"
   ]
  },
  {
   "cell_type": "code",
   "execution_count": 40,
   "metadata": {},
   "outputs": [
    {
     "name": "stdout",
     "output_type": "stream",
     "text": [
      "CPU times: user 17.3 s, sys: 1.66 s, total: 19 s\n",
      "Wall time: 18.9 s\n"
     ]
    },
    {
     "data": {
      "text/html": [
       "<div>\n",
       "<style scoped>\n",
       "    .dataframe tbody tr th:only-of-type {\n",
       "        vertical-align: middle;\n",
       "    }\n",
       "\n",
       "    .dataframe tbody tr th {\n",
       "        vertical-align: top;\n",
       "    }\n",
       "\n",
       "    .dataframe thead th {\n",
       "        text-align: right;\n",
       "    }\n",
       "</style>\n",
       "<table border=\"1\" class=\"dataframe\">\n",
       "  <thead>\n",
       "    <tr style=\"text-align: right;\">\n",
       "      <th></th>\n",
       "      <th>NO2</th>\n",
       "      <th>PM10</th>\n",
       "      <th>PM25</th>\n",
       "      <th>SO2</th>\n",
       "      <th>O3</th>\n",
       "    </tr>\n",
       "  </thead>\n",
       "  <tbody>\n",
       "    <tr>\n",
       "      <th>count</th>\n",
       "      <td>95,932,260.000</td>\n",
       "      <td>95,932,260.000</td>\n",
       "      <td>95,932,260.000</td>\n",
       "      <td>95,932,260.000</td>\n",
       "      <td>95,932,260.000</td>\n",
       "    </tr>\n",
       "    <tr>\n",
       "      <th>mean</th>\n",
       "      <td>10.369</td>\n",
       "      <td>13.155</td>\n",
       "      <td>9.357</td>\n",
       "      <td>2.148</td>\n",
       "      <td>24.846</td>\n",
       "    </tr>\n",
       "    <tr>\n",
       "      <th>std</th>\n",
       "      <td>14.165</td>\n",
       "      <td>22.998</td>\n",
       "      <td>15.863</td>\n",
       "      <td>5.510</td>\n",
       "      <td>36.878</td>\n",
       "    </tr>\n",
       "    <tr>\n",
       "      <th>min</th>\n",
       "      <td>0.000</td>\n",
       "      <td>0.004</td>\n",
       "      <td>0.004</td>\n",
       "      <td>0.000</td>\n",
       "      <td>0.000</td>\n",
       "    </tr>\n",
       "    <tr>\n",
       "      <th>25%</th>\n",
       "      <td>6.270</td>\n",
       "      <td>10.498</td>\n",
       "      <td>6.143</td>\n",
       "      <td>0.794</td>\n",
       "      <td>32.412</td>\n",
       "    </tr>\n",
       "    <tr>\n",
       "      <th>50%</th>\n",
       "      <td>11.727</td>\n",
       "      <td>16.938</td>\n",
       "      <td>11.412</td>\n",
       "      <td>1.797</td>\n",
       "      <td>53.475</td>\n",
       "    </tr>\n",
       "    <tr>\n",
       "      <th>75%</th>\n",
       "      <td>21.363</td>\n",
       "      <td>27.050</td>\n",
       "      <td>19.446</td>\n",
       "      <td>3.677</td>\n",
       "      <td>73.390</td>\n",
       "    </tr>\n",
       "    <tr>\n",
       "      <th>max</th>\n",
       "      <td>238.011</td>\n",
       "      <td>739.413</td>\n",
       "      <td>521.227</td>\n",
       "      <td>884.986</td>\n",
       "      <td>291.141</td>\n",
       "    </tr>\n",
       "  </tbody>\n",
       "</table>\n",
       "</div>"
      ],
      "text/plain": [
       "                 NO2           PM10           PM25            SO2  \\\n",
       "count 95,932,260.000 95,932,260.000 95,932,260.000 95,932,260.000   \n",
       "mean          10.369         13.155          9.357          2.148   \n",
       "std           14.165         22.998         15.863          5.510   \n",
       "min            0.000          0.004          0.004          0.000   \n",
       "25%            6.270         10.498          6.143          0.794   \n",
       "50%           11.727         16.938         11.412          1.797   \n",
       "75%           21.363         27.050         19.446          3.677   \n",
       "max          238.011        739.413        521.227        884.986   \n",
       "\n",
       "                  O3  \n",
       "count 95,932,260.000  \n",
       "mean          24.846  \n",
       "std           36.878  \n",
       "min            0.000  \n",
       "25%           32.412  \n",
       "50%           53.475  \n",
       "75%           73.390  \n",
       "max          291.141  "
      ]
     },
     "execution_count": 40,
     "metadata": {},
     "output_type": "execute_result"
    }
   ],
   "source": [
    "%time data = data.combine_first(emep)\n",
    "data.sel(dataset='emepPM').drop(['lon','lat','alt']).to_dataframe().describe()"
   ]
  },
  {
   "cell_type": "code",
   "execution_count": 41,
   "metadata": {},
   "outputs": [],
   "source": [
    "save2nc(data,ncfile)\n",
    "del(emep)"
   ]
  },
  {
   "cell_type": "code",
   "execution_count": null,
   "metadata": {},
   "outputs": [],
   "source": []
  }
 ],
 "metadata": {
  "kernelspec": {
   "display_name": "Python 3",
   "language": "python",
   "name": "python3"
  },
  "language_info": {
   "codemirror_mode": {
    "name": "ipython",
    "version": 3
   },
   "file_extension": ".py",
   "mimetype": "text/x-python",
   "name": "python",
   "nbconvert_exporter": "python",
   "pygments_lexer": "ipython3",
   "version": "3.6.4"
  },
  "toc": {
   "nav_menu": {},
   "number_sections": true,
   "sideBar": true,
   "skip_h1_title": false,
   "title_cell": "Table of Contents",
   "title_sidebar": "Contents",
   "toc_cell": false,
   "toc_position": {},
   "toc_section_display": true,
   "toc_window_display": false
  }
 },
 "nbformat": 4,
 "nbformat_minor": 2
}
