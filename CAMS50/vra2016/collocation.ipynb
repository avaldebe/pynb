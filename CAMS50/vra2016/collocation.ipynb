{
 "cells": [
  {
   "cell_type": "markdown",
   "metadata": {},
   "source": [
    "# CAMS50 VRA2016: Collocated model results\n",
    "CAMS50 runs a reanalysis with validated obrvations 2 years after the fact."
   ]
  },
  {
   "cell_type": "code",
   "execution_count": 1,
   "metadata": {},
   "outputs": [],
   "source": [
    "from glob import glob\n",
    "from os.path import isfile, basename, dirname\n",
    "from os import remove\n",
    "\n",
    "import numpy as np\n",
    "import pandas as pd\n",
    "import xarray as xr\n",
    "import xarray.ufuncs as xu\n",
    "from dask.diagnostics import ProgressBar\n",
    "\n",
    "# only 3 decimal points on df.head() and df.describe()\n",
    "pd.options.display.float_format = '{:,.3f}'.format"
   ]
  },
  {
   "cell_type": "markdown",
   "metadata": {},
   "source": [
    "## Datasets\n",
    "- `eeaVRA`: validated surface obs for data assimilation\n",
    "- `eeaVAL`: validated surface obs for model evaluataion\n",
    "- `cifsBC`: CIFS boundary conditions\n",
    "- `emepHC`: hindcast run (no DA), operasional version (CAMS50.201801)\n",
    "- `emepSS`: hindcast run (no DA), operasional version (CAMS50.201801)\n",
    "- `emepAN`: (re)analysis run (DA: NO2,O3,SO2), operasional version (CAMS50.201801; DA16)\n",
    "- `emepCO`: (re)analysis run (DA: NO2,O3,SO2,CO), operasional version (CAMS50.201801; DA16)\n",
    "- `emepPM`: (re)analysis run (DA: NO2,O3,SO2,PM25,PM10), development version (CAMS50.201801; DA17 wo/PM feedback)"
   ]
  },
  {
   "cell_type": "code",
   "execution_count": 2,
   "metadata": {},
   "outputs": [
    {
     "name": "stdout",
     "output_type": "stream",
     "text": [
      "eeaVRA:   6 files\n",
      "eeaVAL:   6 files\n",
      "cifsBC: 366 files\n",
      "emepHC:   1 files\n",
      "emepSS:   0 files\n",
      "emepAN:   4 files\n",
      "emepCO:   4 files\n",
      "emepPM:   0 files\n"
     ]
    }
   ],
   "source": [
    "lustre = \"/lustre/storeA/users/alvarov/CAMS50/%s\"\n",
    "files = dict(\n",
    "    eeaVRA=glob(lustre%'obs/VRA_2016/assimilation_*.nc'),\n",
    "    eeaVAL=glob(lustre%'obs/VRA_2016/validation_*.nc'),\n",
    "    cifsBC=glob(lustre%'2016_VRA/VRA_2016????_EU_EVA.nc'),\n",
    "    emepHC=glob(lustre%'VRA-2016/BM_CAMS50.201801/VRA00-2016.nc'),\n",
    "    emepSS=glob(lustre%'VRA-2016/BM_CAMS50.201801/VRA00SS-2016.nc'),\n",
    "    emepAN=glob(lustre%'VRA-2016/BM_CAMS50.201801/VRA00AN-2016Q?.nc'),\n",
    "    emepCO=glob(lustre%'VRA-2016/BM_CAMS50.201801/VRA00CO-2016Q?.nc'),\n",
    "    emepPM=glob(lustre%'VRA-2016/BM_CAMS50.201801/VRA00PM-2016.nc'),\n",
    ")\n",
    "for k,v in files.items():\n",
    "    print(\"%s: %3d files\"%(k,len(v)))"
   ]
  },
  {
   "cell_type": "code",
   "execution_count": 3,
   "metadata": {},
   "outputs": [],
   "source": [
    "# save collocated datasets\n",
    "def save2nc(ds=None, f=lustre%'vra2016colloc.nc'):\n",
    "    if isfile(f):\n",
    "        data = xr.open_dataset(f, autoclose=True).load()\n",
    "        if ds:\n",
    "            data = data.combine_first(ds)\n",
    "            for param in ds.data_vars: \n",
    "                if 'units' not in data[param].attrs:\n",
    "                    data[param].attrs.update(ds[param].attrs)\n",
    "            data.to_netcdf(f, mode='w')\n",
    "            del(ds)\n",
    "        return data\n",
    "    elif ds:\n",
    "        ds.to_netcdf(f, mode='w')\n",
    "        return ds\n",
    "    else:\n",
    "        return xr.Dataset()"
   ]
  },
  {
   "cell_type": "markdown",
   "metadata": {},
   "source": [
    "# Validated Observations\n",
    "The processing of the observatiuon datasets is dealt in a separate [notebook](stations.ipynb)"
   ]
  },
  {
   "cell_type": "markdown",
   "metadata": {},
   "source": [
    "## Unique stations"
   ]
  },
  {
   "cell_type": "code",
   "execution_count": 4,
   "metadata": {},
   "outputs": [
    {
     "name": "stdout",
     "output_type": "stream",
     "text": [
      "CPU times: user 312 ms, sys: 1.14 s, total: 1.45 s\n",
      "Wall time: 26 s\n",
      "CPU times: user 8 ms, sys: 0 ns, total: 8 ms\n",
      "Wall time: 8.07 ms\n"
     ]
    },
    {
     "data": {
      "text/plain": [
       "<xarray.Dataset>\n",
       "Dimensions:  (poll: 6, station: 2331)\n",
       "Coordinates:\n",
       "    cls      (poll, station) object 'background/urban' '' '' ...\n",
       "  * station  (station) object 'AD0942A' 'AD0944A' 'AD0945A' 'AL0203A' ...\n",
       "  * poll     (poll) object 'CO' 'NO2' 'O3' 'PM10' 'PM25' 'SO2'\n",
       "Data variables:\n",
       "    lon      (station) float32 1.539138 1.56525 1.716986 20.78018 19.4862 ...\n",
       "    lat      (station) float32 42.509693 42.516945 42.53488 40.62593 ...\n",
       "    alt      (station) float32 1080.0 1637.0 2515.0 848.0 25.0 13.0 525.0 ...\n",
       "Attributes:\n",
       "    source:   /home/alvarov/obs4cwf/2016_AirBase/data.background.assimilation..."
      ]
     },
     "execution_count": 4,
     "metadata": {},
     "output_type": "execute_result"
    }
   ],
   "source": [
    "%time stat = save2nc()[['lon','lat','alt','cls']]\n",
    "%time stat = stat.sel(dataset='eeaVRA').combine_first(stat.sel(dataset='eeaVAL'))\n",
    "stat"
   ]
  },
  {
   "cell_type": "markdown",
   "metadata": {},
   "source": [
    "# Collocation\n",
    "For point-wise collocation, the lon/lat indexers need to be xarray.DataArrays."
   ]
  },
  {
   "cell_type": "code",
   "execution_count": 5,
   "metadata": {},
   "outputs": [],
   "source": [
    "def collocate(ds, lon=stat.lon, lat=stat.lat, dlon=1/4, dlat=1/8):\n",
    "    \"\"\"\n",
    "    collocate dataset to coordinates\n",
    "      for point-wise selection lon/lat need to be DataArrays (and ds.load())\n",
    "      .sel(.., tolerance=max(dlat,dlon)) raise a KeyError for points outside domain\n",
    "    \"\"\"\n",
    "    col = ds.load().sel(lon=lon, lat=lat, method='nearest')\n",
    "    return col.where(abs(col.lon-lon)<dlon*0.5)\\\n",
    "              .where(abs(col.lat-lat)<dlat*0.5)\\\n",
    "              .reset_coords()"
   ]
  },
  {
   "cell_type": "markdown",
   "metadata": {},
   "source": [
    "# Boundary conditions\n",
    "From CIFS reanalysis. Daily files with 3-hourly records. \n",
    "- 366 files ~333M each, total 119Gb."
   ]
  },
  {
   "cell_type": "code",
   "execution_count": 6,
   "metadata": {},
   "outputs": [
    {
     "name": "stdout",
     "output_type": "stream",
     "text": [
      "CPU times: user 60 ms, sys: 4 ms, total: 64 ms\n",
      "Wall time: 617 ms\n"
     ]
    },
    {
     "data": {
      "text/plain": [
       "<xarray.Dataset>\n",
       "Dimensions:    (ilevel: 61, latitude: 65, level: 60, longitude: 207, time: 8)\n",
       "Coordinates:\n",
       "  * longitude  (longitude) float32 -115.875 -114.75 -113.625 -112.5 -111.375 ...\n",
       "  * latitude   (latitude) float32 81.0 79.875 78.75 77.625 76.5 75.375 74.25 ...\n",
       "  * level      (level) int32 1 2 3 4 5 6 7 8 9 10 11 12 13 14 15 16 17 18 19 ...\n",
       "  * time       (time) datetime64[ns] 2016-02-09 2016-02-09T03:00:00 ...\n",
       "Dimensions without coordinates: ilevel\n",
       "Data variables:\n",
       "    t          (time, level, latitude, longitude) float32 ...\n",
       "    aermr01    (time, level, latitude, longitude) float32 ...\n",
       "    aermr02    (time, level, latitude, longitude) float32 ...\n",
       "    aermr03    (time, level, latitude, longitude) float32 ...\n",
       "    aermr04    (time, level, latitude, longitude) float32 ...\n",
       "    aermr05    (time, level, latitude, longitude) float32 ...\n",
       "    aermr06    (time, level, latitude, longitude) float32 ...\n",
       "    aermr07    (time, level, latitude, longitude) float32 ...\n",
       "    aermr08    (time, level, latitude, longitude) float32 ...\n",
       "    aermr09    (time, level, latitude, longitude) float32 ...\n",
       "    aermr10    (time, level, latitude, longitude) float32 ...\n",
       "    aermr11    (time, level, latitude, longitude) float32 ...\n",
       "    aermr12    (time, level, latitude, longitude) float32 ...\n",
       "    no2        (time, level, latitude, longitude) float32 ...\n",
       "    so2        (time, level, latitude, longitude) float32 ...\n",
       "    co         (time, level, latitude, longitude) float32 ...\n",
       "    go3        (time, level, latitude, longitude) float32 ...\n",
       "    hno3       (time, level, latitude, longitude) float32 ...\n",
       "    pan        (time, level, latitude, longitude) float32 ...\n",
       "    no         (time, level, latitude, longitude) float32 ...\n",
       "    hcho       (time, level, latitude, longitude) float32 ...\n",
       "    ch4        (time, level, latitude, longitude) float32 ...\n",
       "    c5h8       (time, level, latitude, longitude) float32 ...\n",
       "    oh         (time, level, latitude, longitude) float32 ...\n",
       "    n2o5       (time, level, latitude, longitude) float32 ...\n",
       "    c2h6       (time, level, latitude, longitude) float32 ...\n",
       "    c3h8       (time, level, latitude, longitude) float32 ...\n",
       "    hyai       (ilevel) float32 ...\n",
       "    hybi       (ilevel) float32 ...\n",
       "    lnsp       (time, latitude, longitude) float32 ..."
      ]
     },
     "execution_count": 6,
     "metadata": {},
     "output_type": "execute_result"
    }
   ],
   "source": [
    "%time ds = xr.open_dataset(files['cifsBC'][0])\n",
    "ds"
   ]
  },
  {
   "cell_type": "code",
   "execution_count": 7,
   "metadata": {},
   "outputs": [
    {
     "name": "stdout",
     "output_type": "stream",
     "text": [
      "CPU times: user 32 ms, sys: 4 ms, total: 36 ms\n",
      "Wall time: 405 ms\n"
     ]
    },
    {
     "data": {
      "text/plain": [
       "<xarray.Dataset>\n",
       "Dimensions:  (station: 2331, time: 8)\n",
       "Coordinates:\n",
       "  * time     (time) datetime64[ns] 2016-02-09 2016-02-09T03:00:00 ...\n",
       "  * station  (station) object 'AD0942A' 'AD0944A' 'AD0945A' 'AL0203A' ...\n",
       "Data variables:\n",
       "    t        (time, station) float32 279.74927 279.74927 281.19107 278.21692 ...\n",
       "    NO2      (time, station) float32 1.5324733e-08 1.5324733e-08 ...\n",
       "    SO2      (time, station) float32 3.3162166e-09 3.3162166e-09 ...\n",
       "    CO       (time, station) float32 2.3641746e-07 2.3641746e-07 ...\n",
       "    O3       (time, station) float32 2.1464075e-08 2.1464075e-08 ...\n",
       "    lnsp     (time, station) float32 11.428396 11.428396 11.4627495 ...\n",
       "    lon      (station) float32 1.125 1.125 2.25 20.25 19.125 19.125 13.5 ...\n",
       "    lat      (station) float32 42.75 42.75 42.75 40.5 40.5 42.75 48.375 ..."
      ]
     },
     "execution_count": 7,
     "metadata": {},
     "output_type": "execute_result"
    }
   ],
   "source": [
    "surfBCs = lambda ds: ds.rename(dict(\n",
    "    longitude='lon',\n",
    "    latitude='lat',\n",
    "    co='CO',\n",
    "    no2='NO2',\n",
    "    so2='SO2',\n",
    "    go3='O3',\n",
    ")).sel(level=60).drop('level')\n",
    "\"\"\" PM*\n",
    "    aermr01='SEASALT_F',\n",
    "    aermr02='SEASALT_C',\n",
    "   #aermr03='SEASALT_C',    # not used\n",
    "    aermr04='DUST_SAH_F',\n",
    "    aermr05='DUST_SAH_F',\n",
    "    aermr06*.15='DUST_SAH_F',\n",
    "    aermr06*.35='DUST_SAH_C',\n",
    "   #aermr07*1.7='FFIRE_OM', # not used\n",
    "   #aermr08*1.7='FFIRE_OM', # not used\n",
    "    aermr09='FFIRE_BC',     # not used\n",
    "    aermr10='FFIRE_BC',     # not used\n",
    "    aermr11='SO4',\n",
    "   #aermr12='SO2',          # not used\n",
    "\"\"\"\n",
    "\n",
    "dropBCs = \"aermr01 aermr02 aermr03 aermr04 aermr05 aermr06 aermr07 aermr08 aermr09 aermr10 aermr11 aermr12 hno3 pan no hcho ch4 c5h8 oh n2o5 c2h6 c3h8 hyai hybi\".split()\n",
    "\n",
    "%time collocate(surfBCs(ds.drop(dropBCs)), dlon=1.125, dlat=1.125)"
   ]
  },
  {
   "cell_type": "code",
   "execution_count": 8,
   "metadata": {},
   "outputs": [
    {
     "name": "stdout",
     "output_type": "stream",
     "text": [
      "CPU times: user 15.7 s, sys: 2.85 s, total: 18.6 s\n",
      "Wall time: 5min 58s\n"
     ]
    }
   ],
   "source": [
    "%%time\n",
    "ds = xr.open_mfdataset(   \n",
    "    files['cifsBC'], chunks={'time':10}, concat_dim='time', autoclose=True,\n",
    "    preprocess=surfBCs, drop_variables=dropBCs,\n",
    ").assign_coords(dataset='cifsBC').expand_dims('dataset')"
   ]
  },
  {
   "cell_type": "code",
   "execution_count": 9,
   "metadata": {},
   "outputs": [
    {
     "name": "stdout",
     "output_type": "stream",
     "text": [
      "[########################################] | 100% Completed | 28min  9.6s\n",
      "CPU times: user 2min 16s, sys: 1min 32s, total: 3min 49s\n",
      "Wall time: 28min 15s\n"
     ]
    }
   ],
   "source": [
    "%%time\n",
    "with ProgressBar():\n",
    "    cifs = collocate(ds)"
   ]
  },
  {
   "cell_type": "code",
   "execution_count": 10,
   "metadata": {},
   "outputs": [
    {
     "data": {
      "text/plain": [
       "<xarray.Dataset>\n",
       "Dimensions:  (dataset: 1, station: 2331, time: 2928)\n",
       "Coordinates:\n",
       "  * time     (time) datetime64[ns] 2016-02-09 2016-02-09T03:00:00 ...\n",
       "  * dataset  (dataset) <U6 'cifsBC'\n",
       "  * station  (station) object 'AD0942A' 'AD0944A' 'AD0945A' 'AL0203A' ...\n",
       "Data variables:\n",
       "    t        (dataset, time, station) float32 nan nan nan nan nan nan nan ...\n",
       "    NO2      (dataset, time, station) float32 nan nan nan nan nan nan nan ...\n",
       "    SO2      (dataset, time, station) float32 nan nan nan nan nan nan nan ...\n",
       "    CO       (dataset, time, station) float32 nan nan nan nan nan nan nan ...\n",
       "    O3       (dataset, time, station) float32 nan nan nan nan nan nan nan ...\n",
       "    lnsp     (dataset, time, station) float32 nan nan nan nan nan nan nan ...\n",
       "    lon      (station) float32 1.125 1.125 2.25 20.25 19.125 19.125 13.5 ...\n",
       "    lat      (station) float32 42.75 42.75 42.75 40.5 40.5 42.75 48.375 ..."
      ]
     },
     "execution_count": 10,
     "metadata": {},
     "output_type": "execute_result"
    }
   ],
   "source": [
    "cifs"
   ]
  },
  {
   "cell_type": "markdown",
   "metadata": {},
   "source": [
    "## Unit conversion\n",
    "CIFS concentrations come in `kg/kg`, observations are in `ug/m3`"
   ]
  },
  {
   "cell_type": "code",
   "execution_count": 11,
   "metadata": {},
   "outputs": [
    {
     "name": "stdout",
     "output_type": "stream",
     "text": [
      "CPU times: user 132 ms, sys: 240 ms, total: 372 ms\n",
      "Wall time: 371 ms\n"
     ]
    },
    {
     "data": {
      "text/html": [
       "<div>\n",
       "<style scoped>\n",
       "    .dataframe tbody tr th:only-of-type {\n",
       "        vertical-align: middle;\n",
       "    }\n",
       "\n",
       "    .dataframe tbody tr th {\n",
       "        vertical-align: top;\n",
       "    }\n",
       "\n",
       "    .dataframe thead th {\n",
       "        text-align: right;\n",
       "    }\n",
       "</style>\n",
       "<table border=\"1\" class=\"dataframe\">\n",
       "  <thead>\n",
       "    <tr style=\"text-align: right;\">\n",
       "      <th></th>\n",
       "      <th>NO2</th>\n",
       "      <th>SO2</th>\n",
       "      <th>CO</th>\n",
       "      <th>O3</th>\n",
       "    </tr>\n",
       "  </thead>\n",
       "  <tbody>\n",
       "    <tr>\n",
       "      <th>count</th>\n",
       "      <td>204,960.000</td>\n",
       "      <td>204,960.000</td>\n",
       "      <td>204,960.000</td>\n",
       "      <td>204,960.000</td>\n",
       "    </tr>\n",
       "    <tr>\n",
       "      <th>mean</th>\n",
       "      <td>12.166</td>\n",
       "      <td>4.201</td>\n",
       "      <td>218.720</td>\n",
       "      <td>49.309</td>\n",
       "    </tr>\n",
       "    <tr>\n",
       "      <th>std</th>\n",
       "      <td>10.857</td>\n",
       "      <td>6.482</td>\n",
       "      <td>118.870</td>\n",
       "      <td>27.202</td>\n",
       "    </tr>\n",
       "    <tr>\n",
       "      <th>min</th>\n",
       "      <td>0.118</td>\n",
       "      <td>-0.000</td>\n",
       "      <td>62.659</td>\n",
       "      <td>-0.001</td>\n",
       "    </tr>\n",
       "    <tr>\n",
       "      <th>25%</th>\n",
       "      <td>3.425</td>\n",
       "      <td>0.954</td>\n",
       "      <td>146.016</td>\n",
       "      <td>27.812</td>\n",
       "    </tr>\n",
       "    <tr>\n",
       "      <th>50%</th>\n",
       "      <td>8.627</td>\n",
       "      <td>1.954</td>\n",
       "      <td>185.370</td>\n",
       "      <td>50.665</td>\n",
       "    </tr>\n",
       "    <tr>\n",
       "      <th>75%</th>\n",
       "      <td>18.483</td>\n",
       "      <td>4.490</td>\n",
       "      <td>252.259</td>\n",
       "      <td>70.593</td>\n",
       "    </tr>\n",
       "    <tr>\n",
       "      <th>max</th>\n",
       "      <td>65.431</td>\n",
       "      <td>96.754</td>\n",
       "      <td>1,648.183</td>\n",
       "      <td>159.906</td>\n",
       "    </tr>\n",
       "  </tbody>\n",
       "</table>\n",
       "</div>"
      ],
      "text/plain": [
       "              NO2         SO2          CO          O3\n",
       "count 204,960.000 204,960.000 204,960.000 204,960.000\n",
       "mean       12.166       4.201     218.720      49.309\n",
       "std        10.857       6.482     118.870      27.202\n",
       "min         0.118      -0.000      62.659      -0.001\n",
       "25%         3.425       0.954     146.016      27.812\n",
       "50%         8.627       1.954     185.370      50.665\n",
       "75%        18.483       4.490     252.259      70.593\n",
       "max        65.431      96.754   1,648.183     159.906"
      ]
     },
     "execution_count": 11,
     "metadata": {},
     "output_type": "execute_result"
    }
   ],
   "source": [
    "def unitConv(ds):\n",
    "    rho = xu.exp(ds.lnsp)/(287.05 * ds.t)    \n",
    "    for param in ds.data_vars: \n",
    "        if ds[param].attrs.get('units',None) == 'kg kg**-1':\n",
    "            ds[param] *= 1e9*rho\n",
    "            ds[param].attrs['units'] = 'ug/m3'\n",
    "    return ds.drop(['t','lnsp'])\n",
    "    \n",
    "%time cifs = unitConv(cifs)\n",
    "\n",
    "cifs.drop(['lon','lat']).to_dataframe().describe()"
   ]
  },
  {
   "cell_type": "markdown",
   "metadata": {},
   "source": [
    "## Save collocated dataset"
   ]
  },
  {
   "cell_type": "code",
   "execution_count": 12,
   "metadata": {},
   "outputs": [
    {
     "name": "stderr",
     "output_type": "stream",
     "text": [
      "/modules/xenial/user-apps/aerocom/anaconda3-testing/envs/altair/lib/python3.6/site-packages/ipykernel_launcher.py:5: FutureWarning: casting an xarray.Dataset to a boolean will change in xarray v0.11 to only include data variables, not coordinates. Cast the Dataset.variables property instead to preserve existing behavior in a forwards compatible manner.\n",
      "  \"\"\"\n"
     ]
    },
    {
     "name": "stdout",
     "output_type": "stream",
     "text": [
      "CPU times: user 7.1 s, sys: 29.9 s, total: 37 s\n",
      "Wall time: 54.4 s\n"
     ]
    },
    {
     "data": {
      "text/html": [
       "<div>\n",
       "<style scoped>\n",
       "    .dataframe tbody tr th:only-of-type {\n",
       "        vertical-align: middle;\n",
       "    }\n",
       "\n",
       "    .dataframe tbody tr th {\n",
       "        vertical-align: top;\n",
       "    }\n",
       "\n",
       "    .dataframe thead th {\n",
       "        text-align: right;\n",
       "    }\n",
       "</style>\n",
       "<table border=\"1\" class=\"dataframe\">\n",
       "  <thead>\n",
       "    <tr style=\"text-align: right;\">\n",
       "      <th></th>\n",
       "      <th>CO</th>\n",
       "      <th>NO2</th>\n",
       "      <th>PM10</th>\n",
       "      <th>PM25</th>\n",
       "      <th>SO2</th>\n",
       "      <th>O3</th>\n",
       "    </tr>\n",
       "  </thead>\n",
       "  <tbody>\n",
       "    <tr>\n",
       "      <th>count</th>\n",
       "      <td>1,229,760.000</td>\n",
       "      <td>1,229,760.000</td>\n",
       "      <td>0.000</td>\n",
       "      <td>0.000</td>\n",
       "      <td>1,229,760.000</td>\n",
       "      <td>1,229,760.000</td>\n",
       "    </tr>\n",
       "    <tr>\n",
       "      <th>mean</th>\n",
       "      <td>218.727</td>\n",
       "      <td>12.166</td>\n",
       "      <td>nan</td>\n",
       "      <td>nan</td>\n",
       "      <td>4.201</td>\n",
       "      <td>49.302</td>\n",
       "    </tr>\n",
       "    <tr>\n",
       "      <th>std</th>\n",
       "      <td>118.833</td>\n",
       "      <td>10.855</td>\n",
       "      <td>nan</td>\n",
       "      <td>nan</td>\n",
       "      <td>6.480</td>\n",
       "      <td>27.196</td>\n",
       "    </tr>\n",
       "    <tr>\n",
       "      <th>min</th>\n",
       "      <td>62.659</td>\n",
       "      <td>0.118</td>\n",
       "      <td>nan</td>\n",
       "      <td>nan</td>\n",
       "      <td>-0.000</td>\n",
       "      <td>-0.001</td>\n",
       "    </tr>\n",
       "    <tr>\n",
       "      <th>25%</th>\n",
       "      <td>146.016</td>\n",
       "      <td>3.425</td>\n",
       "      <td>nan</td>\n",
       "      <td>nan</td>\n",
       "      <td>0.954</td>\n",
       "      <td>27.812</td>\n",
       "    </tr>\n",
       "    <tr>\n",
       "      <th>50%</th>\n",
       "      <td>185.370</td>\n",
       "      <td>8.627</td>\n",
       "      <td>nan</td>\n",
       "      <td>nan</td>\n",
       "      <td>1.954</td>\n",
       "      <td>50.665</td>\n",
       "    </tr>\n",
       "    <tr>\n",
       "      <th>75%</th>\n",
       "      <td>252.259</td>\n",
       "      <td>18.483</td>\n",
       "      <td>nan</td>\n",
       "      <td>nan</td>\n",
       "      <td>4.490</td>\n",
       "      <td>70.593</td>\n",
       "    </tr>\n",
       "    <tr>\n",
       "      <th>max</th>\n",
       "      <td>1,648.183</td>\n",
       "      <td>65.431</td>\n",
       "      <td>nan</td>\n",
       "      <td>nan</td>\n",
       "      <td>96.754</td>\n",
       "      <td>159.906</td>\n",
       "    </tr>\n",
       "  </tbody>\n",
       "</table>\n",
       "</div>"
      ],
      "text/plain": [
       "                 CO           NO2  PM10  PM25           SO2            O3\n",
       "count 1,229,760.000 1,229,760.000 0.000 0.000 1,229,760.000 1,229,760.000\n",
       "mean        218.727        12.166   nan   nan         4.201        49.302\n",
       "std         118.833        10.855   nan   nan         6.480        27.196\n",
       "min          62.659         0.118   nan   nan        -0.000        -0.001\n",
       "25%         146.016         3.425   nan   nan         0.954        27.812\n",
       "50%         185.370         8.627   nan   nan         1.954        50.665\n",
       "75%         252.259        18.483   nan   nan         4.490        70.593\n",
       "max       1,648.183        65.431   nan   nan        96.754       159.906"
      ]
     },
     "execution_count": 12,
     "metadata": {},
     "output_type": "execute_result"
    }
   ],
   "source": [
    "%time data = save2nc(cifs)\n",
    "data.sel(dataset='cifsBC').drop(['lon','lat','alt']).to_dataframe().describe()"
   ]
  },
  {
   "cell_type": "markdown",
   "metadata": {},
   "source": [
    "# Model runs\n",
    "The EMEP domain has 3 times the records and ~8 times more grid points than the CIFS domain.\n",
    "- `emepHC`,  `emepSS`:\n",
    "  Single hindcast run, producing one **29Gb** hourly output file.\n",
    "- `emepAN`, `emepCO`: \n",
    "  4 overlaping analysis runs, each producing **~8G** hourly output files.\n",
    "- `emepPM`:\n",
    "  Single analysis run, producing one **29Gb** hourly output file."
   ]
  },
  {
   "cell_type": "code",
   "execution_count": 13,
   "metadata": {},
   "outputs": [],
   "source": [
    "def readRun(run):   \n",
    "    ds = xr.Dataset()\n",
    "    for fname in files[run]:\n",
    "        ds = ds.combine_first(xr.open_dataset(fname, chunks={'time':6}))\n",
    "    return ds.assign_coords(dataset=run).expand_dims('dataset')"
   ]
  },
  {
   "cell_type": "markdown",
   "metadata": {},
   "source": [
    "# Hindcast run"
   ]
  },
  {
   "cell_type": "code",
   "execution_count": 14,
   "metadata": {},
   "outputs": [
    {
     "name": "stdout",
     "output_type": "stream",
     "text": [
      "CPU times: user 1.82 s, sys: 1.27 s, total: 3.09 s\n",
      "Wall time: 6min 5s\n"
     ]
    },
    {
     "data": {
      "text/plain": [
       "<xarray.Dataset>\n",
       "Dimensions:            (dataset: 1, ilev: 9, lat: 369, lev: 8, lon: 301, time: 8785)\n",
       "Coordinates:\n",
       "  * lon                (lon) float64 -30.0 -29.75 -29.5 -29.25 -29.0 -28.75 ...\n",
       "  * lat                (lat) float64 30.0 30.12 30.25 30.38 30.5 30.62 30.75 ...\n",
       "  * lev                (lev) float64 0.9946 0.9838 0.9703 0.9509 0.8932 ...\n",
       "  * ilev               (ilev) float64 0.9892 0.9784 0.9621 0.9396 0.8756 ...\n",
       "  * time               (time) datetime64[ns] 2016-01-01 2016-01-01T01:00:00 ...\n",
       "  * dataset            (dataset) <U6 'emepHC'\n",
       "Data variables:\n",
       "    P0                 (dataset) float64 1.013e+03\n",
       "    hyam               (dataset, lev) float64 dask.array<shape=(1, 8), chunksize=(1, 8)>\n",
       "    hybm               (dataset, lev) float64 dask.array<shape=(1, 8), chunksize=(1, 8)>\n",
       "    hyai               (dataset, ilev) float64 dask.array<shape=(1, 9), chunksize=(1, 9)>\n",
       "    hybi               (dataset, ilev) float64 dask.array<shape=(1, 9), chunksize=(1, 9)>\n",
       "    SURF_ug_O3         (dataset, time, lat, lon) float32 dask.array<shape=(1, 8785, 369, 301), chunksize=(1, 6, 369, 301)>\n",
       "    SURF_ug_NO2        (dataset, time, lat, lon) float32 dask.array<shape=(1, 8785, 369, 301), chunksize=(1, 6, 369, 301)>\n",
       "    SURF_ug_PM25_rh50  (dataset, time, lat, lon) float32 dask.array<shape=(1, 8785, 369, 301), chunksize=(1, 6, 369, 301)>\n",
       "    SURF_ug_PM10_rh50  (dataset, time, lat, lon) float32 dask.array<shape=(1, 8785, 369, 301), chunksize=(1, 6, 369, 301)>\n",
       "    SURF_ug_SO2        (dataset, time, lat, lon) float32 dask.array<shape=(1, 8785, 369, 301), chunksize=(1, 6, 369, 301)>\n",
       "    SURF_ug_CO         (dataset, time, lat, lon) float32 dask.array<shape=(1, 8785, 369, 301), chunksize=(1, 6, 369, 301)>\n",
       "    COLUMN_NO2_k20     (dataset, time, lat, lon) float32 dask.array<shape=(1, 8785, 369, 301), chunksize=(1, 6, 369, 301)>\n",
       "    COLUMN_O3_k20      (dataset, time, lat, lon) float32 dask.array<shape=(1, 8785, 369, 301), chunksize=(1, 6, 369, 301)>\n",
       "    AOD_550nm          (dataset, time, lat, lon) float32 dask.array<shape=(1, 8785, 369, 301), chunksize=(1, 6, 369, 301)>"
      ]
     },
     "execution_count": 14,
     "metadata": {},
     "output_type": "execute_result"
    }
   ],
   "source": [
    "%time ds = readRun('emepHC')\n",
    "ds"
   ]
  },
  {
   "cell_type": "markdown",
   "metadata": {},
   "source": [
    "## Collocate"
   ]
  },
  {
   "cell_type": "code",
   "execution_count": 15,
   "metadata": {},
   "outputs": [],
   "source": [
    "surfEMEP = dict(\n",
    "    SURF_ug_O3='O3',\n",
    "    SURF_ug_NO2='NO2',\n",
    "    SURF_ug_SO2='SO2',\n",
    "    SURF_ug_CO='CO',\n",
    "    SURF_ug_PM25_rh50='PM25',\n",
    "    SURF_ug_PM10_rh50='PM10',\n",
    ")\n",
    "\n",
    "dropEMEP = 'P0 lev ilev hyam hybm hyai hybi COLUMN_NO2_k20 COLUMN_O3_k20 AOD_550nm'.split()"
   ]
  },
  {
   "cell_type": "code",
   "execution_count": 15,
   "metadata": {},
   "outputs": [
    {
     "name": "stdout",
     "output_type": "stream",
     "text": [
      "[########################################] | 100% Completed | 48min 24.0s\n",
      "CPU times: user 12min 11s, sys: 1min, total: 13min 12s\n",
      "Wall time: 48min 43s\n"
     ]
    }
   ],
   "source": [
    "with ProgressBar():\n",
    "    %time emep = collocate(ds.drop(dropEMEP).rename(surfEMEP), dlon=1/4, dlat=1/8)"
   ]
  },
  {
   "cell_type": "code",
   "execution_count": 16,
   "metadata": {},
   "outputs": [
    {
     "data": {
      "text/plain": [
       "<xarray.Dataset>\n",
       "Dimensions:  (dataset: 1, station: 2331, time: 8785)\n",
       "Coordinates:\n",
       "  * time     (time) datetime64[ns] 2016-01-01 2016-01-01T01:00:00 ...\n",
       "  * dataset  (dataset) <U6 'emepHC'\n",
       "  * station  (station) object 'AD0942A' 'AD0944A' 'AD0945A' 'AL0203A' ...\n",
       "Data variables:\n",
       "    O3       (dataset, time, station) float32 51.35521 51.35521 43.02802 ...\n",
       "    NO2      (dataset, time, station) float32 1.6257424 1.6257424 2.5954952 ...\n",
       "    PM25     (dataset, time, station) float32 0.8374309 0.8374309 1.9163927 ...\n",
       "    PM10     (dataset, time, station) float32 1.0202171 1.0202171 2.105609 ...\n",
       "    SO2      (dataset, time, station) float32 0.0035920602 0.0035920602 ...\n",
       "    CO       (dataset, time, station) float32 115.959785 115.959785 ...\n",
       "    lon      (station) float64 1.5 1.5 1.75 20.75 19.5 19.5 13.75 16.75 16.0 ...\n",
       "    lat      (station) float64 42.5 42.5 42.5 40.62 40.38 42.38 48.38 47.75 ..."
      ]
     },
     "execution_count": 16,
     "metadata": {},
     "output_type": "execute_result"
    }
   ],
   "source": [
    "emep"
   ]
  },
  {
   "cell_type": "markdown",
   "metadata": {},
   "source": [
    "## Save collocated dataset"
   ]
  },
  {
   "cell_type": "code",
   "execution_count": 17,
   "metadata": {},
   "outputs": [
    {
     "name": "stderr",
     "output_type": "stream",
     "text": [
      "/modules/xenial/user-apps/aerocom/anaconda3-testing/envs/altair/lib/python3.6/site-packages/ipykernel_launcher.py:5: FutureWarning: casting an xarray.Dataset to a boolean will change in xarray v0.11 to only include data variables, not coordinates. Cast the Dataset.variables property instead to preserve existing behavior in a forwards compatible manner.\n",
      "  \"\"\"\n"
     ]
    },
    {
     "name": "stdout",
     "output_type": "stream",
     "text": [
      "CPU times: user 8.65 s, sys: 4.76 s, total: 13.4 s\n",
      "Wall time: 18.9 s\n"
     ]
    },
    {
     "data": {
      "text/html": [
       "<div>\n",
       "<style scoped>\n",
       "    .dataframe tbody tr th:only-of-type {\n",
       "        vertical-align: middle;\n",
       "    }\n",
       "\n",
       "    .dataframe tbody tr th {\n",
       "        vertical-align: top;\n",
       "    }\n",
       "\n",
       "    .dataframe thead th {\n",
       "        text-align: right;\n",
       "    }\n",
       "</style>\n",
       "<table border=\"1\" class=\"dataframe\">\n",
       "  <thead>\n",
       "    <tr style=\"text-align: right;\">\n",
       "      <th></th>\n",
       "      <th>CO</th>\n",
       "      <th>NO2</th>\n",
       "      <th>PM10</th>\n",
       "      <th>PM25</th>\n",
       "      <th>SO2</th>\n",
       "      <th>O3</th>\n",
       "    </tr>\n",
       "  </thead>\n",
       "  <tbody>\n",
       "    <tr>\n",
       "      <th>count</th>\n",
       "      <td>120,547,770.000</td>\n",
       "      <td>120,547,770.000</td>\n",
       "      <td>120,547,770.000</td>\n",
       "      <td>120,547,770.000</td>\n",
       "      <td>120,547,770.000</td>\n",
       "      <td>120,547,770.000</td>\n",
       "    </tr>\n",
       "    <tr>\n",
       "      <th>mean</th>\n",
       "      <td>76.621</td>\n",
       "      <td>5.231</td>\n",
       "      <td>8.092</td>\n",
       "      <td>5.943</td>\n",
       "      <td>2.650</td>\n",
       "      <td>17.988</td>\n",
       "    </tr>\n",
       "    <tr>\n",
       "      <th>std</th>\n",
       "      <td>144.101</td>\n",
       "      <td>9.478</td>\n",
       "      <td>13.680</td>\n",
       "      <td>10.781</td>\n",
       "      <td>8.363</td>\n",
       "      <td>34.150</td>\n",
       "    </tr>\n",
       "    <tr>\n",
       "      <th>min</th>\n",
       "      <td>0.482</td>\n",
       "      <td>0.000</td>\n",
       "      <td>0.401</td>\n",
       "      <td>0.401</td>\n",
       "      <td>0.000</td>\n",
       "      <td>0.000</td>\n",
       "    </tr>\n",
       "    <tr>\n",
       "      <th>25%</th>\n",
       "      <td>130.466</td>\n",
       "      <td>2.515</td>\n",
       "      <td>6.402</td>\n",
       "      <td>4.190</td>\n",
       "      <td>0.417</td>\n",
       "      <td>44.404</td>\n",
       "    </tr>\n",
       "    <tr>\n",
       "      <th>50%</th>\n",
       "      <td>161.577</td>\n",
       "      <td>5.465</td>\n",
       "      <td>11.631</td>\n",
       "      <td>8.088</td>\n",
       "      <td>1.224</td>\n",
       "      <td>59.660</td>\n",
       "    </tr>\n",
       "    <tr>\n",
       "      <th>75%</th>\n",
       "      <td>205.244</td>\n",
       "      <td>11.385</td>\n",
       "      <td>19.418</td>\n",
       "      <td>14.780</td>\n",
       "      <td>3.480</td>\n",
       "      <td>73.892</td>\n",
       "    </tr>\n",
       "    <tr>\n",
       "      <th>max</th>\n",
       "      <td>9,503.524</td>\n",
       "      <td>139.917</td>\n",
       "      <td>536.673</td>\n",
       "      <td>456.186</td>\n",
       "      <td>431.704</td>\n",
       "      <td>253.486</td>\n",
       "    </tr>\n",
       "  </tbody>\n",
       "</table>\n",
       "</div>"
      ],
      "text/plain": [
       "                   CO             NO2            PM10            PM25  \\\n",
       "count 120,547,770.000 120,547,770.000 120,547,770.000 120,547,770.000   \n",
       "mean           76.621           5.231           8.092           5.943   \n",
       "std           144.101           9.478          13.680          10.781   \n",
       "min             0.482           0.000           0.401           0.401   \n",
       "25%           130.466           2.515           6.402           4.190   \n",
       "50%           161.577           5.465          11.631           8.088   \n",
       "75%           205.244          11.385          19.418          14.780   \n",
       "max         9,503.524         139.917         536.673         456.186   \n",
       "\n",
       "                  SO2              O3  \n",
       "count 120,547,770.000 120,547,770.000  \n",
       "mean            2.650          17.988  \n",
       "std             8.363          34.150  \n",
       "min             0.000           0.000  \n",
       "25%             0.417          44.404  \n",
       "50%             1.224          59.660  \n",
       "75%             3.480          73.892  \n",
       "max           431.704         253.486  "
      ]
     },
     "execution_count": 17,
     "metadata": {},
     "output_type": "execute_result"
    }
   ],
   "source": [
    "%time data = save2nc(emep)\n",
    "data.sel(dataset='emepHC').drop(['lon','lat','alt']).to_dataframe().describe()"
   ]
  },
  {
   "cell_type": "markdown",
   "metadata": {},
   "source": [
    "# Sea salt corrected BCs\n",
    "Hindcast run, same set-up as `emepHC`, but with SS correction factors"
   ]
  },
  {
   "cell_type": "code",
   "execution_count": 18,
   "metadata": {},
   "outputs": [
    {
     "name": "stdout",
     "output_type": "stream",
     "text": [
      "CPU times: user 0 ns, sys: 0 ns, total: 0 ns\n",
      "Wall time: 16.7 µs\n"
     ]
    }
   ],
   "source": [
    "def processEMEP(run, drop=dropEMEP, surf=surfEMEP):\n",
    "    if not files.get(run, None):\n",
    "        return\n",
    "    ds = readRun(run)\n",
    "    emep = collocate(ds.drop(drop).rename(surf), dlon=1/4, dlat=1/8)\n",
    "    data = save2nc(emep)\n",
    "    return data.sel(dataset=run).drop(['lon','lat','alt']).to_dataframe().describe()\n",
    "\n",
    "%time processEMEP('emepSS')"
   ]
  },
  {
   "cell_type": "markdown",
   "metadata": {},
   "source": [
    "# (Re)Analysis runs\n",
    "Assimilate `O3`, `NO2` & `SO2` observations from surface stations and `NO2`  trop. columns from  OMI. Current operational setup (CAMS50.201801; DA16 modules)."
   ]
  },
  {
   "cell_type": "code",
   "execution_count": 19,
   "metadata": {},
   "outputs": [
    {
     "name": "stderr",
     "output_type": "stream",
     "text": [
      "/modules/xenial/user-apps/aerocom/anaconda3-testing/envs/altair/lib/python3.6/site-packages/ipykernel_launcher.py:5: FutureWarning: casting an xarray.Dataset to a boolean will change in xarray v0.11 to only include data variables, not coordinates. Cast the Dataset.variables property instead to preserve existing behavior in a forwards compatible manner.\n",
      "  \"\"\"\n"
     ]
    },
    {
     "name": "stdout",
     "output_type": "stream",
     "text": [
      "CPU times: user 13min 13s, sys: 5min 21s, total: 18min 35s\n",
      "Wall time: 28min 39s\n"
     ]
    },
    {
     "data": {
      "text/html": [
       "<div>\n",
       "<style scoped>\n",
       "    .dataframe tbody tr th:only-of-type {\n",
       "        vertical-align: middle;\n",
       "    }\n",
       "\n",
       "    .dataframe tbody tr th {\n",
       "        vertical-align: top;\n",
       "    }\n",
       "\n",
       "    .dataframe thead th {\n",
       "        text-align: right;\n",
       "    }\n",
       "</style>\n",
       "<table border=\"1\" class=\"dataframe\">\n",
       "  <thead>\n",
       "    <tr style=\"text-align: right;\">\n",
       "      <th></th>\n",
       "      <th>CO</th>\n",
       "      <th>NO2</th>\n",
       "      <th>PM10</th>\n",
       "      <th>PM25</th>\n",
       "      <th>SO2</th>\n",
       "      <th>O3</th>\n",
       "    </tr>\n",
       "  </thead>\n",
       "  <tbody>\n",
       "    <tr>\n",
       "      <th>count</th>\n",
       "      <td>120,547,770.000</td>\n",
       "      <td>120,547,770.000</td>\n",
       "      <td>120,547,770.000</td>\n",
       "      <td>120,547,770.000</td>\n",
       "      <td>120,547,770.000</td>\n",
       "      <td>120,547,770.000</td>\n",
       "    </tr>\n",
       "    <tr>\n",
       "      <th>mean</th>\n",
       "      <td>76.378</td>\n",
       "      <td>7.718</td>\n",
       "      <td>9.737</td>\n",
       "      <td>7.778</td>\n",
       "      <td>1.724</td>\n",
       "      <td>18.601</td>\n",
       "    </tr>\n",
       "    <tr>\n",
       "      <th>std</th>\n",
       "      <td>143.791</td>\n",
       "      <td>12.123</td>\n",
       "      <td>16.754</td>\n",
       "      <td>12.734</td>\n",
       "      <td>4.420</td>\n",
       "      <td>33.920</td>\n",
       "    </tr>\n",
       "    <tr>\n",
       "      <th>min</th>\n",
       "      <td>0.479</td>\n",
       "      <td>0.000</td>\n",
       "      <td>0.401</td>\n",
       "      <td>0.401</td>\n",
       "      <td>0.000</td>\n",
       "      <td>0.000</td>\n",
       "    </tr>\n",
       "    <tr>\n",
       "      <th>25%</th>\n",
       "      <td>127.283</td>\n",
       "      <td>5.284</td>\n",
       "      <td>8.309</td>\n",
       "      <td>5.445</td>\n",
       "      <td>0.613</td>\n",
       "      <td>25.436</td>\n",
       "    </tr>\n",
       "    <tr>\n",
       "      <th>50%</th>\n",
       "      <td>159.818</td>\n",
       "      <td>10.119</td>\n",
       "      <td>14.988</td>\n",
       "      <td>10.491</td>\n",
       "      <td>1.451</td>\n",
       "      <td>46.913</td>\n",
       "    </tr>\n",
       "    <tr>\n",
       "      <th>75%</th>\n",
       "      <td>204.279</td>\n",
       "      <td>18.223</td>\n",
       "      <td>24.880</td>\n",
       "      <td>18.680</td>\n",
       "      <td>3.165</td>\n",
       "      <td>66.720</td>\n",
       "    </tr>\n",
       "    <tr>\n",
       "      <th>max</th>\n",
       "      <td>9,501.210</td>\n",
       "      <td>194.609</td>\n",
       "      <td>537.954</td>\n",
       "      <td>461.395</td>\n",
       "      <td>331.148</td>\n",
       "      <td>263.503</td>\n",
       "    </tr>\n",
       "  </tbody>\n",
       "</table>\n",
       "</div>"
      ],
      "text/plain": [
       "                   CO             NO2            PM10            PM25  \\\n",
       "count 120,547,770.000 120,547,770.000 120,547,770.000 120,547,770.000   \n",
       "mean           76.378           7.718           9.737           7.778   \n",
       "std           143.791          12.123          16.754          12.734   \n",
       "min             0.479           0.000           0.401           0.401   \n",
       "25%           127.283           5.284           8.309           5.445   \n",
       "50%           159.818          10.119          14.988          10.491   \n",
       "75%           204.279          18.223          24.880          18.680   \n",
       "max         9,501.210         194.609         537.954         461.395   \n",
       "\n",
       "                  SO2              O3  \n",
       "count 120,547,770.000 120,547,770.000  \n",
       "mean            1.724          18.601  \n",
       "std             4.420          33.920  \n",
       "min             0.000           0.000  \n",
       "25%             0.613          25.436  \n",
       "50%             1.451          46.913  \n",
       "75%             3.165          66.720  \n",
       "max           331.148         263.503  "
      ]
     },
     "execution_count": 19,
     "metadata": {},
     "output_type": "execute_result"
    }
   ],
   "source": [
    "%time processEMEP('emepAN')"
   ]
  },
  {
   "cell_type": "markdown",
   "metadata": {},
   "source": [
    "# Assimilate CO observations\n",
    "Analysis run, same set-up as `emepAN`, but with addtional `CO` surface observations.  Same source code as operational set-up (CAMS50.201801; DA16 modules),\n",
    "with minor modification to enhable `CO` assimilation."
   ]
  },
  {
   "cell_type": "code",
   "execution_count": 20,
   "metadata": {},
   "outputs": [
    {
     "name": "stderr",
     "output_type": "stream",
     "text": [
      "/modules/xenial/user-apps/aerocom/anaconda3-testing/envs/altair/lib/python3.6/site-packages/ipykernel_launcher.py:5: FutureWarning: casting an xarray.Dataset to a boolean will change in xarray v0.11 to only include data variables, not coordinates. Cast the Dataset.variables property instead to preserve existing behavior in a forwards compatible manner.\n",
      "  \"\"\"\n"
     ]
    },
    {
     "name": "stdout",
     "output_type": "stream",
     "text": [
      "CPU times: user 13min 11s, sys: 5min 30s, total: 18min 41s\n",
      "Wall time: 28min 39s\n"
     ]
    },
    {
     "data": {
      "text/html": [
       "<div>\n",
       "<style scoped>\n",
       "    .dataframe tbody tr th:only-of-type {\n",
       "        vertical-align: middle;\n",
       "    }\n",
       "\n",
       "    .dataframe tbody tr th {\n",
       "        vertical-align: top;\n",
       "    }\n",
       "\n",
       "    .dataframe thead th {\n",
       "        text-align: right;\n",
       "    }\n",
       "</style>\n",
       "<table border=\"1\" class=\"dataframe\">\n",
       "  <thead>\n",
       "    <tr style=\"text-align: right;\">\n",
       "      <th></th>\n",
       "      <th>CO</th>\n",
       "      <th>NO2</th>\n",
       "      <th>PM10</th>\n",
       "      <th>PM25</th>\n",
       "      <th>SO2</th>\n",
       "      <th>O3</th>\n",
       "    </tr>\n",
       "  </thead>\n",
       "  <tbody>\n",
       "    <tr>\n",
       "      <th>count</th>\n",
       "      <td>120,547,770.000</td>\n",
       "      <td>120,547,770.000</td>\n",
       "      <td>120,547,770.000</td>\n",
       "      <td>120,547,770.000</td>\n",
       "      <td>120,547,770.000</td>\n",
       "      <td>120,547,770.000</td>\n",
       "    </tr>\n",
       "    <tr>\n",
       "      <th>mean</th>\n",
       "      <td>78.067</td>\n",
       "      <td>7.717</td>\n",
       "      <td>9.728</td>\n",
       "      <td>7.774</td>\n",
       "      <td>1.724</td>\n",
       "      <td>18.605</td>\n",
       "    </tr>\n",
       "    <tr>\n",
       "      <th>std</th>\n",
       "      <td>146.805</td>\n",
       "      <td>12.122</td>\n",
       "      <td>16.725</td>\n",
       "      <td>12.732</td>\n",
       "      <td>4.419</td>\n",
       "      <td>33.909</td>\n",
       "    </tr>\n",
       "    <tr>\n",
       "      <th>min</th>\n",
       "      <td>0.000</td>\n",
       "      <td>0.000</td>\n",
       "      <td>0.401</td>\n",
       "      <td>0.401</td>\n",
       "      <td>0.000</td>\n",
       "      <td>0.000</td>\n",
       "    </tr>\n",
       "    <tr>\n",
       "      <th>25%</th>\n",
       "      <td>111.473</td>\n",
       "      <td>5.283</td>\n",
       "      <td>8.317</td>\n",
       "      <td>5.450</td>\n",
       "      <td>0.613</td>\n",
       "      <td>25.433</td>\n",
       "    </tr>\n",
       "    <tr>\n",
       "      <th>50%</th>\n",
       "      <td>158.313</td>\n",
       "      <td>10.118</td>\n",
       "      <td>15.007</td>\n",
       "      <td>10.502</td>\n",
       "      <td>1.451</td>\n",
       "      <td>46.905</td>\n",
       "    </tr>\n",
       "    <tr>\n",
       "      <th>75%</th>\n",
       "      <td>219.576</td>\n",
       "      <td>18.223</td>\n",
       "      <td>24.897</td>\n",
       "      <td>18.683</td>\n",
       "      <td>3.164</td>\n",
       "      <td>66.701</td>\n",
       "    </tr>\n",
       "    <tr>\n",
       "      <th>max</th>\n",
       "      <td>9,623.118</td>\n",
       "      <td>194.596</td>\n",
       "      <td>537.838</td>\n",
       "      <td>461.434</td>\n",
       "      <td>330.139</td>\n",
       "      <td>263.601</td>\n",
       "    </tr>\n",
       "  </tbody>\n",
       "</table>\n",
       "</div>"
      ],
      "text/plain": [
       "                   CO             NO2            PM10            PM25  \\\n",
       "count 120,547,770.000 120,547,770.000 120,547,770.000 120,547,770.000   \n",
       "mean           78.067           7.717           9.728           7.774   \n",
       "std           146.805          12.122          16.725          12.732   \n",
       "min             0.000           0.000           0.401           0.401   \n",
       "25%           111.473           5.283           8.317           5.450   \n",
       "50%           158.313          10.118          15.007          10.502   \n",
       "75%           219.576          18.223          24.897          18.683   \n",
       "max         9,623.118         194.596         537.838         461.434   \n",
       "\n",
       "                  SO2              O3  \n",
       "count 120,547,770.000 120,547,770.000  \n",
       "mean            1.724          18.605  \n",
       "std             4.419          33.909  \n",
       "min             0.000           0.000  \n",
       "25%             0.613          25.433  \n",
       "50%             1.451          46.905  \n",
       "75%             3.164          66.701  \n",
       "max           330.139         263.601  "
      ]
     },
     "execution_count": 20,
     "metadata": {},
     "output_type": "execute_result"
    }
   ],
   "source": [
    "%time processEMEP('emepCO')"
   ]
  },
  {
   "cell_type": "markdown",
   "metadata": {},
   "source": [
    "# Assimilate PM observations\n",
    "Analysis run, same set-up as `emepAN`, but with addtional `PM2.5` and `PM10` surface observations.  Development version of the assimilation modules (CAMS50.201801; DA17 modules), configured for `PM` assimilation without feerback."
   ]
  },
  {
   "cell_type": "code",
   "execution_count": 21,
   "metadata": {},
   "outputs": [
    {
     "name": "stdout",
     "output_type": "stream",
     "text": [
      "CPU times: user 0 ns, sys: 0 ns, total: 0 ns\n",
      "Wall time: 22.4 µs\n"
     ]
    }
   ],
   "source": [
    "%%time\n",
    "\n",
    "processEMEP(\n",
    "    'emepPM',\n",
    "     drop=dropEMEP+['SURF_ug_PM25_rh50','SURF_ug_PM10_rh50'],\n",
    "     surf=dict(\n",
    "        SURF_ug_O3='O3',\n",
    "        SURF_ug_NO2='NO2',\n",
    "        SURF_ug_SO2='SO2',\n",
    "        SURF_ug_CO='CO',\n",
    "        SURF_ug_PM25_OA='PM25', # no feedback output\n",
    "        SURF_ug_PM10_OA='PM10', # no feedback output\n",
    "    ),\n",
    ")"
   ]
  }
 ],
 "metadata": {
  "kernelspec": {
   "display_name": "Python 3",
   "language": "python",
   "name": "python3"
  },
  "language_info": {
   "codemirror_mode": {
    "name": "ipython",
    "version": 3
   },
   "file_extension": ".py",
   "mimetype": "text/x-python",
   "name": "python",
   "nbconvert_exporter": "python",
   "pygments_lexer": "ipython3",
   "version": "3.6.5"
  }
 },
 "nbformat": 4,
 "nbformat_minor": 2
}
