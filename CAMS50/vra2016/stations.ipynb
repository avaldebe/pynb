{
 "cells": [
  {
   "cell_type": "markdown",
   "metadata": {},
   "source": [
    "# CAMS50 VRA2016: Validated Observations\n",
    "CAMS50 runs a reanalysis with validated obrvations 2 years after the fact."
   ]
  },
  {
   "cell_type": "code",
   "execution_count": 1,
   "metadata": {},
   "outputs": [],
   "source": [
    "from glob import glob\n",
    "from os.path import isfile, basename, dirname\n",
    "from os import remove\n",
    "\n",
    "import pandas as pd\n",
    "import xarray as xr\n",
    "\n",
    "# only 3 decimal points on df.head() and df.describe()\n",
    "pd.options.display.float_format = '{:,.3f}'.format"
   ]
  },
  {
   "cell_type": "markdown",
   "metadata": {},
   "source": [
    "## Observation datasets\n",
    "- `eeaVRA`: validated surface obs for data assimilation\n",
    "- `eeaVAL`: validated surface obs for model evaluataion"
   ]
  },
  {
   "cell_type": "code",
   "execution_count": 2,
   "metadata": {},
   "outputs": [
    {
     "name": "stdout",
     "output_type": "stream",
     "text": [
      "eeaVRA:   6 files\n",
      "eeaVAL:   6 files\n"
     ]
    }
   ],
   "source": [
    "lustre = \"/lustre/storeA/users/alvarov/CAMS50/%s\"\n",
    "files = dict(\n",
    "    eeaVRA=glob(lustre%'obs/VRA_2016/assimilation_*.nc'),\n",
    "    eeaVAL=glob(lustre%'obs/VRA_2016/validation_*.nc'),\n",
    ")\n",
    "for k,v in files.items():\n",
    "    print(\"%s: %3d files\"%(k,len(v)))"
   ]
  },
  {
   "cell_type": "code",
   "execution_count": 3,
   "metadata": {},
   "outputs": [],
   "source": [
    "# save collocated datasets\n",
    "def save2nc(ds=None, f=lustre%'vra2016colloc.nc'):\n",
    "    if isfile(f):\n",
    "        data = xr.open_dataset(f, autoclose=True).load()\n",
    "        if ds:\n",
    "            data = data.combine_first(ds)\n",
    "            for param in ds.data_vars: \n",
    "                if 'units' not in data[param].attrs:\n",
    "                    data[param].attrs.update(ds[param].attrs)\n",
    "            data.to_netcdf(f, mode='w')\n",
    "            del(ds)\n",
    "        return data\n",
    "    elif ds:\n",
    "        ds.to_netcdf(f, mode='w')\n",
    "        return ds\n",
    "    else:\n",
    "        return xr.Dataset()"
   ]
  },
  {
   "cell_type": "markdown",
   "metadata": {},
   "source": [
    "# Validated Observations\n",
    "Observations for *O3*, *NO2*, *SO2*, *CO*, *PM25* and *PM10* in *ug/m3*, are divided on 2 datasets,\n",
    "assimilation and validation.\n",
    "- The dataset split is not consistent across species.\n",
    "- The classification is not consistent across species.\n",
    "\n",
    "The observations were stored in NetCDF files as part of the pre-processing for data assimilation. Station classification is not included on the NetCDF files, they need to be read from station location (text) files."
   ]
  },
  {
   "cell_type": "code",
   "execution_count": 4,
   "metadata": {},
   "outputs": [
    {
     "name": "stdout",
     "output_type": "stream",
     "text": [
      "CPU times: user 16 ms, sys: 0 ns, total: 16 ms\n",
      "Wall time: 44.4 ms\n"
     ]
    },
    {
     "data": {
      "text/html": [
       "<div>\n",
       "<style scoped>\n",
       "    .dataframe tbody tr th:only-of-type {\n",
       "        vertical-align: middle;\n",
       "    }\n",
       "\n",
       "    .dataframe tbody tr th {\n",
       "        vertical-align: top;\n",
       "    }\n",
       "\n",
       "    .dataframe thead th {\n",
       "        text-align: right;\n",
       "    }\n",
       "</style>\n",
       "<table border=\"1\" class=\"dataframe\">\n",
       "  <thead>\n",
       "    <tr style=\"text-align: right;\">\n",
       "      <th></th>\n",
       "      <th>lon</th>\n",
       "      <th>lat</th>\n",
       "      <th>alt</th>\n",
       "      <th>cls</th>\n",
       "    </tr>\n",
       "    <tr>\n",
       "      <th>station</th>\n",
       "      <th></th>\n",
       "      <th></th>\n",
       "      <th></th>\n",
       "      <th></th>\n",
       "    </tr>\n",
       "  </thead>\n",
       "  <tbody>\n",
       "    <tr>\n",
       "      <th>LU0102A</th>\n",
       "      <td>5.977</td>\n",
       "      <td>49.505</td>\n",
       "      <td>287.000</td>\n",
       "      <td>background/urban</td>\n",
       "    </tr>\n",
       "    <tr>\n",
       "      <th>IT0706A</th>\n",
       "      <td>9.328</td>\n",
       "      <td>45.483</td>\n",
       "      <td>123.000</td>\n",
       "      <td>background/urban</td>\n",
       "    </tr>\n",
       "    <tr>\n",
       "      <th>DEHB012</th>\n",
       "      <td>8.735</td>\n",
       "      <td>53.125</td>\n",
       "      <td>8.000</td>\n",
       "      <td>background/urban</td>\n",
       "    </tr>\n",
       "    <tr>\n",
       "      <th>PL0509A</th>\n",
       "      <td>19.697</td>\n",
       "      <td>51.404</td>\n",
       "      <td>180.000</td>\n",
       "      <td>background/urban</td>\n",
       "    </tr>\n",
       "    <tr>\n",
       "      <th>RO0111A</th>\n",
       "      <td>24.495</td>\n",
       "      <td>47.127</td>\n",
       "      <td>365.000</td>\n",
       "      <td>background/urban</td>\n",
       "    </tr>\n",
       "  </tbody>\n",
       "</table>\n",
       "</div>"
      ],
      "text/plain": [
       "           lon    lat     alt               cls\n",
       "station                                        \n",
       "LU0102A  5.977 49.505 287.000  background/urban\n",
       "IT0706A  9.328 45.483 123.000  background/urban\n",
       "DEHB012  8.735 53.125   8.000  background/urban\n",
       "PL0509A 19.697 51.404 180.000  background/urban\n",
       "RO0111A 24.495 47.127 365.000  background/urban"
      ]
     },
     "execution_count": 4,
     "metadata": {},
     "output_type": "execute_result"
    }
   ],
   "source": [
    "dset = lambda dname, poll: '%s/stations.%s.background_assimilation_set7'%(dname, poll)\n",
    "\n",
    "def surfLoc(fname, poll):\n",
    "    if fname.endswith('.nc'):\n",
    "        fname = dset(dirname(fname), poll)\n",
    "    ds = pd.read_csv(\n",
    "        fname, sep=' ',\n",
    "        names = 'station lon lat alt c0 c1'.split(),\n",
    "        index_col = 'station'\n",
    "    )\n",
    "    ds['cls'] = ds.apply(lambda row: '{0.c0}/{0.c1}'.format(row), 'columns')\n",
    "    return ds.drop(['c0','c1'], 'columns')\n",
    "\n",
    "%time df = surfLoc(files['eeaVRA'][0], 'CO')\n",
    "df.head()"
   ]
  },
  {
   "cell_type": "code",
   "execution_count": 5,
   "metadata": {},
   "outputs": [
    {
     "name": "stdout",
     "output_type": "stream",
     "text": [
      "CPU times: user 440 ms, sys: 120 ms, total: 560 ms\n",
      "Wall time: 1.27 s\n"
     ]
    },
    {
     "data": {
      "text/plain": [
       "<xarray.Dataset>\n",
       "Dimensions:  (dataset: 1, poll: 1, station: 269, time: 8783)\n",
       "Coordinates:\n",
       "  * station  (station) object 'AD0942A' 'AL0203A' 'AL0206A' 'AT0ILL1' ...\n",
       "  * time     (time) datetime64[ns] 2016-01-01 2016-01-01T01:00:00 ...\n",
       "  * poll     (poll) <U2 'CO'\n",
       "  * dataset  (dataset) <U6 'eeaVRA'\n",
       "Data variables:\n",
       "    lat      (dataset, station) float32 42.509693 40.62593 42.3139 47.77028 ...\n",
       "    lon      (dataset, station) float32 1.539138 20.78018 19.52342 16.76639 ...\n",
       "    alt      (dataset, station) float32 1080.0 848.0 13.0 117.0 3106.0 215.0 ...\n",
       "    CO       (dataset, time, station) float32 600.0 2026.52 293.48 428.934 ...\n",
       "    cls      (dataset, poll, station) object 'background/urban' ...\n",
       "Attributes:\n",
       "    source:   /home/alvarov/obs4cwf/2016_AirBase/data.background.assimilation..."
      ]
     },
     "execution_count": 5,
     "metadata": {},
     "output_type": "execute_result"
    }
   ],
   "source": [
    "def surfObs(fname, dataset):\n",
    "    ds = xr.open_dataset(fname)\n",
    "\n",
    "    # byte to sting\n",
    "    ds['station'] = ds['stationID'].astype(str) # station names\n",
    "    \n",
    "    # clasification info, species dependant\n",
    "    for param in ds.data_vars: \n",
    "        if ds[param].attrs.get('units',None) == 'ug/m3':\n",
    "            ds['cls'] = surfLoc(fname, param).cls\n",
    "            ds['cls'] = ds.cls.assign_coords(poll=param).expand_dims('poll')\n",
    "\n",
    "    # add dataset coordinate\n",
    "    return ds.drop(['stationID']).assign_coords(dataset=dataset).expand_dims('dataset')\n",
    "\n",
    "%time ds = surfObs(files['eeaVRA'][0], 'eeaVRA')\n",
    "ds"
   ]
  },
  {
   "cell_type": "markdown",
   "metadata": {},
   "source": [
    "## Read all observations files"
   ]
  },
  {
   "cell_type": "code",
   "execution_count": 6,
   "metadata": {},
   "outputs": [
    {
     "name": "stderr",
     "output_type": "stream",
     "text": [
      "/modules/xenial/user-apps/aerocom/anaconda3-testing/envs/geoviews/lib/python3.6/site-packages/ipykernel_launcher.py:13: FutureWarning: casting an xarray.Dataset to a boolean will change in xarray v0.11 to only include data variables, not coordinates. Cast the Dataset.variables property instead to preserve existing behavior in a forwards compatible manner.\n",
      "  del sys.path[0]\n",
      "/modules/xenial/user-apps/aerocom/anaconda3-testing/envs/geoviews/lib/python3.6/site-packages/ipykernel_launcher.py:5: FutureWarning: casting an xarray.Dataset to a boolean will change in xarray v0.11 to only include data variables, not coordinates. Cast the Dataset.variables property instead to preserve existing behavior in a forwards compatible manner.\n",
      "  \"\"\"\n"
     ]
    },
    {
     "data": {
      "text/plain": [
       "<xarray.Dataset>\n",
       "Dimensions:  (dataset: 2, poll: 6, station: 2331, time: 8783)\n",
       "Coordinates:\n",
       "  * dataset  (dataset) object 'eeaVAL' 'eeaVRA'\n",
       "  * poll     (poll) object 'CO' 'NO2' 'O3' 'PM10' 'PM25' 'SO2'\n",
       "  * station  (station) object 'AD0942A' 'AD0944A' 'AD0945A' 'AL0203A' ...\n",
       "  * time     (time) datetime64[ns] 2016-01-01 2016-01-01T01:00:00 ...\n",
       "Data variables:\n",
       "    lat      (dataset, station) float32 nan nan 42.53488 nan 40.40309 nan ...\n",
       "    lon      (dataset, station) float32 nan nan 1.716986 nan 19.4862 nan nan ...\n",
       "    alt      (dataset, station) float32 nan nan 2515.0 nan 25.0 nan nan nan ...\n",
       "    CO       (dataset, time, station) float32 nan nan nan nan 930.32 nan nan ...\n",
       "    cls      (dataset, poll, station) object '' '' '' '' '' '' '' '' '' '' ...\n",
       "    NO2      (dataset, time, station) float32 nan nan nan nan 13.8073 nan ...\n",
       "    PM10     (dataset, time, station) float32 nan nan nan nan nan nan nan ...\n",
       "    PM25     (dataset, time, station) float32 nan nan nan nan nan nan nan ...\n",
       "    SO2      (dataset, time, station) float32 nan nan nan nan nan nan nan ...\n",
       "    O3       (dataset, time, station) float32 nan nan nan nan 13.02 nan nan ...\n",
       "Attributes:\n",
       "    source:   /home/alvarov/obs4cwf/2016_AirBase/data.background.assimilation..."
      ]
     },
     "execution_count": 6,
     "metadata": {},
     "output_type": "execute_result"
    }
   ],
   "source": [
    "for k,v in files.items():\n",
    "    if k.startswith('eea'):\n",
    "        for fname in v:\n",
    "            save2nc(surfObs(fname, k))\n",
    "\n",
    "data = save2nc()\n",
    "data"
   ]
  },
  {
   "cell_type": "markdown",
   "metadata": {},
   "source": [
    "## Observations per dataset"
   ]
  },
  {
   "cell_type": "code",
   "execution_count": 7,
   "metadata": {},
   "outputs": [
    {
     "data": {
      "text/html": [
       "<div>\n",
       "<style scoped>\n",
       "    .dataframe tbody tr th:only-of-type {\n",
       "        vertical-align: middle;\n",
       "    }\n",
       "\n",
       "    .dataframe tbody tr th {\n",
       "        vertical-align: top;\n",
       "    }\n",
       "\n",
       "    .dataframe thead th {\n",
       "        text-align: right;\n",
       "    }\n",
       "</style>\n",
       "<table border=\"1\" class=\"dataframe\">\n",
       "  <thead>\n",
       "    <tr style=\"text-align: right;\">\n",
       "      <th></th>\n",
       "      <th>CO</th>\n",
       "      <th>NO2</th>\n",
       "      <th>PM10</th>\n",
       "      <th>PM25</th>\n",
       "      <th>SO2</th>\n",
       "      <th>O3</th>\n",
       "    </tr>\n",
       "  </thead>\n",
       "  <tbody>\n",
       "    <tr>\n",
       "      <th>count</th>\n",
       "      <td>12,569,154.000</td>\n",
       "      <td>61,165,710.000</td>\n",
       "      <td>37,065,210.000</td>\n",
       "      <td>17,951,304.000</td>\n",
       "      <td>32,825,730.000</td>\n",
       "      <td>60,641,682.000</td>\n",
       "    </tr>\n",
       "    <tr>\n",
       "      <th>mean</th>\n",
       "      <td>327.849</td>\n",
       "      <td>13.544</td>\n",
       "      <td>16.138</td>\n",
       "      <td>12.333</td>\n",
       "      <td>4.575</td>\n",
       "      <td>36.069</td>\n",
       "    </tr>\n",
       "    <tr>\n",
       "      <th>std</th>\n",
       "      <td>320.329</td>\n",
       "      <td>16.902</td>\n",
       "      <td>16.704</td>\n",
       "      <td>13.224</td>\n",
       "      <td>14.099</td>\n",
       "      <td>30.915</td>\n",
       "    </tr>\n",
       "    <tr>\n",
       "      <th>min</th>\n",
       "      <td>6.000</td>\n",
       "      <td>0.000</td>\n",
       "      <td>0.000</td>\n",
       "      <td>0.000</td>\n",
       "      <td>0.000</td>\n",
       "      <td>0.000</td>\n",
       "    </tr>\n",
       "    <tr>\n",
       "      <th>25%</th>\n",
       "      <td>156.600</td>\n",
       "      <td>5.880</td>\n",
       "      <td>8.800</td>\n",
       "      <td>5.000</td>\n",
       "      <td>1.000</td>\n",
       "      <td>27.877</td>\n",
       "    </tr>\n",
       "    <tr>\n",
       "      <th>50%</th>\n",
       "      <td>242.984</td>\n",
       "      <td>12.000</td>\n",
       "      <td>14.750</td>\n",
       "      <td>8.958</td>\n",
       "      <td>2.398</td>\n",
       "      <td>51.370</td>\n",
       "    </tr>\n",
       "    <tr>\n",
       "      <th>75%</th>\n",
       "      <td>399.000</td>\n",
       "      <td>23.930</td>\n",
       "      <td>23.730</td>\n",
       "      <td>16.000</td>\n",
       "      <td>5.000</td>\n",
       "      <td>72.070</td>\n",
       "    </tr>\n",
       "    <tr>\n",
       "      <th>90%</th>\n",
       "      <td>608.320</td>\n",
       "      <td>40.000</td>\n",
       "      <td>36.000</td>\n",
       "      <td>26.644</td>\n",
       "      <td>10.000</td>\n",
       "      <td>91.000</td>\n",
       "    </tr>\n",
       "    <tr>\n",
       "      <th>95%</th>\n",
       "      <td>838.894</td>\n",
       "      <td>51.500</td>\n",
       "      <td>47.000</td>\n",
       "      <td>35.700</td>\n",
       "      <td>16.000</td>\n",
       "      <td>103.700</td>\n",
       "    </tr>\n",
       "    <tr>\n",
       "      <th>max</th>\n",
       "      <td>9,710.000</td>\n",
       "      <td>414.000</td>\n",
       "      <td>604.720</td>\n",
       "      <td>518.474</td>\n",
       "      <td>2,978.000</td>\n",
       "      <td>434.647</td>\n",
       "    </tr>\n",
       "  </tbody>\n",
       "</table>\n",
       "</div>"
      ],
      "text/plain": [
       "                  CO            NO2           PM10           PM25  \\\n",
       "count 12,569,154.000 61,165,710.000 37,065,210.000 17,951,304.000   \n",
       "mean         327.849         13.544         16.138         12.333   \n",
       "std          320.329         16.902         16.704         13.224   \n",
       "min            6.000          0.000          0.000          0.000   \n",
       "25%          156.600          5.880          8.800          5.000   \n",
       "50%          242.984         12.000         14.750          8.958   \n",
       "75%          399.000         23.930         23.730         16.000   \n",
       "90%          608.320         40.000         36.000         26.644   \n",
       "95%          838.894         51.500         47.000         35.700   \n",
       "max        9,710.000        414.000        604.720        518.474   \n",
       "\n",
       "                 SO2             O3  \n",
       "count 32,825,730.000 60,641,682.000  \n",
       "mean           4.575         36.069  \n",
       "std           14.099         30.915  \n",
       "min            0.000          0.000  \n",
       "25%            1.000         27.877  \n",
       "50%            2.398         51.370  \n",
       "75%            5.000         72.070  \n",
       "90%           10.000         91.000  \n",
       "95%           16.000        103.700  \n",
       "max        2,978.000        434.647  "
      ]
     },
     "execution_count": 7,
     "metadata": {},
     "output_type": "execute_result"
    }
   ],
   "source": [
    "data.sel(dataset='eeaVRA').drop(['lon','lat','alt']).to_dataframe().describe(percentiles=[.25,.5,.75,.9,.95])"
   ]
  },
  {
   "cell_type": "code",
   "execution_count": 8,
   "metadata": {},
   "outputs": [
    {
     "data": {
      "text/html": [
       "<div>\n",
       "<style scoped>\n",
       "    .dataframe tbody tr th:only-of-type {\n",
       "        vertical-align: middle;\n",
       "    }\n",
       "\n",
       "    .dataframe tbody tr th {\n",
       "        vertical-align: top;\n",
       "    }\n",
       "\n",
       "    .dataframe thead th {\n",
       "        text-align: right;\n",
       "    }\n",
       "</style>\n",
       "<table border=\"1\" class=\"dataframe\">\n",
       "  <thead>\n",
       "    <tr style=\"text-align: right;\">\n",
       "      <th></th>\n",
       "      <th>CO</th>\n",
       "      <th>NO2</th>\n",
       "      <th>PM10</th>\n",
       "      <th>PM25</th>\n",
       "      <th>SO2</th>\n",
       "      <th>O3</th>\n",
       "    </tr>\n",
       "  </thead>\n",
       "  <tbody>\n",
       "    <tr>\n",
       "      <th>count</th>\n",
       "      <td>5,376,648.000</td>\n",
       "      <td>26,187,546.000</td>\n",
       "      <td>15,915,144.000</td>\n",
       "      <td>7,677,066.000</td>\n",
       "      <td>13,847,418.000</td>\n",
       "      <td>25,984,494.000</td>\n",
       "    </tr>\n",
       "    <tr>\n",
       "      <th>mean</th>\n",
       "      <td>338.688</td>\n",
       "      <td>17.521</td>\n",
       "      <td>19.037</td>\n",
       "      <td>12.955</td>\n",
       "      <td>5.900</td>\n",
       "      <td>49.498</td>\n",
       "    </tr>\n",
       "    <tr>\n",
       "      <th>std</th>\n",
       "      <td>314.375</td>\n",
       "      <td>17.418</td>\n",
       "      <td>17.239</td>\n",
       "      <td>12.816</td>\n",
       "      <td>31.192</td>\n",
       "      <td>30.234</td>\n",
       "    </tr>\n",
       "    <tr>\n",
       "      <th>min</th>\n",
       "      <td>5.626</td>\n",
       "      <td>0.000</td>\n",
       "      <td>0.001</td>\n",
       "      <td>0.002</td>\n",
       "      <td>0.000</td>\n",
       "      <td>0.001</td>\n",
       "    </tr>\n",
       "    <tr>\n",
       "      <th>25%</th>\n",
       "      <td>170.000</td>\n",
       "      <td>6.500</td>\n",
       "      <td>9.140</td>\n",
       "      <td>5.000</td>\n",
       "      <td>1.150</td>\n",
       "      <td>27.100</td>\n",
       "    </tr>\n",
       "    <tr>\n",
       "      <th>50%</th>\n",
       "      <td>255.000</td>\n",
       "      <td>13.056</td>\n",
       "      <td>15.180</td>\n",
       "      <td>9.100</td>\n",
       "      <td>2.750</td>\n",
       "      <td>51.200</td>\n",
       "    </tr>\n",
       "    <tr>\n",
       "      <th>75%</th>\n",
       "      <td>400.000</td>\n",
       "      <td>25.500</td>\n",
       "      <td>24.090</td>\n",
       "      <td>16.571</td>\n",
       "      <td>5.100</td>\n",
       "      <td>72.830</td>\n",
       "    </tr>\n",
       "    <tr>\n",
       "      <th>90%</th>\n",
       "      <td>639.920</td>\n",
       "      <td>41.617</td>\n",
       "      <td>36.464</td>\n",
       "      <td>27.077</td>\n",
       "      <td>11.000</td>\n",
       "      <td>92.000</td>\n",
       "    </tr>\n",
       "    <tr>\n",
       "      <th>95%</th>\n",
       "      <td>876.255</td>\n",
       "      <td>53.000</td>\n",
       "      <td>47.000</td>\n",
       "      <td>36.000</td>\n",
       "      <td>18.000</td>\n",
       "      <td>104.470</td>\n",
       "    </tr>\n",
       "    <tr>\n",
       "      <th>max</th>\n",
       "      <td>7,720.000</td>\n",
       "      <td>394.000</td>\n",
       "      <td>589.510</td>\n",
       "      <td>433.056</td>\n",
       "      <td>2,595.000</td>\n",
       "      <td>298.550</td>\n",
       "    </tr>\n",
       "  </tbody>\n",
       "</table>\n",
       "</div>"
      ],
      "text/plain": [
       "                 CO            NO2           PM10          PM25  \\\n",
       "count 5,376,648.000 26,187,546.000 15,915,144.000 7,677,066.000   \n",
       "mean        338.688         17.521         19.037        12.955   \n",
       "std         314.375         17.418         17.239        12.816   \n",
       "min           5.626          0.000          0.001         0.002   \n",
       "25%         170.000          6.500          9.140         5.000   \n",
       "50%         255.000         13.056         15.180         9.100   \n",
       "75%         400.000         25.500         24.090        16.571   \n",
       "90%         639.920         41.617         36.464        27.077   \n",
       "95%         876.255         53.000         47.000        36.000   \n",
       "max       7,720.000        394.000        589.510       433.056   \n",
       "\n",
       "                 SO2             O3  \n",
       "count 13,847,418.000 25,984,494.000  \n",
       "mean           5.900         49.498  \n",
       "std           31.192         30.234  \n",
       "min            0.000          0.001  \n",
       "25%            1.150         27.100  \n",
       "50%            2.750         51.200  \n",
       "75%            5.100         72.830  \n",
       "90%           11.000         92.000  \n",
       "95%           18.000        104.470  \n",
       "max        2,595.000        298.550  "
      ]
     },
     "execution_count": 8,
     "metadata": {},
     "output_type": "execute_result"
    }
   ],
   "source": [
    "data.sel(dataset='eeaVAL').drop(['lon','lat','alt']).to_dataframe().describe(percentiles=[.25,.5,.75,.9,.95])"
   ]
  },
  {
   "cell_type": "markdown",
   "metadata": {},
   "source": [
    "## Unique stations"
   ]
  },
  {
   "cell_type": "code",
   "execution_count": 9,
   "metadata": {},
   "outputs": [
    {
     "name": "stdout",
     "output_type": "stream",
     "text": [
      "CPU times: user 0 ns, sys: 0 ns, total: 0 ns\n",
      "Wall time: 202 µs\n",
      "CPU times: user 2.24 s, sys: 2.22 s, total: 4.46 s\n",
      "Wall time: 4.43 s\n"
     ]
    },
    {
     "data": {
      "text/plain": [
       "<xarray.Dataset>\n",
       "Dimensions:  (poll: 6, station: 2331)\n",
       "Coordinates:\n",
       "  * poll     (poll) object 'CO' 'NO2' 'O3' 'PM10' 'PM25' 'SO2'\n",
       "  * station  (station) object 'AD0942A' 'AD0944A' 'AD0945A' 'AL0203A' ...\n",
       "Data variables:\n",
       "    lon      (station) float32 1.539138 1.56525 1.716986 20.78018 19.4862 ...\n",
       "    lat      (station) float32 42.509693 42.516945 42.53488 40.62593 ...\n",
       "    alt      (station) float32 1080.0 1637.0 2515.0 848.0 25.0 13.0 525.0 ...\n",
       "    cls      (poll, station) object 'background/urban' '' '' ...\n",
       "Attributes:\n",
       "    source:   /home/alvarov/obs4cwf/2016_AirBase/data.background.assimilation..."
      ]
     },
     "execution_count": 9,
     "metadata": {},
     "output_type": "execute_result"
    }
   ],
   "source": [
    "%time stat = data[['lon','lat','alt','cls']]\n",
    "%time stat = stat.sel(dataset='eeaVRA').combine_first(stat.sel(dataset='eeaVAL'))\n",
    "stat"
   ]
  },
  {
   "cell_type": "code",
   "execution_count": 10,
   "metadata": {},
   "outputs": [
    {
     "data": {
      "text/html": [
       "<div>\n",
       "<style scoped>\n",
       "    .dataframe tbody tr th:only-of-type {\n",
       "        vertical-align: middle;\n",
       "    }\n",
       "\n",
       "    .dataframe tbody tr th {\n",
       "        vertical-align: top;\n",
       "    }\n",
       "\n",
       "    .dataframe thead th {\n",
       "        text-align: right;\n",
       "    }\n",
       "</style>\n",
       "<table border=\"1\" class=\"dataframe\">\n",
       "  <thead>\n",
       "    <tr style=\"text-align: right;\">\n",
       "      <th></th>\n",
       "      <th></th>\n",
       "      <th>lon</th>\n",
       "      <th>lat</th>\n",
       "      <th>alt</th>\n",
       "      <th>cls</th>\n",
       "    </tr>\n",
       "    <tr>\n",
       "      <th>poll</th>\n",
       "      <th>station</th>\n",
       "      <th></th>\n",
       "      <th></th>\n",
       "      <th></th>\n",
       "      <th></th>\n",
       "    </tr>\n",
       "  </thead>\n",
       "  <tbody>\n",
       "    <tr>\n",
       "      <th rowspan=\"5\" valign=\"top\">CO</th>\n",
       "      <th>AD0942A</th>\n",
       "      <td>1.539</td>\n",
       "      <td>42.510</td>\n",
       "      <td>1,080.000</td>\n",
       "      <td>background/urban</td>\n",
       "    </tr>\n",
       "    <tr>\n",
       "      <th>AD0944A</th>\n",
       "      <td>1.565</td>\n",
       "      <td>42.517</td>\n",
       "      <td>1,637.000</td>\n",
       "      <td></td>\n",
       "    </tr>\n",
       "    <tr>\n",
       "      <th>AD0945A</th>\n",
       "      <td>1.717</td>\n",
       "      <td>42.535</td>\n",
       "      <td>2,515.000</td>\n",
       "      <td></td>\n",
       "    </tr>\n",
       "    <tr>\n",
       "      <th>AL0203A</th>\n",
       "      <td>20.780</td>\n",
       "      <td>40.626</td>\n",
       "      <td>848.000</td>\n",
       "      <td>background/suburban</td>\n",
       "    </tr>\n",
       "    <tr>\n",
       "      <th>AL0204A</th>\n",
       "      <td>19.486</td>\n",
       "      <td>40.403</td>\n",
       "      <td>25.000</td>\n",
       "      <td></td>\n",
       "    </tr>\n",
       "  </tbody>\n",
       "</table>\n",
       "</div>"
      ],
      "text/plain": [
       "                lon    lat       alt                  cls\n",
       "poll station                                             \n",
       "CO   AD0942A  1.539 42.510 1,080.000     background/urban\n",
       "     AD0944A  1.565 42.517 1,637.000                     \n",
       "     AD0945A  1.717 42.535 2,515.000                     \n",
       "     AL0203A 20.780 40.626   848.000  background/suburban\n",
       "     AL0204A 19.486 40.403    25.000                     "
      ]
     },
     "execution_count": 10,
     "metadata": {},
     "output_type": "execute_result"
    }
   ],
   "source": [
    "stat.to_dataframe().head()"
   ]
  },
  {
   "cell_type": "markdown",
   "metadata": {},
   "source": [
    "## Station classification(s)\n",
    "Make it a coordinate, as it should not change as we add more datasets"
   ]
  },
  {
   "cell_type": "code",
   "execution_count": 11,
   "metadata": {},
   "outputs": [
    {
     "name": "stderr",
     "output_type": "stream",
     "text": [
      "/modules/xenial/user-apps/aerocom/anaconda3-testing/envs/geoviews/lib/python3.6/site-packages/ipykernel_launcher.py:5: FutureWarning: casting an xarray.Dataset to a boolean will change in xarray v0.11 to only include data variables, not coordinates. Cast the Dataset.variables property instead to preserve existing behavior in a forwards compatible manner.\n",
      "  \"\"\"\n"
     ]
    },
    {
     "data": {
      "text/plain": [
       "<xarray.Dataset>\n",
       "Dimensions:  (dataset: 2, poll: 6, station: 2331, time: 8783)\n",
       "Coordinates:\n",
       "    cls      (poll, station) object 'background/urban' '' '' ...\n",
       "  * dataset  (dataset) object 'eeaVAL' 'eeaVRA'\n",
       "  * poll     (poll) object 'CO' 'NO2' 'O3' 'PM10' 'PM25' 'SO2'\n",
       "  * station  (station) object 'AD0942A' 'AD0944A' 'AD0945A' 'AL0203A' ...\n",
       "  * time     (time) datetime64[ns] 2016-01-01 2016-01-01T01:00:00 ...\n",
       "Data variables:\n",
       "    lat      (dataset, station) float32 nan nan 42.53488 nan 40.40309 nan ...\n",
       "    lon      (dataset, station) float32 nan nan 1.716986 nan 19.4862 nan nan ...\n",
       "    alt      (dataset, station) float32 nan nan 2515.0 nan 25.0 nan nan nan ...\n",
       "    CO       (dataset, time, station) float32 nan nan nan nan 930.32 nan nan ...\n",
       "    NO2      (dataset, time, station) float32 nan nan nan nan 13.8073 nan ...\n",
       "    PM10     (dataset, time, station) float32 nan nan nan nan nan nan nan ...\n",
       "    PM25     (dataset, time, station) float32 nan nan nan nan nan nan nan ...\n",
       "    SO2      (dataset, time, station) float32 nan nan nan nan nan nan nan ...\n",
       "    O3       (dataset, time, station) float32 nan nan nan nan 13.02 nan nan ...\n",
       "Attributes:\n",
       "    source:   /home/alvarov/obs4cwf/2016_AirBase/data.background.assimilation..."
      ]
     },
     "execution_count": 11,
     "metadata": {},
     "output_type": "execute_result"
    }
   ],
   "source": [
    "data['cls'] = stat.cls\n",
    "data = data.set_coords('cls')\n",
    "save2nc(data)"
   ]
  }
 ],
 "metadata": {
  "kernelspec": {
   "display_name": "Python 3",
   "language": "python",
   "name": "python3"
  },
  "language_info": {
   "codemirror_mode": {
    "name": "ipython",
    "version": 3
   },
   "file_extension": ".py",
   "mimetype": "text/x-python",
   "name": "python",
   "nbconvert_exporter": "python",
   "pygments_lexer": "ipython3",
   "version": "3.6.5"
  },
  "toc": {
   "nav_menu": {},
   "number_sections": true,
   "sideBar": true,
   "skip_h1_title": false,
   "title_cell": "Table of Contents",
   "title_sidebar": "Contents",
   "toc_cell": false,
   "toc_position": {},
   "toc_section_display": true,
   "toc_window_display": false
  }
 },
 "nbformat": 4,
 "nbformat_minor": 2
}
