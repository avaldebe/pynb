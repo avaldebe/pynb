{
 "cells": [
  {
   "cell_type": "markdown",
   "metadata": {},
   "source": [
    "# CAST\n",
    "Collocated\n",
    "Allong\n",
    "Satellite\n",
    "Track\n",
    "\n",
    "### ToDo\n",
    "- [x] convert ADM dictionary into a xarray dataset\n",
    "- [x] read model data into a xarray dataset\n",
    "- [x] collocate model to ADM grid"
   ]
  },
  {
   "cell_type": "markdown",
   "metadata": {},
   "source": [
    "# Conda environment at PPI/lustre\n",
    "\n",
    "```bash\n",
    "# load right (ana)conda module\n",
    "module load aerocom-pyaerocom-griesie_work\n",
    "\n",
    "# activate coda environment\n",
    "source `which conda | sed 's:bin/conda:etc/profile.d/conda.sh:'`\n",
    "conda activate coda.2.19\n",
    "\n",
    "# start notebook\n",
    "jupyter notebook --no-browser --ip=$HOSTNAME.met.no\n",
    "\n",
    "```"
   ]
  },
  {
   "cell_type": "code",
   "execution_count": 1,
   "metadata": {},
   "outputs": [
    {
     "name": "stdout",
     "output_type": "stream",
     "text": [
      "numpy 1.14.3\n",
      "pandas 0.23.4\n",
      "xarray 0.10.8\n"
     ]
    }
   ],
   "source": [
    "import numpy as np\n",
    "import pandas as pd\n",
    "import xarray as xr\n",
    "\n",
    "for m in [np, pd, xr]:\n",
    "    print(m.__name__, m.__version__)"
   ]
  },
  {
   "cell_type": "markdown",
   "metadata": {},
   "source": [
    "## ADM pyaerocom tools"
   ]
  },
  {
   "cell_type": "code",
   "execution_count": 2,
   "metadata": {},
   "outputs": [],
   "source": [
    "from pyaerocom.io.read_aeolus_l2b_data import ReadAeolusL2bData\n",
    "ADM = ReadAeolusL2bData(verbose=True)"
   ]
  },
  {
   "cell_type": "markdown",
   "metadata": {},
   "source": [
    "### Read dataset\n",
    "All datasets on `$CODA_DEFINITION/download/`"
   ]
  },
  {
   "cell_type": "code",
   "execution_count": 3,
   "metadata": {},
   "outputs": [
    {
     "name": "stderr",
     "output_type": "stream",
     "text": [
      "2018-08-20 14:08:00,952:INFO:searching for data files. This might take a while...\n",
      "2018-08-20 14:08:11,302:INFO:time for file find: 10.350\n",
      "2018-08-20 14:08:11,595:INFO:reading file /lustre/storeA/project/aerocom/aerocom1/ADM_CALIPSO_TEST/download/AE_OPER_ALD_U_N_2A_20070101T002249149_002772000_003606_0001.DBL\n",
      "2018-08-20 14:08:15,933:INFO:time for single file read [s]: 4.337\n",
      "2018-08-20 14:08:15,934:INFO:reading file /lustre/storeA/project/aerocom/aerocom1/ADM_CALIPSO_TEST/download/AE_OPER_ALD_U_N_2A_20070101T020142709_002772000_003607_0001.DBL\n",
      "2018-08-20 14:08:22,448:INFO:time for single file read [s]: 6.514\n",
      "2018-08-20 14:08:22,450:INFO:reading file /lustre/storeA/project/aerocom/aerocom1/ADM_CALIPSO_TEST/download/AE_OPER_ALD_U_N_2A_20070101T034035509_002772000_003608_0001.DBL\n",
      "2018-08-20 14:08:30,547:INFO:time for single file read [s]: 8.097\n",
      "2018-08-20 14:08:30,553:INFO:reading file /lustre/storeA/project/aerocom/aerocom1/ADM_CALIPSO_TEST/download/AE_OPER_ALD_U_N_2A_20070101T051928319_002772000_003609_0001.DBL\n",
      "2018-08-20 14:08:32,452:INFO:time for single file read [s]: 1.899\n",
      "2018-08-20 14:08:32,454:INFO:reading file /lustre/storeA/project/aerocom/aerocom1/ADM_CALIPSO_TEST/download/AE_OPER_ALD_U_N_2A_20070101T065821869_002772000_003610_0001.DBL\n",
      "2018-08-20 14:08:35,037:INFO:time for single file read [s]: 2.583\n",
      "2018-08-20 14:08:35,043:INFO:reading file /lustre/storeA/project/aerocom/aerocom1/ADM_CALIPSO_TEST/download/AE_OPER_ALD_U_N_2A_20070101T083714679_002772000_003611_0001.DBL\n",
      "2018-08-20 14:08:37,483:INFO:time for single file read [s]: 2.440\n",
      "2018-08-20 14:08:37,488:INFO:reading file /lustre/storeA/project/aerocom/aerocom1/ADM_CALIPSO_TEST/download/AE_OPER_ALD_U_N_2A_20070101T101607479_002771999_003612_0001.DBL\n",
      "2018-08-20 14:08:42,060:INFO:time for single file read [s]: 4.571\n",
      "2018-08-20 14:08:42,065:INFO:reading file /lustre/storeA/project/aerocom/aerocom1/ADM_CALIPSO_TEST/download/AE_OPER_ALD_U_N_2A_20070101T115501779_002772000_003613_0001.DBL\n",
      "2018-08-20 14:08:43,948:INFO:time for single file read [s]: 1.882\n",
      "2018-08-20 14:08:43,952:INFO:reading file /lustre/storeA/project/aerocom/aerocom1/ADM_CALIPSO_TEST/download/AE_OPER_ALD_U_N_2A_20070101T133354579_002772000_003614_0001.DBL\n",
      "2018-08-20 14:08:48,416:INFO:time for single file read [s]: 4.465\n",
      "2018-08-20 14:08:48,421:INFO:reading file /lustre/storeA/project/aerocom/aerocom1/ADM_CALIPSO_TEST/download/AE_OPER_ALD_U_N_2A_20070101T151247389_002771999_003615_0001.DBL\n",
      "2018-08-20 14:08:53,940:INFO:time for single file read [s]: 5.519\n",
      "2018-08-20 14:08:53,948:INFO:reading file /lustre/storeA/project/aerocom/aerocom1/ADM_CALIPSO_TEST/download/AE_OPER_ALD_U_N_2A_20070101T165140199_002772000_003616_0001.DBL\n",
      "2018-08-20 14:08:58,524:INFO:time for single file read [s]: 4.575\n",
      "2018-08-20 14:08:58,530:INFO:reading file /lustre/storeA/project/aerocom/aerocom1/ADM_CALIPSO_TEST/download/AE_OPER_ALD_U_N_2A_20070101T183033750_000803999_003617_0001.DBL\n",
      "2018-08-20 14:09:03,037:INFO:time for single file read [s]: 4.507\n",
      "2018-08-20 14:09:03,043:INFO:reading file /lustre/storeA/project/aerocom/aerocom1/ADM_CALIPSO_TEST/download/AE_OPER_ALD_U_N_2A_20070101T200926549_002772000_003618_0001.DBL\n",
      "2018-08-20 14:09:11,026:INFO:time for single file read [s]: 7.983\n",
      "2018-08-20 14:09:11,033:INFO:reading file /lustre/storeA/project/aerocom/aerocom1/ADM_CALIPSO_TEST/download/AE_OPER_ALD_U_N_2A_20070101T214819360_002772000_003619_0001.DBL\n",
      "2018-08-20 14:09:25,180:INFO:time for single file read [s]: 14.148\n",
      "2018-08-20 14:09:25,186:INFO:reading file /lustre/storeA/project/aerocom/aerocom1/ADM_CALIPSO_TEST/download/AE_OPER_ALD_U_N_2A_20070101T232712169_002772000_003620_0001.DBL\n",
      "2018-08-20 14:09:31,772:INFO:time for single file read [s]: 6.585\n",
      "2018-08-20 14:09:31,774:INFO:overall time for file read [s]: 90.822\n",
      "2018-08-20 14:09:31,775:INFO:size of data object: 79512\n"
     ]
    },
    {
     "name": "stdout",
     "output_type": "stream",
     "text": [
      "CPU times: user 23 s, sys: 312 ms, total: 23.4 s\n",
      "Wall time: 1min 30s\n"
     ]
    }
   ],
   "source": [
    "%time ADM.read(vars_to_read=['ec550aer'])"
   ]
  },
  {
   "cell_type": "markdown",
   "metadata": {},
   "source": [
    "## ADM to XArray"
   ]
  },
  {
   "cell_type": "code",
   "execution_count": 4,
   "metadata": {},
   "outputs": [
    {
     "data": {
      "text/plain": [
       "<xarray.Dataset>\n",
       "Dimensions:  (time: 79512)\n",
       "Coordinates:\n",
       "  * time     (time) datetime64[ns] 2007-01-01T00:22:49.346999884 ...\n",
       "    lat      (time) float64 nan 173.4 173.4 173.4 173.4 173.4 173.4 173.4 ...\n",
       "    lon      (time) float64 nan 72.33 72.33 72.33 72.33 72.33 72.33 72.33 ...\n",
       "    alt      (time) float64 nan 3.047e+04 2.669e+04 2.417e+04 2.164e+04 ...\n",
       "Data variables:\n",
       "    ec550    (time) float64 nan 0.0 0.0 55.44 0.0 0.0 0.0 0.0 0.0 0.0 0.0 ..."
      ]
     },
     "execution_count": 4,
     "metadata": {},
     "output_type": "execute_result"
    }
   ],
   "source": [
    "adm = xr.Dataset.from_dict(dict(\n",
    "    coords = dict(\n",
    "        time =  dict(\n",
    "            dims = 'time', \n",
    "            data = pd.to_datetime(ADM.data[:,ReadAeolusL2bData._TIMEINDEX],unit='s'),\n",
    "            attrs = {'long_name':'time'},\n",
    "        ),\n",
    "        lat =  dict(\n",
    "            dims = 'time', \n",
    "            data = ADM.data[:,ReadAeolusL2bData._LONINDEX],\n",
    "            attrs = {'long_name':'latitude', 'units':'degrees_north'},\n",
    "        ),\n",
    "        lon =  dict(\n",
    "            dims = 'time', \n",
    "            data = ADM.data[:,ReadAeolusL2bData._LATINDEX],\n",
    "            attrs = {'long_name':'longitude', 'units':'degrees_east'},\n",
    "        ),\n",
    "        alt =  dict(\n",
    "            dims = 'time', \n",
    "            data = ADM.data[:,ReadAeolusL2bData._ALTITUDEINDEX],\n",
    "            attrs = {'long_name':'altitude', 'units':'m'},\n",
    "        ),\n",
    "    ),\n",
    "    dims = 'time', \n",
    "    data_vars = dict(\n",
    "        ec550 =  dict(\n",
    "            dims = 'time', \n",
    "            data = ADM.data[:,ReadAeolusL2bData._EC550INDEX],\n",
    "            attrs = {'long_name':'ec550', 'units':'1'},\n",
    "        ),\n",
    "    ),\n",
    "))\n",
    "\n",
    "adm"
   ]
  },
  {
   "cell_type": "markdown",
   "metadata": {},
   "source": [
    "## CAMS50 forecat to XArray"
   ]
  },
  {
   "cell_type": "code",
   "execution_count": 5,
   "metadata": {},
   "outputs": [
    {
     "data": {
      "text/plain": [
       "<xarray.Dataset>\n",
       "Dimensions:                (ilev: 9, lat: 369, lev: 8, lon: 301, time: 121)\n",
       "Coordinates:\n",
       "  * lon                    (lon) float64 -30.0 -29.75 -29.5 -29.25 -29.0 ...\n",
       "  * lat                    (lat) float64 30.0 30.12 30.25 30.38 30.5 30.62 ...\n",
       "  * lev                    (lev) float64 0.9946 0.9838 0.9703 0.9509 0.8932 ...\n",
       "  * ilev                   (ilev) float64 0.9892 0.9784 0.9621 0.9396 0.8756 ...\n",
       "  * time                   (time) datetime64[ns] 2018-06-05 ...\n",
       "Data variables:\n",
       "    P0                     float64 ...\n",
       "    hyam                   (lev) float64 ...\n",
       "    hybm                   (lev) float64 ...\n",
       "    hyai                   (ilev) float64 ...\n",
       "    hybi                   (ilev) float64 ...\n",
       "    SURF_ug_O3             (time, lat, lon) float32 ...\n",
       "    SURF_ug_NO2            (time, lat, lon) float32 ...\n",
       "    SURF_ug_PM25_rh50      (time, lat, lon) float32 ...\n",
       "    SURF_ug_PM10_rh50      (time, lat, lon) float32 ...\n",
       "    SURF_ug_NO             (time, lat, lon) float32 ...\n",
       "    SURF_ug_SO2            (time, lat, lon) float32 ...\n",
       "    SURF_ug_CO             (time, lat, lon) float32 ...\n",
       "    SURF_ug_NH3            (time, lat, lon) float32 ...\n",
       "    SURF_ug_PAN            (time, lat, lon) float32 ...\n",
       "    SURF_ug_NMVOC          (time, lat, lon) float32 ...\n",
       "    SURF_Gm3_POLLEN_BIRCH  (time, lat, lon) float32 ...\n",
       "    SURF_Gm3_POLLEN_OLIVE  (time, lat, lon) float32 ...\n",
       "    SURF_Gm3_POLLEN_GRASS  (time, lat, lon) float32 ...\n",
       "    COLUMN_NO2_k20         (time, lat, lon) float32 ...\n",
       "    COLUMN_O3_k20          (time, lat, lon) float32 ...\n",
       "    COLUMN_CO_k20          (time, lat, lon) float32 ...\n",
       "    COLUMN_HCHO_k20        (time, lat, lon) float32 ...\n",
       "    AOD_550nm              (time, lat, lon) float32 ...\n",
       "    D3_ug_O3               (time, lev, lat, lon) float32 ...\n",
       "    D3_ug_NO2              (time, lev, lat, lon) float32 ...\n",
       "    D3_ug_PM25_wet         (time, lev, lat, lon) float32 ...\n",
       "    D3_ug_PM10_wet         (time, lev, lat, lon) float32 ...\n",
       "    D3_ug_NO               (time, lev, lat, lon) float32 ...\n",
       "    D3_ug_SO2              (time, lev, lat, lon) float32 ...\n",
       "    D3_ug_CO               (time, lev, lat, lon) float32 ...\n",
       "    D3_ug_NH3              (time, lev, lat, lon) float32 ...\n",
       "    D3_ug_PAN              (time, lev, lat, lon) float32 ...\n",
       "    D3_ug_NMVOC            (time, lev, lat, lon) float32 ...\n",
       "Attributes:\n",
       "    vert_coord:         atmosphere_hybrid_sigma_pressure_coordinate\n",
       "    Conventions:        CF-1.6\n",
       "    model:              EMEP_MSC-W\n",
       "    author_of_run:      Unimod group\n",
       "    created_date:       20180606\n",
       "    created_hour:       013056.061\n",
       "    projection:         lon lat\n",
       "    period_type:        hourly\n",
       "    run_label:          CAMS50.201801_EmChem09soa_CAMS50-FORECAST\n",
       "    lastmodified_date:  20180606\n",
       "    lastmodified_hour:  015755.452"
      ]
     },
     "execution_count": 5,
     "metadata": {},
     "output_type": "execute_result"
    }
   ],
   "source": [
    "metproduction = '/lustre/storeB/project/metproduction/products/%s'\n",
    "cams50 = dict(\n",
    "    forecast = metproduction%'cwf_ctm/CWF_12FC-%s_hourInst.nc',\n",
    "    analysis = metproduction%'cwf_ctm/CWF_00AN-%s_hourInst.nc',\n",
    "    reanalysis = metproduction%'cwf_ctm/CWF_00RE-%s_hourInst.nc',\n",
    ")\n",
    "\n",
    "ncfile = cams50['forecast']%'20180606'\n",
    "emep = xr.open_dataset(ncfile)\n",
    "emep"
   ]
  },
  {
   "cell_type": "markdown",
   "metadata": {},
   "source": [
    "## CAST"
   ]
  },
  {
   "cell_type": "markdown",
   "metadata": {},
   "source": [
    "### Discard ADM outside the forecast domain"
   ]
  },
  {
   "cell_type": "code",
   "execution_count": 6,
   "metadata": {},
   "outputs": [
    {
     "data": {
      "text/plain": [
       "{'time': array(['2018-06-05T00:00:00.000000000', '2018-06-10T00:00:00.000000000'],\n",
       "       dtype='datetime64[ns]'),\n",
       " 'lat': array([30., 76.]),\n",
       " 'lon': array([-30.,  45.])}"
      ]
     },
     "execution_count": 6,
     "metadata": {},
     "output_type": "execute_result"
    }
   ],
   "source": [
    "domain = dict(\n",
    "    time = emep.time[[0, -1]].values,\n",
    "    lat = emep.lat[[0, -1]].values,\n",
    "    lon = emep.lon[[0, -1]].values,\n",
    ")\n",
    "in_range = lambda x, k: np.logical_and(x >= domain[k][0], x <= domain[k][1])\n",
    "\n",
    "domain"
   ]
  },
  {
   "cell_type": "code",
   "execution_count": 7,
   "metadata": {},
   "outputs": [
    {
     "data": {
      "text/plain": [
       "'in_latlon:   3979'"
      ]
     },
     "execution_count": 7,
     "metadata": {},
     "output_type": "execute_result"
    }
   ],
   "source": [
    "in_latlon = lambda x: np.logical_and(in_range(x.lat, 'lat'), in_range(x.lon, 'lon'))\n",
    "\n",
    "'in_latlon: %6d'%in_latlon(adm).sum()"
   ]
  },
  {
   "cell_type": "markdown",
   "metadata": {},
   "source": [
    "### Forecast time window\n",
    "Skip time filtering for now. The example dataset is old and will not match any current forecast."
   ]
  },
  {
   "cell_type": "code",
   "execution_count": 8,
   "metadata": {},
   "outputs": [
    {
     "data": {
      "text/plain": [
       "'in_domain:      0'"
      ]
     },
     "execution_count": 8,
     "metadata": {},
     "output_type": "execute_result"
    }
   ],
   "source": [
    "in_domain = lambda x: np.logical_and(in_latlon(x), in_range(x.time, 'time'))\n",
    "\n",
    "'in_domain: %6d'%in_domain(adm).sum()"
   ]
  },
  {
   "cell_type": "markdown",
   "metadata": {},
   "source": [
    "### Filtered ADM"
   ]
  },
  {
   "cell_type": "code",
   "execution_count": 9,
   "metadata": {},
   "outputs": [
    {
     "data": {
      "text/plain": [
       "<xarray.DataArray 'ec550' (time: 3979)>\n",
       "array([0., 0., 0., ..., 0., 0., 0.])\n",
       "Coordinates:\n",
       "  * time     (time) datetime64[ns] 2007-01-01T20:39:02.746999979 ...\n",
       "    lat      (time) float64 75.95 75.95 75.95 75.95 75.95 75.95 75.95 75.95 ...\n",
       "    lon      (time) float64 -2.185 -2.185 -2.185 -2.185 -2.185 -2.185 -2.185 ...\n",
       "    alt      (time) float64 3.057e+04 2.679e+04 2.427e+04 2.174e+04 ...\n",
       "Attributes:\n",
       "    long_name:  ec550\n",
       "    units:      1"
      ]
     },
     "execution_count": 9,
     "metadata": {},
     "output_type": "execute_result"
    }
   ],
   "source": [
    "ec550 = adm.where(in_latlon(adm), drop=True).ec550\n",
    "ec550"
   ]
  },
  {
   "cell_type": "code",
   "execution_count": 10,
   "metadata": {},
   "outputs": [
    {
     "name": "stdout",
     "output_type": "stream",
     "text": [
      "ADM total:  71397\n",
      "in_latlon:   3979\n"
     ]
    }
   ],
   "source": [
    "print('ADM total: %6d'%adm.ec550.count())\n",
    "print('in_latlon: %6d'%ec550.count())"
   ]
  },
  {
   "cell_type": "markdown",
   "metadata": {},
   "source": [
    "### Collocated forecast"
   ]
  },
  {
   "cell_type": "code",
   "execution_count": 11,
   "metadata": {},
   "outputs": [],
   "source": [
    "collocate = lambda model, obs: model.load().sel(\n",
    "    lon=obs.lon, lat=obs.lat, time=obs.time, method='nearest'\n",
    ")"
   ]
  },
  {
   "cell_type": "code",
   "execution_count": 12,
   "metadata": {},
   "outputs": [
    {
     "name": "stdout",
     "output_type": "stream",
     "text": [
      "CPU times: user 1.04 s, sys: 60 ms, total: 1.1 s\n",
      "Wall time: 1.1 s\n"
     ]
    },
    {
     "data": {
      "text/plain": [
       "<xarray.DataArray 'AOD_550nm' (time: 3979)>\n",
       "array([0., 0., 0., ..., 0., 0., 0.], dtype=float32)\n",
       "Coordinates:\n",
       "    lon      (time) float64 -2.25 -2.25 -2.25 -2.25 -2.25 -2.25 -2.25 -2.25 ...\n",
       "    lat      (time) float64 76.0 76.0 76.0 76.0 76.0 76.0 76.0 76.0 76.0 ...\n",
       "  * time     (time) datetime64[ns] 2018-06-05 2018-06-05 2018-06-05 ...\n",
       "    alt      (time) float64 3.057e+04 2.679e+04 2.427e+04 2.174e+04 ...\n",
       "Attributes:\n",
       "    long_name:           AOD_550nm\n",
       "    units:               \n",
       "    class:               AOD:GROUP\n",
       "    current_date_first:  [2018    6    5    0]\n",
       "    numberofrecords:     121\n",
       "    current_date_last:   [2018    6   10    0]"
      ]
     },
     "execution_count": 12,
     "metadata": {},
     "output_type": "execute_result"
    }
   ],
   "source": [
    "%time aod550 = collocate(emep.AOD_550nm, ec550)\n",
    "\n",
    "aod550"
   ]
  }
 ],
 "metadata": {
  "kernelspec": {
   "display_name": "Python 3",
   "language": "python",
   "name": "python3"
  },
  "language_info": {
   "codemirror_mode": {
    "name": "ipython",
    "version": 3
   },
   "file_extension": ".py",
   "mimetype": "text/x-python",
   "name": "python",
   "nbconvert_exporter": "python",
   "pygments_lexer": "ipython3",
   "version": "3.6.6"
  }
 },
 "nbformat": 4,
 "nbformat_minor": 2
}
