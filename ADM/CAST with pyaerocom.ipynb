{
 "cells": [
  {
   "cell_type": "markdown",
   "metadata": {},
   "source": [
    "# CAST\n",
    "Collocated\n",
    "Allong\n",
    "Satellite\n",
    "Track\n",
    "\n",
    "### ToDo\n",
    "- [x] convert ADM dictionary into a xarray dataset\n",
    "- [x] read model data into a xarray dataset\n",
    "- collocate model to ADM grid\n",
    "  - [x] lon/lat\n",
    "  - [x] time (not using right now)\n",
    "  - [x] altitude/elevation\n",
    "- [x] save to netcdt\n",
    "- plotting, statistics on a different notebook"
   ]
  },
  {
   "cell_type": "markdown",
   "metadata": {},
   "source": [
    "# Conda environment at PPI/lustre\n",
    "\n",
    "```bash\n",
    "# load right (ana)conda module\n",
    "module load aerocom-py/aerocom-griesie_work\n",
    "\n",
    "# activate coda environment\n",
    "source `which conda | sed 's:bin/conda:etc/profile.d/conda.sh:'`\n",
    "conda activate coda.2.19\n",
    "\n",
    "# start notebook\n",
    "jupyter notebook --no-browser --ip=$HOSTNAME.met.no\n",
    "\n",
    "```"
   ]
  },
  {
   "cell_type": "code",
   "execution_count": 1,
   "metadata": {},
   "outputs": [
    {
     "name": "stdout",
     "output_type": "stream",
     "text": [
      "numpy 1.14.3\n",
      "pandas 0.23.4\n",
      "xarray 0.10.8\n"
     ]
    }
   ],
   "source": [
    "import numpy as np\n",
    "import pandas as pd\n",
    "import xarray as xr\n",
    "\n",
    "for m in [np, pd, xr]:\n",
    "    print(m.__name__, m.__version__)"
   ]
  },
  {
   "cell_type": "markdown",
   "metadata": {},
   "source": [
    "## ADM pyaerocom tools"
   ]
  },
  {
   "cell_type": "code",
   "execution_count": 2,
   "metadata": {},
   "outputs": [],
   "source": [
    "from pyaerocom.io.read_aeolus_l2b_data import ReadAeolusL2bData\n",
    "ADM = ReadAeolusL2bData(verbose=True)"
   ]
  },
  {
   "cell_type": "markdown",
   "metadata": {},
   "source": [
    "### Read dataset\n",
    "All datasets on `$CODA_DEFINITION/download/`"
   ]
  },
  {
   "cell_type": "code",
   "execution_count": 3,
   "metadata": {},
   "outputs": [
    {
     "name": "stderr",
     "output_type": "stream",
     "text": [
      "2018-09-03 10:06:41,259:INFO:searching for data files. This might take a while...\n",
      "2018-09-03 10:06:41,262:INFO:time for file find: 0.003\n",
      "2018-09-03 10:06:41,380:INFO:reading file /lustre/storeA/project/aerocom/aerocom1/ADM_CALIPSO_TEST/download/AE_OPER_ALD_U_N_2A_20070101T002249149_002772000_003606_0001.DBL\n",
      "2018-09-03 10:06:41,751:INFO:time for single file read [s]: 0.371\n",
      "2018-09-03 10:06:41,752:INFO:reading file /lustre/storeA/project/aerocom/aerocom1/ADM_CALIPSO_TEST/download/AE_OPER_ALD_U_N_2A_20070101T020142709_002772000_003607_0001.DBL\n",
      "2018-09-03 10:06:42,287:INFO:time for single file read [s]: 0.535\n",
      "2018-09-03 10:06:42,290:INFO:reading file /lustre/storeA/project/aerocom/aerocom1/ADM_CALIPSO_TEST/download/AE_OPER_ALD_U_N_2A_20070101T034035509_002772000_003608_0001.DBL\n",
      "2018-09-03 10:06:43,066:INFO:time for single file read [s]: 0.776\n",
      "2018-09-03 10:06:43,069:INFO:reading file /lustre/storeA/project/aerocom/aerocom1/ADM_CALIPSO_TEST/download/AE_OPER_ALD_U_N_2A_20070101T051928319_002772000_003609_0001.DBL\n",
      "2018-09-03 10:06:44,048:INFO:time for single file read [s]: 0.979\n",
      "2018-09-03 10:06:44,052:INFO:reading file /lustre/storeA/project/aerocom/aerocom1/ADM_CALIPSO_TEST/download/AE_OPER_ALD_U_N_2A_20070101T065821869_002772000_003610_0001.DBL\n",
      "2018-09-03 10:06:45,226:INFO:time for single file read [s]: 1.173\n",
      "2018-09-03 10:06:45,228:INFO:reading file /lustre/storeA/project/aerocom/aerocom1/ADM_CALIPSO_TEST/download/AE_OPER_ALD_U_N_2A_20070101T083714679_002772000_003611_0001.DBL\n",
      "2018-09-03 10:06:46,758:INFO:time for single file read [s]: 1.531\n",
      "2018-09-03 10:06:46,762:INFO:reading file /lustre/storeA/project/aerocom/aerocom1/ADM_CALIPSO_TEST/download/AE_OPER_ALD_U_N_2A_20070101T101607479_002771999_003612_0001.DBL\n",
      "2018-09-03 10:06:48,274:INFO:time for single file read [s]: 1.512\n",
      "2018-09-03 10:06:48,277:INFO:reading file /lustre/storeA/project/aerocom/aerocom1/ADM_CALIPSO_TEST/download/AE_OPER_ALD_U_N_2A_20070101T115501779_002772000_003613_0001.DBL\n",
      "2018-09-03 10:06:49,971:INFO:time for single file read [s]: 1.694\n",
      "2018-09-03 10:06:49,978:INFO:reading file /lustre/storeA/project/aerocom/aerocom1/ADM_CALIPSO_TEST/download/AE_OPER_ALD_U_N_2A_20070101T133354579_002772000_003614_0001.DBL\n",
      "2018-09-03 10:06:51,933:INFO:time for single file read [s]: 1.955\n",
      "2018-09-03 10:06:51,937:INFO:reading file /lustre/storeA/project/aerocom/aerocom1/ADM_CALIPSO_TEST/download/AE_OPER_ALD_U_N_2A_20070101T151247389_002771999_003615_0001.DBL\n",
      "2018-09-03 10:06:53,953:INFO:time for single file read [s]: 2.016\n",
      "2018-09-03 10:06:53,956:INFO:reading file /lustre/storeA/project/aerocom/aerocom1/ADM_CALIPSO_TEST/download/AE_OPER_ALD_U_N_2A_20070101T165140199_002772000_003616_0001.DBL\n",
      "2018-09-03 10:06:56,092:INFO:time for single file read [s]: 2.137\n",
      "2018-09-03 10:06:56,095:INFO:reading file /lustre/storeA/project/aerocom/aerocom1/ADM_CALIPSO_TEST/download/AE_OPER_ALD_U_N_2A_20070101T183033750_000803999_003617_0001.DBL\n",
      "2018-09-03 10:06:56,738:INFO:time for single file read [s]: 0.643\n",
      "2018-09-03 10:06:56,740:INFO:reading file /lustre/storeA/project/aerocom/aerocom1/ADM_CALIPSO_TEST/download/AE_OPER_ALD_U_N_2A_20070101T200926549_002772000_003618_0001.DBL\n",
      "2018-09-03 10:06:59,226:INFO:time for single file read [s]: 2.486\n",
      "2018-09-03 10:06:59,231:INFO:reading file /lustre/storeA/project/aerocom/aerocom1/ADM_CALIPSO_TEST/download/AE_OPER_ALD_U_N_2A_20070101T214819360_002772000_003619_0001.DBL\n",
      "2018-09-03 10:07:01,899:INFO:time for single file read [s]: 2.668\n",
      "2018-09-03 10:07:01,904:INFO:reading file /lustre/storeA/project/aerocom/aerocom1/ADM_CALIPSO_TEST/download/AE_OPER_ALD_U_N_2A_20070101T232712169_002772000_003620_0001.DBL\n",
      "2018-09-03 10:07:04,786:INFO:time for single file read [s]: 2.883\n",
      "2018-09-03 10:07:04,788:INFO:overall time for file read [s]: 23.530\n",
      "2018-09-03 10:07:04,789:INFO:size of data object: 79512\n"
     ]
    },
    {
     "name": "stdout",
     "output_type": "stream",
     "text": [
      "CPU times: user 21.5 s, sys: 136 ms, total: 21.6 s\n",
      "Wall time: 23.5 s\n"
     ]
    }
   ],
   "source": [
    "%time ADM.read(vars_to_read=['ec550aer'])"
   ]
  },
  {
   "cell_type": "markdown",
   "metadata": {},
   "source": [
    "## ADM to XArray"
   ]
  },
  {
   "cell_type": "code",
   "execution_count": 4,
   "metadata": {},
   "outputs": [
    {
     "data": {
      "text/plain": [
       "<xarray.Dataset>\n",
       "Dimensions:  (time: 79512)\n",
       "Coordinates:\n",
       "  * time     (time) datetime64[ns] 2007-01-01T00:22:49.346999884 ...\n",
       "    lat      (time) float64 nan 173.4 173.4 173.4 173.4 173.4 173.4 173.4 ...\n",
       "    lon      (time) float64 nan 72.33 72.33 72.33 72.33 72.33 72.33 72.33 ...\n",
       "    alt      (time) float64 nan 3.047e+04 2.669e+04 2.417e+04 2.164e+04 ...\n",
       "Data variables:\n",
       "    ec550    (time) float64 nan 0.0 0.0 55.44 0.0 0.0 0.0 0.0 0.0 0.0 0.0 ..."
      ]
     },
     "execution_count": 4,
     "metadata": {},
     "output_type": "execute_result"
    }
   ],
   "source": [
    "adm = xr.Dataset.from_dict(dict(\n",
    "    coords = dict(\n",
    "        time =  dict(\n",
    "            dims = 'time', \n",
    "            data = pd.to_datetime(ADM.data[:,ReadAeolusL2bData._TIMEINDEX],unit='s'),\n",
    "            attrs = {'long_name':'time'},\n",
    "        ),\n",
    "        lat =  dict(\n",
    "            dims = 'time', \n",
    "            data = ADM.data[:,ReadAeolusL2bData._LONINDEX],\n",
    "            attrs = {'long_name':'latitude', 'units':'degrees_north'},\n",
    "        ),\n",
    "        lon =  dict(\n",
    "            dims = 'time', \n",
    "            data = ADM.data[:,ReadAeolusL2bData._LATINDEX],\n",
    "            attrs = {'long_name':'longitude', 'units':'degrees_east'},\n",
    "        ),\n",
    "        alt =  dict(\n",
    "            dims = 'time', \n",
    "            data = ADM.data[:,ReadAeolusL2bData._ALTITUDEINDEX],\n",
    "            attrs = {'long_name':'altitude', 'units':'m'},\n",
    "        ),\n",
    "    ),\n",
    "    dims = 'time', \n",
    "    data_vars = dict(\n",
    "        ec550 =  dict(\n",
    "            dims = 'time', \n",
    "            data = ADM.data[:,ReadAeolusL2bData._EC550INDEX],\n",
    "            attrs = {'long_name':'ec550', 'units':'1'},\n",
    "        ),\n",
    "    ),\n",
    "))\n",
    "\n",
    "adm"
   ]
  },
  {
   "cell_type": "markdown",
   "metadata": {},
   "source": [
    "## CAMS50 forecat to XArray"
   ]
  },
  {
   "cell_type": "code",
   "execution_count": 5,
   "metadata": {},
   "outputs": [
    {
     "data": {
      "text/plain": [
       "<xarray.Dataset>\n",
       "Dimensions:                (ilev: 9, lat: 369, lev: 8, lon: 301, time: 121)\n",
       "Coordinates:\n",
       "  * lon                    (lon) float64 -30.0 -29.75 -29.5 -29.25 -29.0 ...\n",
       "  * lat                    (lat) float64 30.0 30.12 30.25 30.38 30.5 30.62 ...\n",
       "  * lev                    (lev) float64 0.9946 0.9838 0.9703 0.9509 0.8932 ...\n",
       "  * ilev                   (ilev) float64 0.9892 0.9784 0.9621 0.9396 0.8756 ...\n",
       "  * time                   (time) datetime64[ns] 2018-06-05 ...\n",
       "Data variables:\n",
       "    P0                     float64 ...\n",
       "    hyam                   (lev) float64 ...\n",
       "    hybm                   (lev) float64 ...\n",
       "    hyai                   (ilev) float64 ...\n",
       "    hybi                   (ilev) float64 ...\n",
       "    SURF_ug_O3             (time, lat, lon) float32 ...\n",
       "    SURF_ug_NO2            (time, lat, lon) float32 ...\n",
       "    SURF_ug_PM25_rh50      (time, lat, lon) float32 ...\n",
       "    SURF_ug_PM10_rh50      (time, lat, lon) float32 ...\n",
       "    SURF_ug_NO             (time, lat, lon) float32 ...\n",
       "    SURF_ug_SO2            (time, lat, lon) float32 ...\n",
       "    SURF_ug_CO             (time, lat, lon) float32 ...\n",
       "    SURF_ug_NH3            (time, lat, lon) float32 ...\n",
       "    SURF_ug_PAN            (time, lat, lon) float32 ...\n",
       "    SURF_ug_NMVOC          (time, lat, lon) float32 ...\n",
       "    SURF_Gm3_POLLEN_BIRCH  (time, lat, lon) float32 ...\n",
       "    SURF_Gm3_POLLEN_OLIVE  (time, lat, lon) float32 ...\n",
       "    SURF_Gm3_POLLEN_GRASS  (time, lat, lon) float32 ...\n",
       "    COLUMN_NO2_k20         (time, lat, lon) float32 ...\n",
       "    COLUMN_O3_k20          (time, lat, lon) float32 ...\n",
       "    COLUMN_CO_k20          (time, lat, lon) float32 ...\n",
       "    COLUMN_HCHO_k20        (time, lat, lon) float32 ...\n",
       "    AOD_550nm              (time, lat, lon) float32 ...\n",
       "    D3_ug_O3               (time, lev, lat, lon) float32 ...\n",
       "    D3_ug_NO2              (time, lev, lat, lon) float32 ...\n",
       "    D3_ug_PM25_wet         (time, lev, lat, lon) float32 ...\n",
       "    D3_ug_PM10_wet         (time, lev, lat, lon) float32 ...\n",
       "    D3_ug_NO               (time, lev, lat, lon) float32 ...\n",
       "    D3_ug_SO2              (time, lev, lat, lon) float32 ...\n",
       "    D3_ug_CO               (time, lev, lat, lon) float32 ...\n",
       "    D3_ug_NH3              (time, lev, lat, lon) float32 ...\n",
       "    D3_ug_PAN              (time, lev, lat, lon) float32 ...\n",
       "    D3_ug_NMVOC            (time, lev, lat, lon) float32 ...\n",
       "Attributes:\n",
       "    vert_coord:         atmosphere_hybrid_sigma_pressure_coordinate\n",
       "    Conventions:        CF-1.6\n",
       "    model:              EMEP_MSC-W\n",
       "    author_of_run:      Unimod group\n",
       "    created_date:       20180606\n",
       "    created_hour:       013056.061\n",
       "    projection:         lon lat\n",
       "    period_type:        hourly\n",
       "    run_label:          CAMS50.201801_EmChem09soa_CAMS50-FORECAST\n",
       "    lastmodified_date:  20180606\n",
       "    lastmodified_hour:  015755.452"
      ]
     },
     "execution_count": 5,
     "metadata": {},
     "output_type": "execute_result"
    }
   ],
   "source": [
    "metproduction = '/lustre/storeB/project/metproduction/products/%s'\n",
    "cams50 = dict(\n",
    "    forecast = metproduction%'cwf_ctm/CWF_12FC-%s_hourInst.nc',\n",
    "    analysis = metproduction%'cwf_ctm/CWF_00AN-%s_hourInst.nc',\n",
    "    reanalysis = metproduction%'cwf_ctm/CWF_00RE-%s_hourInst.nc',\n",
    ")\n",
    "\n",
    "ncfile = cams50['forecast']%'20180606'\n",
    "emep = xr.open_dataset(ncfile)\n",
    "emep"
   ]
  },
  {
   "cell_type": "markdown",
   "metadata": {},
   "source": [
    "## Test data"
   ]
  },
  {
   "cell_type": "code",
   "execution_count": 6,
   "metadata": {},
   "outputs": [],
   "source": [
    "lustre = \"/lustre/storeA/users/alvarov/ADM/%s\"\n",
    "test = dict(\n",
    "    hourly     = lustre%\"rv417a_EMEP01_hourInst.nc\",\n",
    "    topography = lustre%\"EMEP01_topo.nc\",\n",
    ")\n",
    "emep = xr.open_dataset(test[\"hourly\"]).rename({\"Z_MID\":\"alt\"}).set_coords(\"alt\")"
   ]
  },
  {
   "cell_type": "markdown",
   "metadata": {},
   "source": [
    "### Model altitude\n",
    "model `Z_MID` + `topography`"
   ]
  },
  {
   "cell_type": "code",
   "execution_count": 7,
   "metadata": {},
   "outputs": [
    {
     "data": {
      "text/plain": [
       "<xarray.Dataset>\n",
       "Dimensions:      (ilev: 21, lat: 520, lev: 20, lon: 1200, time: 120)\n",
       "Coordinates:\n",
       "  * lon          (lon) float64 -29.95 -29.85 -29.75 -29.65 -29.55 -29.45 ...\n",
       "  * lat          (lat) float64 30.05 30.15 30.25 30.35 30.45 30.55 30.65 ...\n",
       "  * lev          (lev) float64 0.1099 0.142 0.1876 0.2404 0.3001 0.3662 ...\n",
       "  * ilev         (ilev) float64 0.09869 0.121 0.1629 0.2122 0.2685 0.3316 ...\n",
       "  * time         (time) datetime64[ns] 2016-01-01T01:00:00 ...\n",
       "    alt          (time, lev, lat, lon) float32 15753.486 15752.737 15752.33 ...\n",
       "Data variables:\n",
       "    P0           float64 ...\n",
       "    hyam         (lev) float64 ...\n",
       "    hybm         (lev) float64 ...\n",
       "    hyai         (ilev) float64 ...\n",
       "    hybi         (ilev) float64 ...\n",
       "    SURF_ppb_O3  (time, lat, lon) float32 ...\n",
       "    AOD_350nm    (time, lat, lon) float32 ...\n",
       "    AOD_550nm    (time, lat, lon) float32 ...\n",
       "    EXT_350nm    (time, lev, lat, lon) float32 ...\n",
       "    EXT_550nm    (time, lev, lat, lon) float32 ...\n",
       "Attributes:\n",
       "    vert_coord:         atmosphere_hybrid_sigma_pressure_coordinate\n",
       "    Conventions:        CF-1.6\n",
       "    model:              EMEP_MSC-W\n",
       "    author_of_run:      Unimod group\n",
       "    created_date:       20180831\n",
       "    created_hour:       144307.941\n",
       "    projection:         lon lat\n",
       "    period_type:        hourly\n",
       "    run_label:          Base_EMEP01\n",
       "    lastmodified_date:  20180831\n",
       "    lastmodified_hour:  161051.960"
      ]
     },
     "execution_count": 7,
     "metadata": {},
     "output_type": "execute_result"
    }
   ],
   "source": [
    "topo = xr.open_dataset(test[\"topography\"]).topography.isel(time=0)\n",
    "topo[\"lon\"] = emep.lon\n",
    "topo[\"lat\"] = emep.lat\n",
    "emep[\"alt\"] += topo\n",
    "emep"
   ]
  },
  {
   "cell_type": "markdown",
   "metadata": {},
   "source": [
    "## CAST"
   ]
  },
  {
   "cell_type": "markdown",
   "metadata": {},
   "source": [
    "### Discard ADM outside the forecast domain"
   ]
  },
  {
   "cell_type": "code",
   "execution_count": 8,
   "metadata": {},
   "outputs": [
    {
     "data": {
      "text/plain": [
       "{'time': array(['2016-01-01T01:00:00.000000000', '2016-01-06T00:00:00.000000000'],\n",
       "       dtype='datetime64[ns]'),\n",
       " 'lat': array([30.05, 81.95]),\n",
       " 'lon': array([-29.95,  89.95]),\n",
       " 'alt': [0.0, array(15842.48046875)]}"
      ]
     },
     "execution_count": 8,
     "metadata": {},
     "output_type": "execute_result"
    }
   ],
   "source": [
    "domain = dict(\n",
    "    time = emep.time[[0, -1]].values,\n",
    "    lat = emep.lat[[0, -1]].values,\n",
    "    lon = emep.lon[[0, -1]].values,\n",
    "    alt = [0.0, emep.alt.isel(time=0, lev=0).max().values],\n",
    ")\n",
    "in_range = lambda x, k: np.logical_and(x >= domain[k][0], x <= domain[k][1])\n",
    "\n",
    "domain"
   ]
  },
  {
   "cell_type": "code",
   "execution_count": 9,
   "metadata": {},
   "outputs": [
    {
     "name": "stdout",
     "output_type": "stream",
     "text": [
      "in_latlon:   8997\n",
      "in_domain:   5669\n"
     ]
    }
   ],
   "source": [
    "in_latlon = lambda x: np.logical_and(in_range(x.lat, 'lat'), in_range(x.lon, 'lon'))\n",
    "in_domain = lambda x: np.logical_and(in_latlon(x), in_range(x.alt, 'alt'))\n",
    "\n",
    "print('in_latlon: %6d'%in_latlon(adm).sum())\n",
    "print('in_domain: %6d'%in_domain(adm).sum())"
   ]
  },
  {
   "cell_type": "markdown",
   "metadata": {},
   "source": [
    "### Forecast time window\n",
    "Skip time filtering for now. The example dataset is old and will not match any current forecast."
   ]
  },
  {
   "cell_type": "code",
   "execution_count": 10,
   "metadata": {},
   "outputs": [
    {
     "name": "stdout",
     "output_type": "stream",
     "text": [
      "in_forecast:      0\n"
     ]
    }
   ],
   "source": [
    "in_forecast = lambda x: np.logical_and(in_domain(x), in_range(x.time, 'time'))\n",
    "\n",
    "print('in_forecast: %6d'%in_forecast(adm).sum())"
   ]
  },
  {
   "cell_type": "markdown",
   "metadata": {},
   "source": [
    "### Filtered ADM"
   ]
  },
  {
   "cell_type": "code",
   "execution_count": 11,
   "metadata": {},
   "outputs": [
    {
     "data": {
      "text/plain": [
       "<xarray.DataArray 'ec550' (time: 5669)>\n",
       "array([0., 0., 0., ..., 0., 0., 0.])\n",
       "Coordinates:\n",
       "  * time     (time) datetime64[ns] 2007-01-01T00:28:25.346999884 ...\n",
       "    lat      (time) float64 79.48 79.48 79.48 79.48 79.48 79.48 79.48 79.48 ...\n",
       "    lon      (time) float64 80.6 80.6 80.6 80.6 80.6 80.6 80.6 80.6 80.6 ...\n",
       "    alt      (time) float64 1.47e+04 1.344e+04 1.218e+04 1.092e+04 9.654e+03 ...\n",
       "Attributes:\n",
       "    long_name:  ec550\n",
       "    units:      1"
      ]
     },
     "execution_count": 11,
     "metadata": {},
     "output_type": "execute_result"
    }
   ],
   "source": [
    "ec550 = adm.where(in_domain(adm), drop=True).ec550\n",
    "ec550"
   ]
  },
  {
   "cell_type": "code",
   "execution_count": 12,
   "metadata": {},
   "outputs": [
    {
     "name": "stdout",
     "output_type": "stream",
     "text": [
      "ADM total:  71397\n",
      "in_latlon:   5669\n"
     ]
    }
   ],
   "source": [
    "print('ADM total: %6d'%adm.ec550.count())\n",
    "print('in_latlon: %6d'%ec550.count())"
   ]
  },
  {
   "cell_type": "markdown",
   "metadata": {},
   "source": [
    "### Collocated forecast"
   ]
  },
  {
   "cell_type": "code",
   "execution_count": 13,
   "metadata": {},
   "outputs": [],
   "source": [
    "collocate = lambda model, obs: model.load().sel(\n",
    "    lon=obs.lon, lat=obs.lat, time=obs.time, method='nearest'\n",
    ")"
   ]
  },
  {
   "cell_type": "code",
   "execution_count": 14,
   "metadata": {},
   "outputs": [
    {
     "name": "stdout",
     "output_type": "stream",
     "text": [
      "CPU times: user 2min 11s, sys: 40.6 s, total: 2min 52s\n",
      "Wall time: 3min 43s\n"
     ]
    },
    {
     "data": {
      "text/plain": [
       "<xarray.DataArray 'EXT_550nm' (time: 5669, lev: 20)>\n",
       "array([[0.000000e+00, 7.444348e-07, 1.120077e-06, ..., 5.290326e-05,\n",
       "        6.021130e-05, 3.114995e-05],\n",
       "       [0.000000e+00, 7.444348e-07, 1.120077e-06, ..., 5.290326e-05,\n",
       "        6.021130e-05, 3.114995e-05],\n",
       "       [0.000000e+00, 7.444348e-07, 1.120077e-06, ..., 5.290326e-05,\n",
       "        6.021130e-05, 3.114995e-05],\n",
       "       ...,\n",
       "       [0.000000e+00, 4.101983e-07, 5.860849e-07, ..., 1.395512e-04,\n",
       "        1.424588e-04, 1.557732e-04],\n",
       "       [0.000000e+00, 4.101983e-07, 5.860849e-07, ..., 1.395512e-04,\n",
       "        1.424588e-04, 1.557732e-04],\n",
       "       [0.000000e+00, 4.101983e-07, 5.860849e-07, ..., 1.395512e-04,\n",
       "        1.424588e-04, 1.557732e-04]], dtype=float32)\n",
       "Coordinates:\n",
       "    lon      (time) float64 80.65 80.65 80.65 80.65 80.65 80.65 80.65 80.65 ...\n",
       "    lat      (time) float64 79.45 79.45 79.45 79.45 79.45 79.45 79.45 79.45 ...\n",
       "  * lev      (lev) float64 0.1099 0.142 0.1876 0.2404 0.3001 0.3662 0.4377 ...\n",
       "  * time     (time) datetime64[ns] 2016-01-01T01:00:00 2016-01-01T01:00:00 ...\n",
       "    alt      (time, lev) float32 14931.8125 13497.477 11890.904 10386.525 ...\n",
       "Attributes:\n",
       "    long_name:           EXT_550nm\n",
       "    units:               1/m\n",
       "    class:               EXT:GROUP\n",
       "    current_date_first:  [2016    1    1    1]\n",
       "    numberofrecords:     120\n",
       "    current_date_last:   [2016    1    6    0]"
      ]
     },
     "execution_count": 14,
     "metadata": {},
     "output_type": "execute_result"
    }
   ],
   "source": [
    "%time aod550 = collocate(emep.EXT_550nm, ec550)\n",
    "\n",
    "aod550"
   ]
  },
  {
   "cell_type": "markdown",
   "metadata": {},
   "source": [
    "### Save to NetCDF\n",
    "save filtered ADM obs and collocated model results"
   ]
  },
  {
   "cell_type": "code",
   "execution_count": 15,
   "metadata": {},
   "outputs": [],
   "source": [
    "ec550.to_netcdf(lustre%\"adm_domain.nc\")\n",
    "aod550.to_netcdf(lustre%\"emep_colloc.nc\")"
   ]
  }
 ],
 "metadata": {
  "kernelspec": {
   "display_name": "Python 3",
   "language": "python",
   "name": "python3"
  },
  "language_info": {
   "codemirror_mode": {
    "name": "ipython",
    "version": 3
   },
   "file_extension": ".py",
   "mimetype": "text/x-python",
   "name": "python",
   "nbconvert_exporter": "python",
   "pygments_lexer": "ipython3",
   "version": "3.6.7"
  },
  "toc": {
   "nav_menu": {},
   "number_sections": true,
   "sideBar": true,
   "skip_h1_title": false,
   "title_cell": "Table of Contents",
   "title_sidebar": "Contents",
   "toc_cell": false,
   "toc_position": {},
   "toc_section_display": true,
   "toc_window_display": false
  }
 },
 "nbformat": 4,
 "nbformat_minor": 2
}
