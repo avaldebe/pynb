{
 "cells": [
  {
   "cell_type": "markdown",
   "metadata": {},
   "source": [
    "# CAST\n",
    "Collocated\n",
    "Allong\n",
    "Satellite\n",
    "Track\n",
    "\n",
    "### ToDo\n",
    "- [x] convert ADM dictionary into a xarray dataset\n",
    "- [x] read model data into a xarray dataset\n",
    "- [x] collocate model to ADM grid"
   ]
  },
  {
   "cell_type": "markdown",
   "metadata": {},
   "source": [
    "# Conda environment at PPI/lustre\n",
    "\n",
    "```bash\n",
    "# load right (ana)conda module\n",
    "module load aerocom-pyaerocom-griesie_work\n",
    "\n",
    "# activate coda environment\n",
    "source `which conda | sed 's:bin/conda:etc/profile.d/conda.sh:'`\n",
    "conda activate coda.2.19\n",
    "\n",
    "# start notebook\n",
    "jupyter notebook --no-browser --ip=$HOSTNAME.met.no\n",
    "\n",
    "```"
   ]
  },
  {
   "cell_type": "code",
   "execution_count": 1,
   "metadata": {},
   "outputs": [
    {
     "name": "stdout",
     "output_type": "stream",
     "text": [
      "numpy 1.14.3\n",
      "pandas 0.23.4\n",
      "xarray 0.10.8\n"
     ]
    }
   ],
   "source": [
    "import numpy as np\n",
    "import pandas as pd\n",
    "import xarray as xr\n",
    "\n",
    "for m in [np, pd, xr]:\n",
    "    print(m.__name__, m.__version__)"
   ]
  },
  {
   "cell_type": "markdown",
   "metadata": {},
   "source": [
    "## ADM pyaerocom tools"
   ]
  },
  {
   "cell_type": "code",
   "execution_count": 2,
   "metadata": {},
   "outputs": [],
   "source": [
    "from pyaerocom.io.read_aeolus_l2b_data import ReadAeolusL2bData\n",
    "ADM = ReadAeolusL2bData(verbose=True)"
   ]
  },
  {
   "cell_type": "markdown",
   "metadata": {},
   "source": [
    "### Read dataset\n",
    "All datasets on `$CODA_DEFINITION/download/`"
   ]
  },
  {
   "cell_type": "code",
   "execution_count": 3,
   "metadata": {},
   "outputs": [
    {
     "name": "stderr",
     "output_type": "stream",
     "text": [
      "2018-08-17 14:22:53,402:INFO:searching for data files. This might take a while...\n",
      "2018-08-17 14:22:54,354:INFO:time for file find: 0.952\n",
      "2018-08-17 14:23:00,069:INFO:reading file /lustre/storeA/project/aerocom/aerocom1/ADM_CALIPSO_TEST/download/AE_OPER_ALD_U_N_2A_20070101T002249149_002772000_003606_0001.DBL\n",
      "2018-08-17 14:23:04,959:INFO:time for single file read [s]: 4.890\n",
      "2018-08-17 14:23:04,960:INFO:reading file /lustre/storeA/project/aerocom/aerocom1/ADM_CALIPSO_TEST/download/AE_OPER_ALD_U_N_2A_20070101T020142709_002772000_003607_0001.DBL\n",
      "2018-08-17 14:23:06,813:INFO:time for single file read [s]: 1.853\n",
      "2018-08-17 14:23:06,816:INFO:reading file /lustre/storeA/project/aerocom/aerocom1/ADM_CALIPSO_TEST/download/AE_OPER_ALD_U_N_2A_20070101T034035509_002772000_003608_0001.DBL\n",
      "2018-08-17 14:23:16,368:INFO:time for single file read [s]: 9.552\n",
      "2018-08-17 14:23:16,371:INFO:reading file /lustre/storeA/project/aerocom/aerocom1/ADM_CALIPSO_TEST/download/AE_OPER_ALD_U_N_2A_20070101T051928319_002772000_003609_0001.DBL\n",
      "2018-08-17 14:23:22,632:INFO:time for single file read [s]: 6.262\n",
      "2018-08-17 14:23:22,637:INFO:reading file /lustre/storeA/project/aerocom/aerocom1/ADM_CALIPSO_TEST/download/AE_OPER_ALD_U_N_2A_20070101T065821869_002772000_003610_0001.DBL\n",
      "2018-08-17 14:23:31,944:INFO:time for single file read [s]: 9.307\n",
      "2018-08-17 14:23:31,947:INFO:reading file /lustre/storeA/project/aerocom/aerocom1/ADM_CALIPSO_TEST/download/AE_OPER_ALD_U_N_2A_20070101T083714679_002772000_003611_0001.DBL\n",
      "2018-08-17 14:23:34,285:INFO:time for single file read [s]: 2.338\n",
      "2018-08-17 14:23:34,289:INFO:reading file /lustre/storeA/project/aerocom/aerocom1/ADM_CALIPSO_TEST/download/AE_OPER_ALD_U_N_2A_20070101T101607479_002771999_003612_0001.DBL\n",
      "2018-08-17 14:23:36,327:INFO:time for single file read [s]: 2.038\n",
      "2018-08-17 14:23:36,330:INFO:reading file /lustre/storeA/project/aerocom/aerocom1/ADM_CALIPSO_TEST/download/AE_OPER_ALD_U_N_2A_20070101T115501779_002772000_003613_0001.DBL\n",
      "2018-08-17 14:23:39,284:INFO:time for single file read [s]: 2.954\n",
      "2018-08-17 14:23:39,293:INFO:reading file /lustre/storeA/project/aerocom/aerocom1/ADM_CALIPSO_TEST/download/AE_OPER_ALD_U_N_2A_20070101T133354579_002772000_003614_0001.DBL\n",
      "2018-08-17 14:23:42,069:INFO:time for single file read [s]: 2.776\n",
      "2018-08-17 14:23:42,078:INFO:reading file /lustre/storeA/project/aerocom/aerocom1/ADM_CALIPSO_TEST/download/AE_OPER_ALD_U_N_2A_20070101T151247389_002771999_003615_0001.DBL\n",
      "2018-08-17 14:23:46,481:INFO:time for single file read [s]: 4.402\n",
      "2018-08-17 14:23:46,484:INFO:reading file /lustre/storeA/project/aerocom/aerocom1/ADM_CALIPSO_TEST/download/AE_OPER_ALD_U_N_2A_20070101T165140199_002772000_003616_0001.DBL\n",
      "2018-08-17 14:23:49,032:INFO:time for single file read [s]: 2.548\n",
      "2018-08-17 14:23:49,034:INFO:reading file /lustre/storeA/project/aerocom/aerocom1/ADM_CALIPSO_TEST/download/AE_OPER_ALD_U_N_2A_20070101T183033750_000803999_003617_0001.DBL\n",
      "2018-08-17 14:23:51,379:INFO:time for single file read [s]: 2.344\n",
      "2018-08-17 14:23:51,384:INFO:reading file /lustre/storeA/project/aerocom/aerocom1/ADM_CALIPSO_TEST/download/AE_OPER_ALD_U_N_2A_20070101T200926549_002772000_003618_0001.DBL\n",
      "2018-08-17 14:23:55,628:INFO:time for single file read [s]: 4.244\n",
      "2018-08-17 14:23:55,631:INFO:reading file /lustre/storeA/project/aerocom/aerocom1/ADM_CALIPSO_TEST/download/AE_OPER_ALD_U_N_2A_20070101T214819360_002772000_003619_0001.DBL\n",
      "2018-08-17 14:23:59,525:INFO:time for single file read [s]: 3.894\n",
      "2018-08-17 14:23:59,533:INFO:reading file /lustre/storeA/project/aerocom/aerocom1/ADM_CALIPSO_TEST/download/AE_OPER_ALD_U_N_2A_20070101T232712169_002772000_003620_0001.DBL\n",
      "2018-08-17 14:24:02,911:INFO:time for single file read [s]: 3.377\n",
      "2018-08-17 14:24:02,913:INFO:overall time for file read [s]: 69.511\n",
      "2018-08-17 14:24:02,913:INFO:size of data object: 79512\n"
     ]
    }
   ],
   "source": [
    "ADM.read(vars_to_read=['ec550aer'])"
   ]
  },
  {
   "cell_type": "markdown",
   "metadata": {},
   "source": [
    "## ADM to XArray"
   ]
  },
  {
   "cell_type": "code",
   "execution_count": 4,
   "metadata": {},
   "outputs": [
    {
     "data": {
      "text/plain": [
       "<xarray.Dataset>\n",
       "Dimensions:  (time: 79512)\n",
       "Coordinates:\n",
       "  * time     (time) datetime64[ns] 2007-01-01T00:22:49.346999884 ...\n",
       "    lat      (time) float64 nan 173.4 173.4 173.4 173.4 173.4 173.4 173.4 ...\n",
       "    lon      (time) float64 nan 72.33 72.33 72.33 72.33 72.33 72.33 72.33 ...\n",
       "    alt      (time) float64 nan 3.047e+04 2.669e+04 2.417e+04 2.164e+04 ...\n",
       "Data variables:\n",
       "    ec550    (time) float64 nan 0.0 0.0 55.44 0.0 0.0 0.0 0.0 0.0 0.0 0.0 ..."
      ]
     },
     "execution_count": 4,
     "metadata": {},
     "output_type": "execute_result"
    }
   ],
   "source": [
    "adm = xr.Dataset.from_dict(dict(\n",
    "    coords = dict(\n",
    "        time =  dict(\n",
    "            dims = 'time', \n",
    "            data = pd.to_datetime(ADM.data[:,ReadAeolusL2bData._TIMEINDEX],unit='s'),\n",
    "            attrs = {'long_name':'time'},\n",
    "        ),\n",
    "        lat =  dict(\n",
    "            dims = 'time', \n",
    "            data = ADM.data[:,ReadAeolusL2bData._LONINDEX],\n",
    "            attrs = {'long_name':'latitude', 'units':'degrees_north'},\n",
    "        ),\n",
    "        lon =  dict(\n",
    "            dims = 'time', \n",
    "            data = ADM.data[:,ReadAeolusL2bData._LATINDEX],\n",
    "            attrs = {'long_name':'longitude', 'units':'degrees_east'},\n",
    "        ),\n",
    "        alt =  dict(\n",
    "            dims = 'time', \n",
    "            data = ADM.data[:,ReadAeolusL2bData._ALTITUDEINDEX],\n",
    "            attrs = {'long_name':'altitude', 'units':'m'},\n",
    "        ),\n",
    "    ),\n",
    "    dims = 'time', \n",
    "    data_vars = dict(\n",
    "        ec550 =  dict(\n",
    "            dims = 'time', \n",
    "            data = ADM.data[:,ReadAeolusL2bData._EC550INDEX],\n",
    "            attrs = {'long_name':'ec550', 'units':'1'},\n",
    "        ),\n",
    "    ),\n",
    "))\n",
    "\n",
    "adm"
   ]
  },
  {
   "cell_type": "markdown",
   "metadata": {},
   "source": [
    "## CAMS50 forecat to XArray"
   ]
  },
  {
   "cell_type": "code",
   "execution_count": 5,
   "metadata": {},
   "outputs": [
    {
     "data": {
      "text/plain": [
       "<xarray.Dataset>\n",
       "Dimensions:                (ilev: 9, lat: 369, lev: 8, lon: 301, time: 121)\n",
       "Coordinates:\n",
       "  * lon                    (lon) float64 -30.0 -29.75 -29.5 -29.25 -29.0 ...\n",
       "  * lat                    (lat) float64 30.0 30.12 30.25 30.38 30.5 30.62 ...\n",
       "  * lev                    (lev) float64 0.9946 0.9838 0.9703 0.9509 0.8932 ...\n",
       "  * ilev                   (ilev) float64 0.9892 0.9784 0.9621 0.9396 0.8756 ...\n",
       "  * time                   (time) datetime64[ns] 2018-06-05 ...\n",
       "Data variables:\n",
       "    P0                     float64 ...\n",
       "    hyam                   (lev) float64 ...\n",
       "    hybm                   (lev) float64 ...\n",
       "    hyai                   (ilev) float64 ...\n",
       "    hybi                   (ilev) float64 ...\n",
       "    SURF_ug_O3             (time, lat, lon) float32 ...\n",
       "    SURF_ug_NO2            (time, lat, lon) float32 ...\n",
       "    SURF_ug_PM25_rh50      (time, lat, lon) float32 ...\n",
       "    SURF_ug_PM10_rh50      (time, lat, lon) float32 ...\n",
       "    SURF_ug_NO             (time, lat, lon) float32 ...\n",
       "    SURF_ug_SO2            (time, lat, lon) float32 ...\n",
       "    SURF_ug_CO             (time, lat, lon) float32 ...\n",
       "    SURF_ug_NH3            (time, lat, lon) float32 ...\n",
       "    SURF_ug_PAN            (time, lat, lon) float32 ...\n",
       "    SURF_ug_NMVOC          (time, lat, lon) float32 ...\n",
       "    SURF_Gm3_POLLEN_BIRCH  (time, lat, lon) float32 ...\n",
       "    SURF_Gm3_POLLEN_OLIVE  (time, lat, lon) float32 ...\n",
       "    SURF_Gm3_POLLEN_GRASS  (time, lat, lon) float32 ...\n",
       "    COLUMN_NO2_k20         (time, lat, lon) float32 ...\n",
       "    COLUMN_O3_k20          (time, lat, lon) float32 ...\n",
       "    COLUMN_CO_k20          (time, lat, lon) float32 ...\n",
       "    COLUMN_HCHO_k20        (time, lat, lon) float32 ...\n",
       "    AOD_550nm              (time, lat, lon) float32 ...\n",
       "    D3_ug_O3               (time, lev, lat, lon) float32 ...\n",
       "    D3_ug_NO2              (time, lev, lat, lon) float32 ...\n",
       "    D3_ug_PM25_wet         (time, lev, lat, lon) float32 ...\n",
       "    D3_ug_PM10_wet         (time, lev, lat, lon) float32 ...\n",
       "    D3_ug_NO               (time, lev, lat, lon) float32 ...\n",
       "    D3_ug_SO2              (time, lev, lat, lon) float32 ...\n",
       "    D3_ug_CO               (time, lev, lat, lon) float32 ...\n",
       "    D3_ug_NH3              (time, lev, lat, lon) float32 ...\n",
       "    D3_ug_PAN              (time, lev, lat, lon) float32 ...\n",
       "    D3_ug_NMVOC            (time, lev, lat, lon) float32 ...\n",
       "Attributes:\n",
       "    vert_coord:         atmosphere_hybrid_sigma_pressure_coordinate\n",
       "    Conventions:        CF-1.6\n",
       "    model:              EMEP_MSC-W\n",
       "    author_of_run:      Unimod group\n",
       "    created_date:       20180606\n",
       "    created_hour:       013056.061\n",
       "    projection:         lon lat\n",
       "    period_type:        hourly\n",
       "    run_label:          CAMS50.201801_EmChem09soa_CAMS50-FORECAST\n",
       "    lastmodified_date:  20180606\n",
       "    lastmodified_hour:  015755.452"
      ]
     },
     "execution_count": 5,
     "metadata": {},
     "output_type": "execute_result"
    }
   ],
   "source": [
    "metproduction = '/lustre/storeB/project/metproduction/products/%s'\n",
    "cams50 = dict(\n",
    "    forecast = metproduction%'cwf_ctm/CWF_12FC-%s_hourInst.nc',\n",
    "    analysis = metproduction%'cwf_ctm/CWF_00AN-%s_hourInst.nc',\n",
    "    reanalysis = metproduction%'cwf_ctm/CWF_00RE-%s_hourInst.nc',\n",
    ")\n",
    "\n",
    "ncfile = cams50['forecast']%'20180606'\n",
    "emep = xr.open_dataset(ncfile)\n",
    "emep"
   ]
  },
  {
   "cell_type": "markdown",
   "metadata": {},
   "source": [
    "## CAST"
   ]
  },
  {
   "cell_type": "markdown",
   "metadata": {},
   "source": [
    "### Only ADM inside the forecast domain"
   ]
  },
  {
   "cell_type": "code",
   "execution_count": 6,
   "metadata": {},
   "outputs": [
    {
     "data": {
      "text/plain": [
       "{'lat': array([30., 76.]), 'lon': array([-30.,  45.])}"
      ]
     },
     "execution_count": 6,
     "metadata": {},
     "output_type": "execute_result"
    }
   ],
   "source": [
    "domain = dict(\n",
    "    lat = emep.lat[[0, -1]].values,\n",
    "    lon = emep.lon[[0, -1]].values,\n",
    ")\n",
    "domain"
   ]
  },
  {
   "cell_type": "code",
   "execution_count": 7,
   "metadata": {},
   "outputs": [
    {
     "data": {
      "text/plain": [
       "<xarray.DataArray (time: 79512)>\n",
       "array([False, False, False, ..., False, False, False])\n",
       "Coordinates:\n",
       "  * time     (time) datetime64[ns] 2007-01-01T00:22:49.346999884 ...\n",
       "    lat      (time) float64 nan 173.4 173.4 173.4 173.4 173.4 173.4 173.4 ...\n",
       "    lon      (time) float64 nan 72.33 72.33 72.33 72.33 72.33 72.33 72.33 ...\n",
       "    alt      (time) float64 nan 3.047e+04 2.669e+04 2.417e+04 2.164e+04 ..."
      ]
     },
     "execution_count": 7,
     "metadata": {},
     "output_type": "execute_result"
    }
   ],
   "source": [
    "in_range = lambda x, k: np.logical_and(x > domain[k][0], x < domain[k][1])\n",
    "in_latlon = lambda x: np.logical_and(in_range(x.lat, 'lat'), in_range(x.lon, 'lon'))\n",
    "in_latlon(adm)"
   ]
  },
  {
   "cell_type": "code",
   "execution_count": 8,
   "metadata": {},
   "outputs": [
    {
     "data": {
      "text/plain": [
       "<xarray.DataArray 'ec550' (time: 2239)>\n",
       "array([0., 0., 0., ..., 0., 0., 0.])\n",
       "Coordinates:\n",
       "  * time     (time) datetime64[ns] 2007-01-01T22:04:55.558000088 ...\n",
       "    lat      (time) float64 63.0 63.0 63.0 63.0 63.0 63.0 63.0 63.0 63.0 ...\n",
       "    lon      (time) float64 44.8 44.8 44.8 44.8 44.8 44.8 44.8 44.8 44.8 ...\n",
       "    alt      (time) float64 3.051e+04 2.672e+04 2.42e+04 2.168e+04 1.978e+04 ...\n",
       "Attributes:\n",
       "    long_name:  ec550\n",
       "    units:      1"
      ]
     },
     "execution_count": 8,
     "metadata": {},
     "output_type": "execute_result"
    }
   ],
   "source": [
    "ec550 = adm.where(in_latlon(adm), drop=True).ec550\n",
    "ec550"
   ]
  },
  {
   "cell_type": "code",
   "execution_count": 9,
   "metadata": {},
   "outputs": [
    {
     "name": "stdout",
     "output_type": "stream",
     "text": [
      "ADM total:  71397\n",
      "In domain:   2239\n"
     ]
    }
   ],
   "source": [
    "print('ADM total: %6d'%adm.ec550.count().values)\n",
    "print('In domain: %6d'%ec550.count())"
   ]
  },
  {
   "cell_type": "markdown",
   "metadata": {},
   "source": [
    "### Collocate"
   ]
  },
  {
   "cell_type": "code",
   "execution_count": 10,
   "metadata": {},
   "outputs": [
    {
     "name": "stdout",
     "output_type": "stream",
     "text": [
      "CPU times: user 1min 46s, sys: 15.4 s, total: 2min 2s\n",
      "Wall time: 2min 23s\n"
     ]
    },
    {
     "data": {
      "text/plain": [
       "<xarray.Dataset>\n",
       "Dimensions:                (adm: 2239, ilev: 9, lev: 8, time: 121)\n",
       "Coordinates:\n",
       "    lon                    (adm) float64 44.75 44.75 44.75 44.75 44.75 44.75 ...\n",
       "    lat                    (adm) float64 63.0 63.0 63.0 63.0 63.0 63.0 63.0 ...\n",
       "  * lev                    (lev) float64 0.9946 0.9838 0.9703 0.9509 0.8932 ...\n",
       "  * ilev                   (ilev) float64 0.9892 0.9784 0.9621 0.9396 0.8756 ...\n",
       "  * time                   (time) datetime64[ns] 2018-06-05 ...\n",
       "  * adm                    (adm) datetime64[ns] 2007-01-01T22:04:55.558000088 ...\n",
       "    alt                    (adm) float64 3.051e+04 2.672e+04 2.42e+04 ...\n",
       "Data variables:\n",
       "    P0                     float64 1.013e+03\n",
       "    hyam                   (lev) float64 0.6 1.8 3.3 5.45 11.85 26.7 33.05 47.85\n",
       "    hybm                   (lev) float64 0.994 0.982 0.967 0.9455 0.8815 ...\n",
       "    hyai                   (ilev) float64 1.2 2.4 4.2 6.7 13.8 29.7 36.4 ...\n",
       "    hybi                   (ilev) float64 0.988 0.976 0.958 0.933 0.862 ...\n",
       "    SURF_ug_O3             (time, adm) float32 48.857006 48.857006 48.857006 ...\n",
       "    SURF_ug_NO2            (time, adm) float32 0.063008204 0.063008204 ...\n",
       "    SURF_ug_PM25_rh50      (time, adm) float32 0.7767691 0.7767691 0.7767691 ...\n",
       "    SURF_ug_PM10_rh50      (time, adm) float32 0.78218985 0.78218985 ...\n",
       "    SURF_ug_NO             (time, adm) float32 0.001132003 0.001132003 ...\n",
       "    SURF_ug_SO2            (time, adm) float32 0.00013706717 0.00013706717 ...\n",
       "    SURF_ug_CO             (time, adm) float32 117.05833 117.05833 117.05833 ...\n",
       "    SURF_ug_NH3            (time, adm) float32 0.0038966378 0.0038966378 ...\n",
       "    SURF_ug_PAN            (time, adm) float32 1.436166 1.436166 1.436166 ...\n",
       "    SURF_ug_NMVOC          (time, adm) float32 13.146687 13.146687 13.146687 ...\n",
       "    SURF_Gm3_POLLEN_BIRCH  (time, adm) float32 1.9319235e-07 1.9319235e-07 ...\n",
       "    SURF_Gm3_POLLEN_OLIVE  (time, adm) float32 6.280421e-14 6.280421e-14 ...\n",
       "    SURF_Gm3_POLLEN_GRASS  (time, adm) float32 6.750094e-12 6.750094e-12 ...\n",
       "    COLUMN_NO2_k20         (time, adm) float32 231.98068 231.98068 231.98068 ...\n",
       "    COLUMN_O3_k20          (time, adm) float32 2837302.8 2837302.8 2837302.8 ...\n",
       "    COLUMN_CO_k20          (time, adm) float32 683936.06 683936.06 683936.06 ...\n",
       "    COLUMN_HCHO_k20        (time, adm) float32 1046.2937 1046.2937 1046.2937 ...\n",
       "    AOD_550nm              (time, adm) float32 0.0 0.0 0.0 0.0 0.0 0.0 0.0 ...\n",
       "    D3_ug_O3               (time, lev, adm) float32 48.857006 48.857006 ...\n",
       "    D3_ug_NO2              (time, lev, adm) float32 0.063008204 0.063008204 ...\n",
       "    D3_ug_PM25_wet         (time, lev, adm) float32 0.7767691 0.7767691 ...\n",
       "    D3_ug_PM10_wet         (time, lev, adm) float32 0.78218985 0.78218985 ...\n",
       "    D3_ug_NO               (time, lev, adm) float32 0.001132003 0.001132003 ...\n",
       "    D3_ug_SO2              (time, lev, adm) float32 0.00013706717 ...\n",
       "    D3_ug_CO               (time, lev, adm) float32 117.05833 117.05833 ...\n",
       "    D3_ug_NH3              (time, lev, adm) float32 0.0038966378 ...\n",
       "    D3_ug_PAN              (time, lev, adm) float32 1.436166 1.436166 ...\n",
       "    D3_ug_NMVOC            (time, lev, adm) float32 13.146687 13.146687 ...\n",
       "Attributes:\n",
       "    vert_coord:         atmosphere_hybrid_sigma_pressure_coordinate\n",
       "    Conventions:        CF-1.6\n",
       "    model:              EMEP_MSC-W\n",
       "    author_of_run:      Unimod group\n",
       "    created_date:       20180606\n",
       "    created_hour:       013056.061\n",
       "    projection:         lon lat\n",
       "    period_type:        hourly\n",
       "    run_label:          CAMS50.201801_EmChem09soa_CAMS50-FORECAST\n",
       "    lastmodified_date:  20180606\n",
       "    lastmodified_hour:  015755.452"
      ]
     },
     "execution_count": 10,
     "metadata": {},
     "output_type": "execute_result"
    }
   ],
   "source": [
    "lon = ec550.lon.rename({'time':'adm'})\n",
    "lat = ec550.lat.rename({'time':'adm'})\n",
    "%time aod550 = emep.load().sel(lon=lon, lat=lat, method='nearest')\n",
    "aod550"
   ]
  }
 ],
 "metadata": {
  "kernelspec": {
   "display_name": "Python 3",
   "language": "python",
   "name": "python3"
  },
  "language_info": {
   "codemirror_mode": {
    "name": "ipython",
    "version": 3
   },
   "file_extension": ".py",
   "mimetype": "text/x-python",
   "name": "python",
   "nbconvert_exporter": "python",
   "pygments_lexer": "ipython3",
   "version": "3.6.6"
  }
 },
 "nbformat": 4,
 "nbformat_minor": 2
}
