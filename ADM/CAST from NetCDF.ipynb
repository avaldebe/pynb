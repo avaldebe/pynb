{
 "cells": [
  {
   "cell_type": "markdown",
   "metadata": {},
   "source": [
    "# CAST\n",
    "Collocated\n",
    "Allong\n",
    "Satellite\n",
    "Track\n",
    "\n",
    "### ToDo\n",
    "- [ ] read model data into a xarray dataset\n",
    "- [ ] read ADM data into a xarray dataset\n",
    "- collocate model to ADM grid\n",
    "  - [ ] lon/lat\n",
    "  - [ ] time (not using right now)\n",
    "  - [ ] altitude/elevation"
   ]
  },
  {
   "cell_type": "markdown",
   "metadata": {},
   "source": [
    "# Conda environment at PPI/lustre\n",
    "\n",
    "```bash\n",
    "# load right (ana)conda module\n",
    "module load aerocom/anaconda3-stable\n",
    "\n",
    "# start notebook\n",
    "jupyter lab --no-browser --ip=$HOSTNAME.met.no\n",
    "\n",
    "```"
   ]
  },
  {
   "cell_type": "code",
   "execution_count": 1,
   "metadata": {},
   "outputs": [
    {
     "name": "stdout",
     "output_type": "stream",
     "text": [
      "numpy 1.15.4\n",
      "pandas 0.23.4\n",
      "xarray 0.10.9\n"
     ]
    }
   ],
   "source": [
    "import numpy as np\n",
    "import pandas as pd\n",
    "import xarray as xr\n",
    "from glob import glob\n",
    "\n",
    "for m in [np, pd, xr]:\n",
    "    print(m.__name__, m.__version__)"
   ]
  },
  {
   "cell_type": "markdown",
   "metadata": {},
   "source": [
    "# Read NetCDF files\n",
    "list the emep forecast and adm orbit files for a given date"
   ]
  },
  {
   "cell_type": "code",
   "execution_count": 2,
   "metadata": {},
   "outputs": [
    {
     "name": "stdout",
     "output_type": "stream",
     "text": [
      "emepmodel /lustre/storeB/project/fou/kl/emep/ModelRuns/ADM_Aeolus/EMEPmodel/CWF_12ST-20181231_hourInst.nc\n",
      "admaeolus /lustre/storeB/project/fou/kl/admaeolus/data.rev.2A02/netcdf/2018-12/AE_OPER_ALD_U_N_2A_20181231T053126033_005423993_002067_0001.DBL.nc\n",
      "admaeolus /lustre/storeB/project/fou/kl/admaeolus/data.rev.2A02/netcdf/2018-12/AE_OPER_ALD_U_N_2A_20181231T001202031_005423993_002063_0001.DBL.nc\n",
      "admaeolus /lustre/storeB/project/fou/kl/admaeolus/data.rev.2A02/netcdf/2018-12/AE_OPER_ALD_U_N_2A_20181231T130038029_005411999_002072_0001.DBL.nc\n",
      "admaeolus /lustre/storeB/project/fou/kl/admaeolus/data.rev.2A02/netcdf/2018-12/AE_OPER_ALD_U_N_2A_20181231T195450027_004740011_002076_0001.DBL.nc\n",
      "admaeolus /lustre/storeB/project/fou/kl/admaeolus/data.rev.2A02/netcdf/2018-12/AE_OPER_ALD_U_N_2A_20181231T225502032_005400005_002078_0001.DBL.nc\n",
      "admaeolus /lustre/storeB/project/fou/kl/admaeolus/data.rev.2A02/netcdf/2018-12/AE_OPER_ALD_U_N_2A_20181231T113102030_005400006_002071_0001.DBL.nc\n",
      "admaeolus /lustre/storeB/project/fou/kl/admaeolus/data.rev.2A02/netcdf/2018-12/AE_OPER_ALD_U_N_2A_20181231T014214030_008363990_002064_0001.DBL.nc\n",
      "admaeolus /lustre/storeB/project/fou/kl/admaeolus/data.rev.2A02/netcdf/2018-12/AE_OPER_ALD_U_N_2A_20181231T143026022_005460014_002073_0001.DBL.nc\n",
      "admaeolus /lustre/storeB/project/fou/kl/admaeolus/data.rev.2A02/netcdf/2018-12/AE_OPER_ALD_U_N_2A_20181231T100126032_005400006_002070_0001.DBL.nc\n",
      "admaeolus /lustre/storeB/project/fou/kl/admaeolus/data.rev.2A02/netcdf/2018-12/AE_OPER_ALD_U_N_2A_20181231T083138019_005412019_002069_0001.DBL.nc\n",
      "admaeolus /lustre/storeB/project/fou/kl/admaeolus/data.rev.2A02/netcdf/2018-12/AE_OPER_ALD_U_N_2A_20181231T213850031_004583994_002077_0001.DBL.nc\n",
      "admaeolus /lustre/storeB/project/fou/kl/admaeolus/data.rev.2A02/netcdf/2018-12/AE_OPER_ALD_U_N_2A_20181231T070126020_005424013_002068_0001.DBL.nc\n"
     ]
    }
   ],
   "source": [
    "lustre = '/lustre/storeB/project/fou/kl/%s'\n",
    "archive = dict(\n",
    "    emepmodel = lustre%'emep/ModelRuns/ADM_Aeolus/EMEPmodel/CWF_12ST-%Y%m%d_hourInst.nc',\n",
    "    topomodel = lustre%'emep/ModelRuns/ADM_Aeolus/EMEPmodel/MACC14_topo.nc',\n",
    "    admaeolus = lustre%'admaeolus/data.rev.2A02/netcdf/2018-12/AE_OPER_ALD_U_N_2A_%Y%m%d*.DBL.nc',\n",
    ")\n",
    "\n",
    "date = pd.to_datetime('20181231')\n",
    "ncfile = dict(\n",
    "    emepmodel = date.strftime(archive['emepmodel']),\n",
    "    topomodel = None, # waiting for topo file for MACC14 domain\n",
    "    admaeolus = glob(date.strftime(archive['admaeolus'])),\n",
    ")\n",
    "\n",
    "for k, v in ncfile.items():\n",
    "    if isinstance(v, str):\n",
    "        print(k, v)\n",
    "    elif isinstance(v, list):\n",
    "        for f in v:\n",
    "            print(k, f)\n"
   ]
  },
  {
   "cell_type": "markdown",
   "metadata": {},
   "source": [
    "## EMEP forecat\n",
    "model `Z_MID` + `topography`"
   ]
  },
  {
   "cell_type": "code",
   "execution_count": 3,
   "metadata": {},
   "outputs": [
    {
     "data": {
      "text/plain": [
       "<xarray.Dataset>\n",
       "Dimensions:         (ilev: 21, lat: 369, lev: 20, lon: 301, time: 25)\n",
       "Coordinates:\n",
       "  * lon             (lon) float64 -30.0 -29.75 -29.5 -29.25 ... 44.5 44.75 45.0\n",
       "  * lat             (lat) float64 30.0 30.12 30.25 30.38 ... 75.75 75.88 76.0\n",
       "  * lev             (lev) float64 0.1167 0.1528 0.1888 ... 0.9703 0.9838 0.9946\n",
       "  * ilev            (ilev) float64 0.09869 0.1347 0.1708 ... 0.9784 0.9892 1.0\n",
       "  * time            (time) datetime64[ns] 2018-12-31 ... 2019-01-01\n",
       "    alt             (time, lev, lat, lon) float32 ...\n",
       "Data variables:\n",
       "    P0              float64 ...\n",
       "    hyam            (lev) float64 ...\n",
       "    hybm            (lev) float64 ...\n",
       "    hyai            (ilev) float64 ...\n",
       "    hybi            (ilev) float64 ...\n",
       "    AOD_350nm       (time, lat, lon) float32 ...\n",
       "    AOD_DUST_350nm  (time, lat, lon) float32 ...\n",
       "    AOD_SS_350nm    (time, lat, lon) float32 ...\n",
       "    AOD_SIA_350nm   (time, lat, lon) float32 ...\n",
       "    AOD_500nm       (time, lat, lon) float32 ...\n",
       "    AOD_550nm       (time, lat, lon) float32 ...\n",
       "    EXT_350nm       (time, lev, lat, lon) float32 ...\n",
       "Attributes:\n",
       "    vert_coord:         atmosphere_hybrid_sigma_pressure_coordinate\n",
       "    Conventions:        CF-1.6\n",
       "    model:              EMEP_MSC-W\n",
       "    author_of_run:      Unimod group\n",
       "    created_date:       20181231\n",
       "    created_hour:       013051.168\n",
       "    projection:         lon lat\n",
       "    period_type:        hourly\n",
       "    run_label:          ADM.201802_EmChem09soa_ADM-FORECAST\n",
       "    lastmodified_date:  20181231\n",
       "    lastmodified_hour:  013821.369"
      ]
     },
     "execution_count": 3,
     "metadata": {},
     "output_type": "execute_result"
    }
   ],
   "source": [
    "emep = xr.open_dataset(ncfile['emepmodel']).rename({\"Z_MID\":\"alt\"}).set_coords(\"alt\")\n",
    "if ncfile['topomodel']:\n",
    "    topo = xr.open_dataset(ncfile['topomodel']).topography.isel(time=0)\n",
    "    topo[\"lon\"] = emep.lon\n",
    "    topo[\"lat\"] = emep.lat\n",
    "    emep[\"alt\"] += topo\n",
    "emep"
   ]
  },
  {
   "cell_type": "markdown",
   "metadata": {},
   "source": [
    "## ADM observations"
   ]
  },
  {
   "cell_type": "code",
   "execution_count": 4,
   "metadata": {},
   "outputs": [
    {
     "data": {
      "text/plain": [
       "<xarray.Dataset>\n",
       "Dimensions:    (point: 10872)\n",
       "Coordinates:\n",
       "  * point      (point) int64 0 1 2 3 4 5 ... 10866 10867 10868 10869 10870 10871\n",
       "Data variables:\n",
       "    time       (point) datetime64[ns] ...\n",
       "    ec355aer   (point) float64 ...\n",
       "    bs355aer   (point) float64 ...\n",
       "    latitude   (point) float64 ...\n",
       "    longitude  (point) float64 ...\n",
       "    altitude   (point) float64 ...\n",
       "Attributes:\n",
       "    product:              AE_OPER_ALD_U_N_2A_20181231T053126033_005423993_002...\n",
       "    proc_stage:           N\n",
       "    ref_doc:              AE-IF-DLR-L2A-004 03.05\n",
       "    acquisition_station:  SVA_AS              \n",
       "    proc_center:          APF   \n",
       "    proc_time:            599556024.0\n",
       "    software_ver:         ADM_L2aP/03.06\n",
       "    baseline:             2A02                         \n",
       "    sensing_start:        599549486.033888\n",
       "    sensing_stop:         599554910.02745\n",
       "    phase:                1\n",
       "    cycle:                18\n",
       "    rel_orbit:            56\n",
       "    abs_orbit:            2067\n",
       "    state_vector_time:    599549486.231889\n",
       "    delta_ut1:            0.0\n",
       "    x_position:           -366966.191\n",
       "    y_position:           742688.589\n",
       "    z_position:           6627400.781\n",
       "    x_velocity:           7708.005429\n",
       "    y_velocity:           1012.1220099999999\n",
       "    z_velocity:           311.646521\n",
       "    vector_source:        GP\n",
       "    utc_sbt_time:         -946641600.0\n",
       "    sat_binary_time:      0\n",
       "    clock_step:           0\n",
       "    leap_utc:             1001030400.0\n",
       "    leap_sign:            1\n",
       "    leap_err:             1\n",
       "    product_err:          0\n",
       "    tot_size:             14892389\n",
       "    sph_size:             5732\n",
       "    num_dsd:              18\n",
       "    dsd_size:             288\n",
       "    num_data_sets:        13\n",
       "    Aeolus_Retrieval:     sca"
      ]
     },
     "execution_count": 4,
     "metadata": {},
     "output_type": "execute_result"
    }
   ],
   "source": [
    "adm = xr.open_dataset(ncfile['admaeolus'][0])\n",
    "adm"
   ]
  },
  {
   "cell_type": "markdown",
   "metadata": {},
   "source": [
    "# CAST"
   ]
  },
  {
   "cell_type": "markdown",
   "metadata": {},
   "source": [
    "### Discard ADM outside the forecast domain"
   ]
  },
  {
   "cell_type": "code",
   "execution_count": 5,
   "metadata": {},
   "outputs": [
    {
     "data": {
      "text/plain": [
       "{'time': array(['2018-12-31T00:00:00.000000000', '2019-01-01T00:00:00.000000000'],\n",
       "       dtype='datetime64[ns]'),\n",
       " 'latitude': array([30., 76.]),\n",
       " 'longitude': array([-30.,  45.]),\n",
       " 'altitude': [0.0, array(15571.04394531)]}"
      ]
     },
     "execution_count": 5,
     "metadata": {},
     "output_type": "execute_result"
    }
   ],
   "source": [
    "domain = dict(\n",
    "    time = emep.time[[0, -1]].values,\n",
    "    latitude = emep.lat[[0, -1]].values,\n",
    "    longitude = emep.lon[[0, -1]].values,\n",
    "    altitude = [0.0, emep.alt.isel(lev=0).max().values],\n",
    ")\n",
    "domain"
   ]
  },
  {
   "cell_type": "code",
   "execution_count": 6,
   "metadata": {},
   "outputs": [
    {
     "name": "stdout",
     "output_type": "stream",
     "text": [
      "#points:     8137\n",
      "#latlon:     1048\n",
      "#domain:      930\n",
      "#forecast:    930\n"
     ]
    }
   ],
   "source": [
    "in_range = lambda x, k: np.logical_and(x[k] >= domain[k][0], x[k] <= domain[k][1])\n",
    "in_latlon = lambda x: np.logical_and(in_range(x, 'latitude'), in_range(x, 'longitude'))\n",
    "in_domain = lambda x: np.logical_and(in_latlon(x), in_range(x, 'altitude'))\n",
    "in_forecast=lambda x: np.logical_and(in_domain(x), in_range(x, 'time'))\n",
    "\n",
    "mask = in_forecast(adm)\n",
    "print('#points:   %6d'%adm.ec355aer.count())\n",
    "print('#latlon:   %6d'%in_latlon(adm).sum())\n",
    "print('#domain:   %6d'%in_domain(adm).sum())\n",
    "print('#forecast: %6d'%mask.sum())"
   ]
  },
  {
   "cell_type": "markdown",
   "metadata": {},
   "source": [
    "### Filtered ADM"
   ]
  },
  {
   "cell_type": "code",
   "execution_count": 7,
   "metadata": {},
   "outputs": [
    {
     "data": {
      "text/plain": [
       "<xarray.DataArray 'ec355aer' (point: 930)>\n",
       "array([0., 0., 0., ..., 0., 0., 0.])\n",
       "Coordinates:\n",
       "  * point    (point) int64 483 484 485 486 487 488 ... 1886 1887 1888 1889 1890\n",
       "Attributes:\n",
       "    long_name:      extinction @ 355nm\n",
       "    standard_name:  volume_extinction_coefficient_in_air_due_to_ambient_aeros...\n",
       "    units:          1/m"
      ]
     },
     "execution_count": 7,
     "metadata": {},
     "output_type": "execute_result"
    }
   ],
   "source": [
    "adm = adm.where(mask, drop=True)\n",
    "adm.ec355aer"
   ]
  },
  {
   "cell_type": "markdown",
   "metadata": {},
   "source": [
    "### Collocated forecast"
   ]
  },
  {
   "cell_type": "code",
   "execution_count": 8,
   "metadata": {},
   "outputs": [],
   "source": [
    "collocate = lambda model, obs: model.load().sel(\n",
    "    lon=obs.longitude,\n",
    "    lat=obs.latitude,\n",
    "#   alt=obs.altitude,\n",
    "    time=obs.time,\n",
    "    method='nearest'\n",
    ")"
   ]
  },
  {
   "cell_type": "code",
   "execution_count": 9,
   "metadata": {},
   "outputs": [
    {
     "name": "stdout",
     "output_type": "stream",
     "text": [
      "CPU times: user 9.59 s, sys: 584 ms, total: 10.2 s\n",
      "Wall time: 12.3 s\n"
     ]
    },
    {
     "data": {
      "text/plain": [
       "<xarray.DataArray 'EXT_350nm' (point: 930, lev: 20)>\n",
       "array([[0.000000e+00, 6.429294e-07, 7.472374e-07, ..., 1.275695e-05,\n",
       "        1.205742e-05, 1.384416e-05],\n",
       "       [0.000000e+00, 6.429294e-07, 7.472374e-07, ..., 1.275695e-05,\n",
       "        1.205742e-05, 1.384416e-05],\n",
       "       [0.000000e+00, 6.430570e-07, 7.474702e-07, ..., 1.284229e-05,\n",
       "        1.224197e-05, 1.288030e-05],\n",
       "       ...,\n",
       "       [0.000000e+00, 1.082370e-06, 1.132606e-06, ..., 4.783900e-05,\n",
       "        5.847721e-05, 6.758281e-05],\n",
       "       [0.000000e+00, 1.082370e-06, 1.132606e-06, ..., 4.783900e-05,\n",
       "        5.847721e-05, 6.758281e-05],\n",
       "       [0.000000e+00, 1.082370e-06, 1.132606e-06, ..., 4.783900e-05,\n",
       "        5.847721e-05, 6.758281e-05]], dtype=float32)\n",
       "Coordinates:\n",
       "    lon      (point) float64 24.5 24.5 24.25 24.25 24.25 ... 4.75 4.75 4.75 4.75\n",
       "    lat      (point) float64 75.38 75.38 75.38 75.38 ... 30.25 30.25 30.25 30.25\n",
       "  * lev      (lev) float64 0.1167 0.1528 0.1888 0.2271 ... 0.9703 0.9838 0.9946\n",
       "    time     (point) datetime64[ns] 2018-12-31T06:00:00 ... 2018-12-31T06:00:00\n",
       "    alt      (point, lev) float32 14266.854 12584.203 ... 133.32991 44.16372\n",
       "  * point    (point) int64 483 484 485 486 487 488 ... 1886 1887 1888 1889 1890\n",
       "Attributes:\n",
       "    long_name:           EXT_350nm\n",
       "    units:               1/m\n",
       "    class:               EXT:GROUP\n",
       "    current_date_first:  [2018   12   31    0]\n",
       "    numberofrecords:     25\n",
       "    current_date_last:   [2019    1    1    0]"
      ]
     },
     "execution_count": 9,
     "metadata": {},
     "output_type": "execute_result"
    }
   ],
   "source": [
    "%time ec355emep = collocate(emep.EXT_350nm, adm)\n",
    "\n",
    "ec355emep"
   ]
  },
  {
   "cell_type": "code",
   "execution_count": 10,
   "metadata": {},
   "outputs": [],
   "source": [
    "find_nearest = lambda arr, v: (np.abs(arr - v)).argmin()\n",
    "find_level = lambda p: find_nearest(ec355emep.alt.sel(point=p), adm.altitude.sel(point=p)).values"
   ]
  },
  {
   "cell_type": "code",
   "execution_count": 11,
   "metadata": {},
   "outputs": [
    {
     "name": "stdout",
     "output_type": "stream",
     "text": [
      "CPU times: user 3.76 s, sys: 20 ms, total: 3.78 s\n",
      "Wall time: 3.77 s\n"
     ]
    },
    {
     "data": {
      "text/plain": [
       "<xarray.DataArray (point: 930)>\n",
       "array([ 0,  1,  2, ..., 13, 14, 15])\n",
       "Coordinates:\n",
       "  * point    (point) int64 483 484 485 486 487 488 ... 1886 1887 1888 1889 1890"
      ]
     },
     "execution_count": 11,
     "metadata": {},
     "output_type": "execute_result"
    }
   ],
   "source": [
    "%time lev = xr.DataArray([find_level(p) for p in ec355emep.point], dims='point', coords={'point':ec355emep.point})\n",
    "\n",
    "lev"
   ]
  },
  {
   "cell_type": "code",
   "execution_count": 12,
   "metadata": {},
   "outputs": [
    {
     "name": "stdout",
     "output_type": "stream",
     "text": [
      "CPU times: user 4 ms, sys: 0 ns, total: 4 ms\n",
      "Wall time: 3.01 ms\n"
     ]
    },
    {
     "data": {
      "text/plain": [
       "<xarray.DataArray 'EXT_350nm' (point: 930)>\n",
       "array([0.000000e+00, 6.429294e-07, 7.474702e-07, ..., 8.169754e-05,\n",
       "       8.227955e-05, 7.572624e-05], dtype=float32)\n",
       "Coordinates:\n",
       "    lon      (point) float64 24.5 24.5 24.25 24.25 24.25 ... 4.75 4.75 4.75 4.75\n",
       "    lat      (point) float64 75.38 75.38 75.38 75.38 ... 30.25 30.25 30.25 30.25\n",
       "    lev      (point) float64 0.1167 0.1528 0.1888 ... 0.8549 0.8932 0.9252\n",
       "    time     (point) datetime64[ns] 2018-12-31T06:00:00 ... 2018-12-31T06:00:00\n",
       "    alt      (point) float32 14266.854 12584.203 11244.549 ... 927.3764 638.9324\n",
       "  * point    (point) int64 483 484 485 486 487 488 ... 1886 1887 1888 1889 1890\n",
       "Attributes:\n",
       "    long_name:           EXT_350nm\n",
       "    units:               1/m\n",
       "    class:               EXT:GROUP\n",
       "    current_date_first:  [2018   12   31    0]\n",
       "    numberofrecords:     25\n",
       "    current_date_last:   [2019    1    1    0]"
      ]
     },
     "execution_count": 12,
     "metadata": {},
     "output_type": "execute_result"
    }
   ],
   "source": [
    "%time ec355emep = ec355emep.isel(lev=lev)\n",
    "\n",
    "ec355emep"
   ]
  }
 ],
 "metadata": {
  "kernelspec": {
   "display_name": "Python 3",
   "language": "python",
   "name": "python3"
  },
  "language_info": {
   "codemirror_mode": {
    "name": "ipython",
    "version": 3
   },
   "file_extension": ".py",
   "mimetype": "text/x-python",
   "name": "python",
   "nbconvert_exporter": "python",
   "pygments_lexer": "ipython3",
   "version": "3.6.7"
  }
 },
 "nbformat": 4,
 "nbformat_minor": 2
}
